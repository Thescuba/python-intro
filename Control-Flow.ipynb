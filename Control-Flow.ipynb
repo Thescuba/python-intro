{
 "cells": [
  {
   "cell_type": "markdown",
   "metadata": {},
   "source": [
    "# 3 Control Flow\n",
    "Here we will learn to add more functionality to our code by using conditonal staements and loops. In this lesson we will be going over the many different ways to control the flow of your code.\n",
    "\n",
    "## 3.1 Conditional Statements\n",
    "Lets start with a real world example, say a customer is use a mobile app payment app where they spend the credit they have in there wallet. The user wants to make sure that they always have funds so they want the app to automatically transfer funds from their bank account to there mobile wallet when they have less than $5 in credit. This can easily be done in code using an <code>if</code> statenent. An <code>if</code> statement is a conditional statement that runs or skips code based on whether a condition is true or false. The example is below. \n"
   ]
  },
  {
   "cell_type": "code",
   "execution_count": 1,
   "metadata": {},
   "outputs": [
    {
     "ename": "NameError",
     "evalue": "name 'phone_balance' is not defined",
     "output_type": "error",
     "traceback": [
      "\u001b[1;31m---------------------------------------------------------------------------\u001b[0m",
      "\u001b[1;31mNameError\u001b[0m                                 Traceback (most recent call last)",
      "\u001b[1;32m<ipython-input-1-8e890685b738>\u001b[0m in \u001b[0;36m<module>\u001b[1;34m\u001b[0m\n\u001b[1;32m----> 1\u001b[1;33m \u001b[1;32mif\u001b[0m \u001b[0mphone_balance\u001b[0m \u001b[1;33m<\u001b[0m \u001b[1;36m5\u001b[0m\u001b[1;33m:\u001b[0m\u001b[1;33m\u001b[0m\u001b[1;33m\u001b[0m\u001b[0m\n\u001b[0m\u001b[0;32m      2\u001b[0m     \u001b[0mphone_balance\u001b[0m \u001b[1;33m+=\u001b[0m \u001b[1;36m10\u001b[0m\u001b[1;33m\u001b[0m\u001b[1;33m\u001b[0m\u001b[0m\n\u001b[0;32m      3\u001b[0m     \u001b[0mbank_balance\u001b[0m \u001b[1;33m-=\u001b[0m \u001b[1;36m10\u001b[0m\u001b[1;33m\u001b[0m\u001b[1;33m\u001b[0m\u001b[0m\n",
      "\u001b[1;31mNameError\u001b[0m: name 'phone_balance' is not defined"
     ]
    }
   ],
   "source": [
    "if phone_balance < 5:\n",
    "    phone_balance += 10\n",
    "    bank_balance -= 10"
   ]
  },
  {
   "cell_type": "markdown",
   "metadata": {},
   "source": [
    "Let's break this down.\n",
    "\n",
    "An <code>if</code> statement starts with the <code>if</code> keyword, followed by the condition to be checked, in this case phone_balance < 5, and then a colon. The condition is specified in a boolean expression that evaluates to either True or False.\n",
    "\n",
    "After this line is an indented block of code to be executed if that condition is true. Here, the lines that increment phone_balance and decrement bank_balance only execute if it is true that phone_balance is less than 5. If not, the code in this if block is simply skipped.\n",
    "\n",
    "Use Comparison Operators in Conditional Statements! We have just seen how to run a block of code when a condition is true but say we wanted a different condition to look for when the first condition is false. \n",
    "\n",
    "\n",
    "If, Elif, Else\n",
    "In addition to the if clause, there are two other optional clauses often used with an if statement. For example:\n"
   ]
  },
  {
   "cell_type": "code",
   "execution_count": null,
   "metadata": {},
   "outputs": [],
   "source": [
    "if season == 'spring':\n",
    "    print('plant the garden!')\n",
    "elif season == 'summer':\n",
    "    print('water the garden!')\n",
    "elif season == 'fall':\n",
    "    print('harvest the garden!')\n",
    "elif season == 'winter':\n",
    "    print('stay indoors!')\n",
    "else:\n",
    "    print('unrecognized season')"
   ]
  },
  {
   "cell_type": "markdown",
   "metadata": {},
   "source": [
    "The code allows use to check for which season it is and from there we can decide which line of code to run!"
   ]
  },
  {
   "cell_type": "markdown",
   "metadata": {},
   "source": [
    "1. <code>if</code>: An <code>if</code> statement must always start with an <code>if</code> clause, which contains the first condition that is checked. If this evaluates to True, Python runs the code indented in this if block and then skips to the rest of the code after the <code>if</code> statement.\n",
    "\n",
    "2. <code>elif</code>: elif is short for \"else if.\" An elif clause is used to check for an additional condition if the conditions in the previous clauses in the if statement evaluate to False. As you can see in the example, you can have multiple elif blocks to handle different situations.\n",
    "\n",
    "3. <code>else</code>: Last is the else clause, which must come at the end of an <code>if</code> statement if used. This clause doesn't require a condition. The code in an else block is run if all conditions above that in the <code>if</code> statement evaluate to False."
   ]
  },
  {
   "cell_type": "code",
   "execution_count": 6,
   "metadata": {},
   "outputs": [
    {
     "name": "stdout",
     "output_type": "stream",
     "text": [
      "Since you're from CA, your total cost is $21.50.\n"
     ]
    }
   ],
   "source": [
    "# a sample state and purchase amount\n",
    "state = 'CA'\n",
    "purchase_amount = 20.00    \n",
    "total_cost = 0\n",
    "\n",
    "if state == 'CA':\n",
    "    tax_amount = .075\n",
    "    total_cost = purchase_amount*(1+tax_amount)\n",
    "\n",
    "elif state == 'MN':\n",
    "    tax_amount = .095\n",
    "    total_cost = purchase_amount*(1+tax_amount)\n",
    "\n",
    "elif state == 'NY':\n",
    "    tax_amount = .089\n",
    "    total_cost = purchase_amount*(1+tax_amount)\n",
    "\n",
    "\n",
    "print(f\"Since you're from {state}, your total cost is ${total_cost:.2f}.\")"
   ]
  },
  {
   "cell_type": "markdown",
   "metadata": {},
   "source": [
    "In the code above our state was 'CA' so we have a tax ammount of 0.075 and we finished the total_cost with a value of  $21.50"
   ]
  },
  {
   "cell_type": "markdown",
   "metadata": {},
   "source": [
    "## Quiz 3.1 \n",
    "### Quiz 3.1 Conditional Statements\n",
    "Guess My Number"
   ]
  },
  {
   "cell_type": "code",
   "execution_count": null,
   "metadata": {},
   "outputs": [],
   "source": [
    "'''\n",
    "You decide you want to play a game where you are hiding \n",
    "a number from someone.  Store this number in a variable \n",
    "called 'answer'.  Another user provides a number called\n",
    "'guess'.  By comparing guess to answer, you inform the user\n",
    "if their guess is too high or too low.\n",
    "\n",
    "# Fill in the conditionals below to inform the user about how\n",
    "their guess compares to the answer.\n",
    "'''\n",
    "answer = #provide answer\n",
    "guess = #provide guess\n",
    "\n",
    "if #provide conditional\n",
    "    result = \"Oops!  Your guess was too low.\"\n",
    "elif #provide conditional\n",
    "    result = \"Oops!  Your guess was too high.\"\n",
    "elif #provide conditional\n",
    "    result = \"Nice!  Your guess matched the answer!\"\n",
    "\n",
    "print(result)"
   ]
  },
  {
   "cell_type": "code",
   "execution_count": null,
   "metadata": {},
   "outputs": [],
   "source": [
    "### Quiz 3.1 Conditional Statements Solution"
   ]
  },
  {
   "cell_type": "code",
   "execution_count": null,
   "metadata": {},
   "outputs": [],
   "source": [
    "answer = 5\n",
    "guess = 10\n",
    "\n",
    "if guess<answer:\n",
    "    result = \"Oops!  Your guess was too low.\"\n",
    "elif guess>answer:\n",
    "    result = \"Oops!  Your guess was too high.\"\n",
    "elif guess == answer:\n",
    "    result = \"Nice!  Your guess matched the answer!\"\n",
    "\n",
    "print(result)"
   ]
  }
 ],
 "metadata": {
  "kernelspec": {
   "display_name": "Python 3",
   "language": "python",
   "name": "python3"
  },
  "language_info": {
   "codemirror_mode": {
    "name": "ipython",
    "version": 3
   },
   "file_extension": ".py",
   "mimetype": "text/x-python",
   "name": "python",
   "nbconvert_exporter": "python",
   "pygments_lexer": "ipython3",
   "version": "3.7.1"
  }
 },
 "nbformat": 4,
 "nbformat_minor": 2
}
