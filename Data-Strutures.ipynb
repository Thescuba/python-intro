{
 "cells": [
  {
   "cell_type": "markdown",
   "metadata": {},
   "source": [
    "# Data Structures in Python\n",
    "### In the part one we have worked with indiviual data types such as integers, floats, Booleans and strings. The types of Data Structures we will cover in the section will be: List, Tuples, Sets, Dictionaries and Compound Data Structures. Along with datatype we will also cover Operators: Membership, Identity. Lets get started!"
   ]
  },
  {
   "cell_type": "markdown",
   "metadata": {},
   "source": [
    "### List"
   ]
  },
  {
   "cell_type": "markdown",
   "metadata": {},
   "source": [
    "In lesson 1 we have seen individual pieces of data like a string or a number but python really shines when we work with something called containers of data, which contain other data types and even other containers. The first container we will talk about are list. List are  mutable order sequences of elements. Mutable mean that the object can changed after it is created while an immutable object can not. Let see and example of list."
   ]
  },
  {
   "cell_type": "code",
   "execution_count": 1,
   "metadata": {},
   "outputs": [],
   "source": [
    "months = ['January', 'February', 'March', 'April', 'May', 'June', 'July','August', 'September', 'October','November', 'December']"
   ]
  },
  {
   "cell_type": "markdown",
   "metadata": {},
   "source": [
    "We have a list of string where each element in the list is a month of the year. A list is defined using squared brackets and each element is separated by a common. In python a list is defined using zero based indexing this mean that an elements index is described by how far the element is from the beginning of the list. To retrieve the data at and index value we use the square brackets. The example to get the first element of months below. We choose index 0 the first element is always 0 away from the beinging of the list. Another useful trick is to be able to index from the end of the list instead of the front. We use the negitive sign to moved from the end where the last element in represented by -1."
   ]
  },
  {
   "cell_type": "code",
   "execution_count": 2,
   "metadata": {},
   "outputs": [
    {
     "name": "stdout",
     "output_type": "stream",
     "text": [
      "January\n",
      "Devember\n"
     ]
    }
   ],
   "source": [
    "print('First month in months: ', months[0])\n",
    "print('Last month in months:', months[-1])"
   ]
  },
  {
   "cell_type": "markdown",
   "metadata": {},
   "source": [
    "For a quick quiz Try to return the 6th month and the second to last month in months! "
   ]
  },
  {
   "cell_type": "code",
   "execution_count": null,
   "metadata": {},
   "outputs": [],
   "source": []
  },
  {
   "cell_type": "code",
   "execution_count": null,
   "metadata": {},
   "outputs": [],
   "source": [
    "# print out 6th month\n",
    "\n",
    "# print out last month"
   ]
  },
  {
   "cell_type": "markdown",
   "metadata": {},
   "source": [
    "A common mistake may be to use use the lengh of a list as an index but there is one problem len of months will be 12 but index 12 represents the 13th element. What do you think will happen when we run the code below?"
   ]
  },
  {
   "cell_type": "code",
   "execution_count": 4,
   "metadata": {},
   "outputs": [
    {
     "name": "stdout",
     "output_type": "stream",
     "text": [
      "length of months 12\n"
     ]
    }
   ],
   "source": [
    "n = len(months)\n",
    "print('length of months', n)"
   ]
  },
  {
   "cell_type": "code",
   "execution_count": 5,
   "metadata": {},
   "outputs": [
    {
     "ename": "IndexError",
     "evalue": "list index out of range",
     "output_type": "error",
     "traceback": [
      "\u001b[1;31m---------------------------------------------------------------------------\u001b[0m",
      "\u001b[1;31mIndexError\u001b[0m                                Traceback (most recent call last)",
      "\u001b[1;32m<ipython-input-5-92783b15ad5e>\u001b[0m in \u001b[0;36m<module>\u001b[1;34m\u001b[0m\n\u001b[0;32m      1\u001b[0m \u001b[1;31m# month at index 12\u001b[0m\u001b[1;33m\u001b[0m\u001b[1;33m\u001b[0m\u001b[1;33m\u001b[0m\u001b[0m\n\u001b[1;32m----> 2\u001b[1;33m \u001b[0mprint\u001b[0m\u001b[1;33m(\u001b[0m\u001b[0mmonths\u001b[0m\u001b[1;33m[\u001b[0m\u001b[0mn\u001b[0m\u001b[1;33m]\u001b[0m\u001b[1;33m)\u001b[0m\u001b[1;33m\u001b[0m\u001b[1;33m\u001b[0m\u001b[0m\n\u001b[0m",
      "\u001b[1;31mIndexError\u001b[0m: list index out of range"
     ]
    }
   ],
   "source": [
    "# month at index 12\n",
    "print(months[n])"
   ]
  },
  {
   "cell_type": "markdown",
   "metadata": {},
   "source": [
    "Getting index error is common for those new to python and you may find it helpful to print out the result of a simple example to see if you have a simple off by one error or if there is a larger problem in your code."
   ]
  }
 ],
 "metadata": {
  "kernelspec": {
   "display_name": "Python 3",
   "language": "python",
   "name": "python3"
  },
  "language_info": {
   "codemirror_mode": {
    "name": "ipython",
    "version": 3
   },
   "file_extension": ".py",
   "mimetype": "text/x-python",
   "name": "python",
   "nbconvert_exporter": "python",
   "pygments_lexer": "ipython3",
   "version": "3.7.1"
  }
 },
 "nbformat": 4,
 "nbformat_minor": 2
}
