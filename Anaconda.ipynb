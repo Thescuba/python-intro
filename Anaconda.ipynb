{
 "cells": [
  {
   "cell_type": "markdown",
   "metadata": {},
   "source": [
    "# Anaconda \n",
    "## Introduction\n",
    "Anaconda is a distribution of packages built for data science. It comes with conda, a package and environment manager. You'll be using conda to create environments for isolating your projects that use different versions of Python and/or different packages. You'll also use it to install, uninstall, and update packages in your environments. Using Anaconda has made my life working with data much more pleasant.\n",
    "\n",
    "Virtualenv allows users to separate libraries required by different projects allowing you to avoid conflicts. When your working with data, Anaconda is the way to go. Anaconda is a distribution of libraries and software specifically built for data science. It comes with conda, an environment manager that will make your life a thousand times better.\n",
    "\n",
    "## How to Create an Environment\n",
    "To create a new environment we would like all we need is to run the command below\n",
    "\n",
    "<code>conda create -n python_intro python=3</code>\n",
    "![](images/new_env.PNG)\n",
    "\n",
    "Enter <code>y</code> to proceed.\n",
    "\n",
    "Conda will setup the environment with the default packages under the name python_intro.\n",
    "\n",
    "To activate our environment we will use the command\n",
    "If we using windows\n",
    "\n",
    "<code> activate python_intro </code>\n",
    "\n",
    "or if you are using linux or a mac try using the command below, sudo also might be needed.\n",
    "\n",
    "<code> source activate python_intro </code>\n",
    "\n",
    "You should expect something similar to the image below. <code>(python_intro)</code> before our directory mean that we are working in that virtual environment. \n",
    "\n",
    "![](images/activate.PNG)\n",
    "\n",
    "If we want to see what is currently installed all we need to do is run <code>conda list</code>\n",
    "\n",
    "![](images/packages.PNG)"
   ]
  },
  {
   "cell_type": "markdown",
   "metadata": {},
   "source": [
    "## Installing Packages\n",
    "Lets install 3 packages we will use, numpy, pandas and matplotlib. All we need to do is run the conda install command followed by which packages we would like to install, each separated by a space.\n",
    "\n",
    "<code>conda install numpy pandas matplotlib</code>\n",
    "\n",
    "We will then be prompted to preceed, once again enter <code>y</code> to proceed.\n",
    "\n",
    "![](images/install_package.PNG)"
   ]
  },
  {
   "cell_type": "markdown",
   "metadata": {},
   "source": [
    "Lets also install jupyter labs which is how we will create and run our notebooks. \n",
    "\n",
    "Lets try to run the prompt <code>conda install jupyterlabs</code>\n",
    "![](images/jupyterlabs.PNG)\n",
    "\n",
    "We get the error PackagesNotFoundError this mean that is not available in our current channels. Lets search [anaconda.org][https://anaconda.org/search?q=jupyterlab] for any other solutions.\n",
    "![](images/anaconda.PNG)\n"
   ]
  },
  {
   "cell_type": "markdown",
   "metadata": {},
   "source": [
    "Clicking on jupyterlab will take us to the documentation with how to install the package. \n",
    "![](images/anaconda2.PNG)\n",
    "\n",
    "We will run the <code>conda install -c conda-forge jupyterlab</code> command \n",
    "\n",
    "We will then be prompted to preceed, once again enter <code>y</code> to proceed."
   ]
  },
  {
   "cell_type": "code",
   "execution_count": null,
   "metadata": {},
   "outputs": [],
   "source": []
  }
 ],
 "metadata": {
  "kernelspec": {
   "display_name": "Python 3",
   "language": "python",
   "name": "python3"
  },
  "language_info": {
   "codemirror_mode": {
    "name": "ipython",
    "version": 3
   },
   "file_extension": ".py",
   "mimetype": "text/x-python",
   "name": "python",
   "nbconvert_exporter": "python",
   "pygments_lexer": "ipython3",
   "version": "3.7.1"
  }
 },
 "nbformat": 4,
 "nbformat_minor": 2
}
