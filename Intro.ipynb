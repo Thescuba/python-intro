{
 "cells": [
  {
   "cell_type": "markdown",
   "metadata": {},
   "source": [
    "## Quick Intro to Python\n",
    "I have created this ntoebook with the hopes that anyone who is new to python will be able to understand quickly and effiectly how it works. I will be going over good python practices and also how some common erros may occur along with solutions on how to debug.\n",
    "\n",
    "### 3 Import Things to Remember About Python\n",
    "* Python is case sensitive\n",
    "* Spacing is important\n",
    "* Errors dont make you a bad programmer but just the computer telling you that it does not understand.\n",
    "\n",
    "The first things we will learn is how to go over arithmetic operations. The table below shows the 7 common operators\n",
    "\n",
    "| Symbol|Arithmetic operator|\n",
    "|:-----:|:-------------:|\n",
    "|  +    | Addition      |\n",
    "|  -    | Subtraction   |\n",
    "|  *    | Multiplication|\n",
    "|  /    | Division      |\n",
    "|  %    | Modulo        |\n",
    "|  **   | Exponentiation|\n",
    "|  //   | Floor Division|\n",
    "\n",
    "\n",
    "To help see what our code is doing we will be using pythons built in print function to displacy our results. To use print we will type print followed by paremthesis "
   ]
  },
  {
   "cell_type": "code",
   "execution_count": 1,
   "metadata": {},
   "outputs": [
    {
     "name": "stdout",
     "output_type": "stream",
     "text": [
      "15\n"
     ]
    }
   ],
   "source": [
    "print(1 + 2 + 3*4)"
   ]
  },
  {
   "cell_type": "code",
   "execution_count": 3,
   "metadata": {},
   "outputs": [
    {
     "name": "stdout",
     "output_type": "stream",
     "text": [
      "15\n"
     ]
    }
   ],
   "source": [
    "print(1 + 2 + (3*4))"
   ]
  },
  {
   "cell_type": "markdown",
   "metadata": {},
   "source": [
    "Python follows the rules of order of opertations, meaning that addition subtraction will be excuted last with parentheses, exponents, multiplication and division all come before. "
   ]
  },
  {
   "cell_type": "code",
   "execution_count": 5,
   "metadata": {},
   "outputs": [
    {
     "name": "stdout",
     "output_type": "stream",
     "text": [
      "0\n"
     ]
    }
   ],
   "source": [
    "understanding arithmetic is quite useful may be great for solving mathmatical problems quickly "
   ]
  },
  {
   "cell_type": "markdown",
   "metadata": {},
   "source": []
  },
  {
   "cell_type": "markdown",
   "metadata": {},
   "source": []
  },
  {
   "cell_type": "code",
   "execution_count": null,
   "metadata": {},
   "outputs": [],
   "source": []
  }
 ],
 "metadata": {
  "kernelspec": {
   "display_name": "Python 3",
   "language": "python",
   "name": "python3"
  },
  "language_info": {
   "codemirror_mode": {
    "name": "ipython",
    "version": 3
   },
   "file_extension": ".py",
   "mimetype": "text/x-python",
   "name": "python",
   "nbconvert_exporter": "python",
   "pygments_lexer": "ipython3",
   "version": "3.6.5"
  }
 },
 "nbformat": 4,
 "nbformat_minor": 2
}
