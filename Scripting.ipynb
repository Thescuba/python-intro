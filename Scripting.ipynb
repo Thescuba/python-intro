{
 "cells": [
  {
   "cell_type": "markdown",
   "metadata": {},
   "source": [
    "# 5 Scripting\n",
    "Welcome to this lesson on scripting! You’ll learn about:\n",
    "\n",
    "* Python Installation and Environment Setup\n",
    "* Running and Editing Python Scripts\n",
    "* Interacting with User Input\n",
    "* Handling Exceptions\n",
    "* Reading and Writing Files\n",
    "* Importing Local, Standard, and Third-Party Modules\n",
    "* Experimenting with an Interpreter\n"
   ]
  },
  {
   "cell_type": "markdown",
   "metadata": {},
   "source": [
    "## 5.1 Python Installation\n",
    "### 5.1.1 Before Python Installation\n",
    "1. Prepare to Use Command Line\n",
    "To install Python and follow this lesson, you will need to use the command line. We will walk you through all the details, so don't worry if you have never used it before! If you would like to learn or refresh on command lines, we strongly recommend going through this free [Shell Workshop lesson](https://www.udacity.com/course/shell-workshop--ud206), where you can set up and learn how to use Unix Shell commands.\n",
    "\n",
    "** Note to Windows Users: Install Git Bash\n",
    "As noted in the free Shell Workshop linked above, we recommend you install Git Bash [here](https://git-scm.com/download/win) and use this as your terminal for this lesson. Please note that during installation you should select the checkbox Use Git and Optional Unix tools from the Windows Command Prompt. This will allow you to use Unix commands while in Windows. If you'd rather use PowerShell, those commands are also provided in this lesson. For more information on the different command shells, check out the Shell Workshop lesson linked above.\n",
    "\n",
    "2. Is Python Already Installed On Your Computer?\n",
    "In this course, we're using the most recent major version of Python - Python 3. Although Python 2 is still being used in many places, it is no longer being updated. In order to keep up compatibility with future improvements to Python, we recommend using Python 3.\n",
    "\n",
    "Mac OS X and Linux usually come with Python 2 already installed. We DO NOT recommend that you make any changes to this Python, since parts of the operating system are using Python. However, it shouldn't do any harm to your system to install Python 3 separately, too.\n",
    "\n",
    "Windows doesn't usually come with Python included, but you can still check whether you have it installed before going ahead. So, first, check that you’ve not already got Python 3 installed.\n",
    "\n",
    "Open up your Terminal or Command Line (this would be Git Bash on Windows).\n",
    "\n",
    "In a new terminal or command prompt, type\n",
    "\n",
    "<code> $ python --version </code>\n",
    "\n",
    "and press <code>Enter</code>.\n",
    "\n",
    "You might get a response that the Python version installed is something like <code>Python 2.7.9</code>. In that case, it would tell you that you have Python 2 installed, and you'll want to follow the steps in the next couple of sections to update it to Python 3.\n",
    "\n",
    "If instead the version number starts with a 3, then you already have Python 3 installed! Don't install Python again! You may skip to 5.2 unless you would like to install Anaconda.\n",
    "\n",
    "Alternatively, you might see an error message - don't worry about that for now, just try the steps in the next couple of sections.\n",
    "\n",
    "\n",
    "### 5.1.2 Python Installation\n",
    "Recommended Method: Install Python Using [Anaconda](https://www.anaconda.com/distribution/#windows)\n",
    "This method of installing Python is highly recommended.\n",
    "\n",
    "If you are interested in learning Python for data science, we strongly recommend installing Anaconda, even if you already have Python installed on your computer. You should install Python 3.6 for courses at Udacity. Having a dual environment with two different versions of Python can be useful, but content across all of our courses, and most professional environments, has now been converted to the newest version of Python.\n",
    "\n",
    "Anaconda includes a great distribution of libraries and software built for data science, some of which are otherwise difficult to install. It also makes it really easy to [set up different environments](https://conda.io/projects/conda/en/latest/user-guide/tasks/manage-environments.html) on your computer so you can quickly switch between different versions of Python and packages! For example, if one project you're working on requires Python 2.7 and another requires Python 3.6, as well as different dependencies, then Anaconda's environment management can help.\n",
    "\n",
    "If you would like to know more about the Anaconda environment, you can check out the free course [here](https://classroom.udacity.com/courses/ud1111) ."
   ]
  },
  {
   "cell_type": "code",
   "execution_count": null,
   "metadata": {},
   "outputs": [],
   "source": []
  }
 ],
 "metadata": {
  "kernelspec": {
   "display_name": "Python 3",
   "language": "python",
   "name": "python3"
  },
  "language_info": {
   "codemirror_mode": {
    "name": "ipython",
    "version": 3
   },
   "file_extension": ".py",
   "mimetype": "text/x-python",
   "name": "python",
   "nbconvert_exporter": "python",
   "pygments_lexer": "ipython3",
   "version": "3.7.2"
  }
 },
 "nbformat": 4,
 "nbformat_minor": 2
}
