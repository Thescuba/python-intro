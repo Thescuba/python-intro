{
 "cells": [
  {
   "cell_type": "markdown",
   "metadata": {},
   "source": [
    "# 5 Scripting\n",
    "Welcome to this lesson on scripting! You’ll learn about:\n",
    "\n",
    "* Python Installation and Environment Setup\n",
    "* Running and Editing Python Scripts\n",
    "* Interacting with User Input\n",
    "* Handling Exceptions\n",
    "* Reading and Writing Files\n",
    "* Importing Local, Standard, and Third-Party Modules\n",
    "* Experimenting with an Interpreter\n"
   ]
  },
  {
   "cell_type": "markdown",
   "metadata": {},
   "source": [
    "## 5.1 Python Installation\n",
    "### 5.1.1 Before Python Installation\n",
    "1. Prepare to Use Command Line\n",
    "To install Python and follow this lesson, you will need to use the command line. We will walk you through all the details, so don't worry if you have never used it before! If you would like to learn or refresh on command lines, we strongly recommend going through this free [Shell Workshop lesson](https://www.udacity.com/course/shell-workshop--ud206), where you can set up and learn how to use Unix Shell commands.\n",
    "\n",
    "** Note to Windows Users: Install Git Bash\n",
    "As noted in the free Shell Workshop linked above, we recommend you install Git Bash [here](https://git-scm.com/download/win) and use this as your terminal for this lesson. Please note that during installation you should select the checkbox Use Git and Optional Unix tools from the Windows Command Prompt. This will allow you to use Unix commands while in Windows. If you'd rather use PowerShell, those commands are also provided in this lesson. For more information on the different command shells, check out the Shell Workshop lesson linked above.\n",
    "\n",
    "2. Is Python Already Installed On Your Computer?\n",
    "In this course, we're using the most recent major version of Python - Python 3. Although Python 2 is still being used in many places, it is no longer being updated. In order to keep up compatibility with future improvements to Python, we recommend using Python 3.\n",
    "\n",
    "Mac OS X and Linux usually come with Python 2 already installed. We DO NOT recommend that you make any changes to this Python, since parts of the operating system are using Python. However, it shouldn't do any harm to your system to install Python 3 separately, too.\n",
    "\n",
    "Windows doesn't usually come with Python included, but you can still check whether you have it installed before going ahead. So, first, check that you’ve not already got Python 3 installed.\n",
    "\n",
    "Open up your Terminal or Command Line (this would be Git Bash on Windows).\n",
    "\n",
    "In a new terminal or command prompt, type\n",
    "\n",
    "<code> $ python --version </code>\n",
    "\n",
    "and press <code>Enter</code>.\n",
    "\n",
    "You might get a response that the Python version installed is something like <code>Python 2.7.9</code>. In that case, it would tell you that you have Python 2 installed, and you'll want to follow the steps in the next couple of sections to update it to Python 3.\n",
    "\n",
    "If instead the version number starts with a 3, then you already have Python 3 installed! Don't install Python again! You may skip to 5.2 unless you would like to install Anaconda.\n",
    "\n",
    "Alternatively, you might see an error message - don't worry about that for now, just try the steps in the next couple of sections.\n",
    "\n",
    "\n",
    "### 5.1.2 Python Installation\n",
    "Recommended Method: Install Python Using [Anaconda](https://www.anaconda.com/distribution/#windows)\n",
    "This method of installing Python is highly recommended.\n",
    "\n",
    "If you are interested in learning Python for data science, we strongly recommend installing Anaconda, even if you already have Python installed on your computer. You should install Python 3.6 for courses at Udacity. Having a dual environment with two different versions of Python can be useful, but content across all of our courses, and most professional environments, has now been converted to the newest version of Python.\n",
    "\n",
    "Anaconda includes a great distribution of libraries and software built for data science, some of which are otherwise difficult to install. It also makes it really easy to [set up different environments](https://conda.io/projects/conda/en/latest/user-guide/tasks/manage-environments.html) on your computer so you can quickly switch between different versions of Python and packages! For example, if one project you're working on requires Python 2.7 and another requires Python 3.6, as well as different dependencies, then Anaconda's environment management can help.\n",
    "\n",
    "If you would like to know more about the Anaconda environment, you can check out the free course [here](https://classroom.udacity.com/courses/ud1111) and our [notebook](Anaconda.ipynb).\n",
    "\n",
    "Make sure to have [git](https://git-scm.com/book/en/v2/Getting-Started-Installing-Git) installed."
   ]
  },
  {
   "cell_type": "markdown",
   "metadata": {},
   "source": [
    "## 5.2 Running Scripts\n",
    "1. Open your terminal and while this step is optional it would good practice to make sure you are in the python_intro envirnment by running the code <code>activate python_intro</code>\n",
    "2.  Use cd to navigate to the directory containing the file you would like to run, in our case we will run the <code>first_script.py</code> file found in the scripts folder.  \n",
    "3. Now that you’re in the directory with the file, you can run it by typing <code>python first_script.py</code> and pressing enter.\n",
    "\n",
    "![](images/scripts.PNG)"
   ]
  },
  {
   "cell_type": "markdown",
   "metadata": {},
   "source": [
    "## 5.3 Writing your own script\n",
    "### 5.3.1 Programming Environment Setup\n",
    "Configure Your Own Python Programming Setup\n",
    "Now you've seen my setup, take a moment to get yourself comfortable on your own computer.\n",
    "\n",
    "Below you will find a number of different options for code editors. We will be using [Visual Studio Code](https://code.visualstudio.com/) which will work on all operating systems. If you decide not to use Visual Studio Code, for first time coders Sublime is also popular.\n",
    "\n",
    "For Mac and Linux:\n",
    "* [Visual Studio Code](https://code.visualstudio.com/)\n",
    "* [Atom](https://atom.io/)\n",
    "* [Sublime Text](http://www.sublimetext.com/)\n",
    "* [emacs](https://www.gnu.org/software/emacs/)\n",
    "* [vim](https://www.vim.org/)\n",
    "\n",
    "For Windows:\n",
    "* [Visual Studio Code](https://code.visualstudio.com/)\n",
    "* [Atom](https://atom.io/)\n",
    "* [Sublime Text](http://www.sublimetext.com/)\n",
    "* [Notepad++](https://notepad-plus-plus.org/)\n",
    "\n",
    "Get your screen set up with a text editor, terminal/command line. Play with the display options to see what you find most comfortable to look at, and see if you can find a tab-to-four-spaces option - that'll be very useful for Python indentation.\n",
    "\n",
    "### 5.3.2 Write a script of your own\n",
    "Open up a brand new empty file in your text editor, name it and save it in the place where you're keeping the files for your Python learning. Put the following code into it.\n",
    "\n",
    "```\n",
    "how_many_snakes = 1\n",
    "snake_string = \"\"\"\n",
    "Welcome to Python3!\n",
    "\n",
    "             ____\n",
    "            / . .\\\\\n",
    "            \\  ---<\n",
    "             \\  /\n",
    "   __________/ /\n",
    "-=:___________/\n",
    "\n",
    "<3, Juno\n",
    "\"\"\"\n",
    "\n",
    "\n",
    "print(snake_string * how_many_snakes)\n",
    "```\n",
    "\n",
    "If you are require a walk through you may look at the my_script.py file in the scripts folder or follow the images below. \n",
    "\n",
    "![](images/scripts1.PNG)\n",
    "\n",
    "Copying and pasting our code will give you somthing simular to \n",
    "\n",
    "![](images/scripts2.PNG)\n",
    "\n",
    "Then we would like to run the command <code>python my_script.py</code>\n",
    "\n",
    "![](images/scripts3.PNG)\n",
    "\n",
    "\n",
    "Opps looks like when we run our code nothing happens, this was because we forgot to save our code before running it! Lets try that again!\n",
    "![](images/scripts5.PNG)\n",
    "That exactly what we wanted! Nice job!"
   ]
  },
  {
   "cell_type": "markdown",
   "metadata": {},
   "source": [
    "### 5.4 Scripting with raw input.\n",
    "We can get raw input from the user with the built-in function input, which takes in an optional string argument that you can use to specify a message to show to the user when asking for input.\n",
    "\n",
    "We can see run the code in the notebook but can also run <code>input_demo.py</code> in the scripts folder."
   ]
  },
  {
   "cell_type": "code",
   "execution_count": 1,
   "metadata": {},
   "outputs": [
    {
     "name": "stdin",
     "output_type": "stream",
     "text": [
      "Enter your name:  Steve\n"
     ]
    },
    {
     "name": "stdout",
     "output_type": "stream",
     "text": [
      "Hello there, Steve!\n"
     ]
    }
   ],
   "source": [
    "name = input(\"Enter your name: \")\n",
    "print(\"Hello there, {}!\".format(name.title()))"
   ]
  },
  {
   "cell_type": "markdown",
   "metadata": {},
   "source": [
    "Lets run our script!\n",
    "\n",
    "![](images/input.PNG)\n",
    "\n",
    "Our script is prompting us for an input\n",
    "\n",
    "![](images/input2.PNG)\n",
    "\n",
    "What happens when we try to have our input be a number"
   ]
  },
  {
   "cell_type": "code",
   "execution_count": 2,
   "metadata": {},
   "outputs": [
    {
     "name": "stdin",
     "output_type": "stream",
     "text": [
      "How many time would you like to repeat:  3\n"
     ]
    },
    {
     "ename": "TypeError",
     "evalue": "can't multiply sequence by non-int of type 'str'",
     "output_type": "error",
     "traceback": [
      "\u001b[1;31m---------------------------------------------------------------------------\u001b[0m",
      "\u001b[1;31mTypeError\u001b[0m                                 Traceback (most recent call last)",
      "\u001b[1;32m<ipython-input-2-fade1f81fb54>\u001b[0m in \u001b[0;36m<module>\u001b[1;34m\u001b[0m\n\u001b[0;32m      1\u001b[0m \u001b[0mval\u001b[0m \u001b[1;33m=\u001b[0m \u001b[0minput\u001b[0m\u001b[1;33m(\u001b[0m\u001b[1;34m\"How many time would you like to repeat: \"\u001b[0m\u001b[1;33m)\u001b[0m\u001b[1;33m\u001b[0m\u001b[1;33m\u001b[0m\u001b[0m\n\u001b[1;32m----> 2\u001b[1;33m \u001b[0mprint\u001b[0m\u001b[1;33m(\u001b[0m\u001b[1;34m'Repeat '\u001b[0m\u001b[1;33m*\u001b[0m\u001b[0mval\u001b[0m\u001b[1;33m)\u001b[0m\u001b[1;33m\u001b[0m\u001b[1;33m\u001b[0m\u001b[0m\n\u001b[0m",
      "\u001b[1;31mTypeError\u001b[0m: can't multiply sequence by non-int of type 'str'"
     ]
    }
   ],
   "source": [
    "val = input(\"How many time would you like to repeat: \")\n",
    "print('Repeat '*val)"
   ]
  },
  {
   "cell_type": "markdown",
   "metadata": {},
   "source": [
    "The error we had is because input return val 3 as a string, we need to first cast the value to an integer before we can use it. "
   ]
  },
  {
   "cell_type": "code",
   "execution_count": 3,
   "metadata": {},
   "outputs": [
    {
     "data": {
      "text/plain": [
       "str"
      ]
     },
     "execution_count": 3,
     "metadata": {},
     "output_type": "execute_result"
    }
   ],
   "source": [
    "type(val)"
   ]
  },
  {
   "cell_type": "code",
   "execution_count": null,
   "metadata": {},
   "outputs": [],
   "source": [
    "val = int(input(\"How many time would you like to repeat: \"))\n",
    "print('Repeat '*val)"
   ]
  },
  {
   "cell_type": "markdown",
   "metadata": {},
   "source": [
    "What happens if we put a number with a decimal in?"
   ]
  },
  {
   "cell_type": "code",
   "execution_count": null,
   "metadata": {},
   "outputs": [],
   "source": [
    "val = int(input(\"How many time would you like to repeat: \"))\n",
    "print('Repeat '*val)"
   ]
  },
  {
   "cell_type": "markdown",
   "metadata": {},
   "source": [
    "We have to use first cast the value to a float and from a float we can cast that to an integer. "
   ]
  },
  {
   "cell_type": "code",
   "execution_count": 5,
   "metadata": {},
   "outputs": [
    {
     "name": "stdin",
     "output_type": "stream",
     "text": [
      "How many time would you like to repeat:  5.5\n"
     ]
    },
    {
     "name": "stdout",
     "output_type": "stream",
     "text": [
      "Repeat Repeat Repeat Repeat Repeat \n"
     ]
    }
   ],
   "source": [
    "val = int(float(input(\"How many time would you like to repeat: \")))\n",
    "print('Repeat '*val)"
   ]
  },
  {
   "cell_type": "markdown",
   "metadata": {},
   "source": [
    "## 5.5 Errors and Exceptions\n",
    "### 5.5.1 What are Errors and Exceptions?\n",
    "In the last section, it is difficult to try to handle every scenario but there is actually a much simpler way of dealing with this. We will learn to handle errors with try and except blocks. First lets see what errors in python are?\n",
    "\n",
    "1. Syntax errors occur when Python can’t interpret our code, since we didn’t follow the correct syntax for Python. These are errors you’re likely to get when you make a typo, or you’re first starting to learn Python.\n",
    "\n",
    "2. Exceptions occur when unexpected things happen during execution of a program, even if the code is syntactically correct. There are different types of built-in exceptions in Python, and you can see which exception is thrown in the error message.\n",
    "\n",
    "![quiz](images/error.PNG)"
   ]
  },
  {
   "cell_type": "markdown",
   "metadata": {},
   "source": [
    "The output above is from the <code>error_demo.py</code> script found in the scripts folder or the same code in found below. Let's explain what is happening, the first time we run the code we seem to have forgotten the ending <code>'</code> on our string. Python tells us that we have a syntax error meaning python can't understand what we wanted it to do. This is a simple fix and we just close off our string and everything works find when we run it again. When we run the ValueError portion of the code we see that the literal <code>'ten'</code> can be converted to an <code>int</code>. There was nothing wrong with our syntax but we do run into an exception because the string spelling out 'ten' is not a valid argument for the <code>int()</code> function. The last example we have with the NameError exception we see that our code is syntactically correct but we get to a variable in which we have yet to assign and python is unable to find the value so it raises an exception and stops the code."
   ]
  },
  {
   "cell_type": "code",
   "execution_count": null,
   "metadata": {},
   "outputs": [],
   "source": [
    "# # example of syntax error\n",
    "# msg = 'Welcome to this program!\n",
    "# print(msg)\n",
    "\n",
    "# # fixed syntax error of code above\n",
    "# msg = 'Welcome to this program!'\n",
    "# print(msg)\n",
    "\n",
    "# # example of ValueError exception when inputing 'ten'\n",
    "# x = int(input('Enter a number: '))\n",
    "# x += 20\n",
    "# print(x)\n",
    "\n",
    "# # example of NameError exception\n",
    "# print(nonexistent_variable)"
   ]
  },
  {
   "cell_type": "markdown",
   "metadata": {},
   "source": [
    "Here is a quick cheatsheet what errors you may have with your code.\n",
    "[![link](images/errors.png)](https://pythonforbiologists.com/29-common-beginner-errors-on-one-page)"
   ]
  },
  {
   "cell_type": "markdown",
   "metadata": {},
   "source": [
    "### 5.5.2 Try Statement\n",
    "We can use <code>try</code> statements to handle exceptions. There are four clauses you can use (one more in addition to those shown in the video).\n",
    "\n",
    "* try: This is the only mandatory clause in a try statement. The code in this block is the first thing that Python runs in a try statement.\n",
    "* except: If Python runs into an exception while running the try block, it will jump to the except block that handles that exception.\n",
    "* else: If Python runs into no exceptions while running the try block, it will run the code in this block after running the try block.\n",
    "* finally: Before Python leaves this try statement, it will run the code in this finally block under any conditions, even if it's ending the program. E.g., if Python ran into an error while running code in the except or else block, this finally block will still be executed before stopping the program.\n",
    "\n",
    "[Why do we need the finally clause in Python?](https://stackoverflow.com/questions/11551996/why-do-we-need-the-finally-clause-in-python)\n",
    "\n"
   ]
  },
  {
   "cell_type": "markdown",
   "metadata": {},
   "source": [
    "## Quiz \n",
    "### Quiz 5.1 Generate Messages\n",
    "Imagine you're a teacher who needs to send a message to each of your students reminding them of their missing assignments and grade in the class. You have each of their names, number of missing assignments, and grades on a spreadsheet and just have to insert them into placeholders in this message you came up with:\n",
    "\n",
    "```\n",
    "Hi [insert student name],\n",
    "```\n",
    "```\n",
    "This is a reminder that you have [insert number of missing assignments] \n",
    "assignments left to submit before you can graduate. Your current grade is \n",
    "[insert current grade] and can increase to [insert potential grade] if you \n",
    "submit all assignments before the due date.\n",
    "\n",
    "```\n",
    "You can just copy and paste this message to each student and manually insert the appropriate values each time, but instead you're going to write a program that does this for you.\n",
    "\n",
    "Write a script that does the following:\n",
    "\n",
    "1. Ask for user input 3 times. Once for a list of names, once for a list of missing assignment counts, and once for a list of grades. Use this input to create lists for names, assignments, and grades.\n",
    "2. Use a loop to print the message for each student with the correct values. The potential grade is simply the current grade added to two times the number of missing assignments.\n",
    "\n",
    "Here is a sample of what we are expecting \n",
    "![quiz](images/quiz.PNG)"
   ]
  },
  {
   "cell_type": "code",
   "execution_count": null,
   "metadata": {},
   "outputs": [],
   "source": [
    "names =  # get and process input for a list of names\n",
    "assignments =  # get and process input for a list of the number of assignments\n",
    "grades =  # get and process input for a list of grades\n",
    "\n",
    "# message string to be used for each student\n",
    "# HINT: use .format() with this string in your for loop\n",
    "message = \"Hi {},\\n\\nThis is a reminder that you have {} assignments left to \\\n",
    "submit before you can graduate. You're current grade is {} and can increase \\\n",
    "to {} if you submit all assignments before the due date.\\n\\n\"\n",
    "\n",
    "# write a for loop that iterates through each set of names, assignments, and grades to print each student's message\n"
   ]
  },
  {
   "cell_type": "markdown",
   "metadata": {},
   "source": [
    "### Quiz 5.1 Generate Messages Solutions\n",
    "The solution are below and in scripts under the generate_msg_solu.py file.\n",
    "\n"
   ]
  },
  {
   "cell_type": "code",
   "execution_count": null,
   "metadata": {},
   "outputs": [],
   "source": [
    "names =  input(\"Enter names separated by commas:\").title().split(',')\n",
    "assignments =  input(\"Enter assignment counts separated by commas:\").split(',')\n",
    "grades =  input(\"Enter grades separated by commas:\").split(',')\n",
    "\n",
    "# message string to be used for each student\n",
    "# HINT: use .format() with this string in your for loop\n",
    "message = \"Hi {},\\n\\nThis is a reminder that you have {} assignments left to \\\n",
    "submit before you can graduate. You're current grade is {} and can increase \\\n",
    "to {} if you submit all assignments before the due date.\\n\\n\"\n",
    "\n",
    "\n",
    "# write a for loop that iterates through each set of names, assignments, and grades to print each student's message\n",
    "for name, assignment, grade in zip(names, assignments, grades):\n",
    "    print(message.format(name, assignment, grade, float(grade)+2*int(assignment)))"
   ]
  },
  {
   "cell_type": "code",
   "execution_count": null,
   "metadata": {},
   "outputs": [],
   "source": []
  }
 ],
 "metadata": {
  "kernelspec": {
   "display_name": "Python 3",
   "language": "python",
   "name": "python3"
  },
  "language_info": {
   "codemirror_mode": {
    "name": "ipython",
    "version": 3
   },
   "file_extension": ".py",
   "mimetype": "text/x-python",
   "name": "python",
   "nbconvert_exporter": "python",
   "pygments_lexer": "ipython3",
   "version": "3.7.1"
  }
 },
 "nbformat": 4,
 "nbformat_minor": 2
}
