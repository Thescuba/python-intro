{
 "cells": [
  {
   "cell_type": "markdown",
   "metadata": {},
   "source": [
    "# 2.0 Data Structures in Python\n",
    "In the part one we have worked with indiviual data types such as integers, floats, Booleans and strings. The types of Data Structures we will cover in the section will be: List, Tuples, Sets, Dictionaries and Compound Data Structures. Along with datatype we will also cover Operators: Membership, Identity. Lets get started!"
   ]
  },
  {
   "cell_type": "markdown",
   "metadata": {},
   "source": [
    "## 2.1 List\n",
    "### 2.1.1 Creating a List"
   ]
  },
  {
   "cell_type": "markdown",
   "metadata": {},
   "source": [
    "In lesson 1 we have seen individual pieces of data like a string or a number but python really shines when we work with something called containers of data, which contain other data types and even other containers. The first container we will talk about are list. List are  mutable order sequences of elements. A list is defined using squared brackets and each element is separated by a comma. Mutable mean that the object can changed after it is created while an immutable object can not. Let see and example of list."
   ]
  },
  {
   "cell_type": "code",
   "execution_count": 1,
   "metadata": {},
   "outputs": [],
   "source": [
    "months = ['January', 'February', 'March', 'April', 'May', 'June', 'July','August', 'September', 'October','November', 'December']"
   ]
  },
  {
   "cell_type": "markdown",
   "metadata": {},
   "source": [
    "We have a list of string where each element in the list is a month of the year. List in python is one of the most common data strutures use in python. We see above that we have a list of the same datatype but we can also do a list of differnt datatypes. Below we have a list with an int, float, string and a bool."
   ]
  },
  {
   "cell_type": "code",
   "execution_count": 2,
   "metadata": {},
   "outputs": [],
   "source": [
    "list_of_random_things = [0, 1.4, 'a string', True]"
   ]
  },
  {
   "cell_type": "markdown",
   "metadata": {},
   "source": [
    "### 2.1.2 Indexing with List\n",
    "In python a list is defined using zero based indexing this mean that an elements index is described by how far the element is from the beginning of the list. To retrieve the data at and index value we use the square brackets. The example to get the first element of months below. We choose index 0 the first element is always 0 away from the beinging of the list. Another useful trick is to be able to index from the end of the list instead of the front. We use the negitive sign to moved from the end where the last element in represented by -1."
   ]
  },
  {
   "cell_type": "code",
   "execution_count": 3,
   "metadata": {},
   "outputs": [
    {
     "name": "stdout",
     "output_type": "stream",
     "text": [
      "First month in months:  January\n",
      "Last month in months: December\n"
     ]
    }
   ],
   "source": [
    "print('First month in months: ', months[0])\n",
    "print('Last month in months:', months[-1])"
   ]
  },
  {
   "cell_type": "code",
   "execution_count": null,
   "metadata": {},
   "outputs": [],
   "source": [
    "print(list_of_random_things[0])\n",
    "print(list_of_random_things[-1])"
   ]
  },
  {
   "cell_type": "markdown",
   "metadata": {},
   "source": [
    "A common mistake may be to use use the lengh of a list as an index but there is one problem len of months will be 12 but index 12 represents the 13th element. What do you think will happen when we run the code below?"
   ]
  },
  {
   "cell_type": "code",
   "execution_count": 4,
   "metadata": {},
   "outputs": [
    {
     "name": "stdout",
     "output_type": "stream",
     "text": [
      "length of months 12\n"
     ]
    }
   ],
   "source": [
    "n = len(months)\n",
    "print('length of months', n)"
   ]
  },
  {
   "cell_type": "code",
   "execution_count": 5,
   "metadata": {},
   "outputs": [
    {
     "ename": "IndexError",
     "evalue": "list index out of range",
     "output_type": "error",
     "traceback": [
      "\u001b[1;31m---------------------------------------------------------------------------\u001b[0m",
      "\u001b[1;31mIndexError\u001b[0m                                Traceback (most recent call last)",
      "\u001b[1;32m<ipython-input-5-92783b15ad5e>\u001b[0m in \u001b[0;36m<module>\u001b[1;34m\u001b[0m\n\u001b[0;32m      1\u001b[0m \u001b[1;31m# month at index 12\u001b[0m\u001b[1;33m\u001b[0m\u001b[1;33m\u001b[0m\u001b[1;33m\u001b[0m\u001b[0m\n\u001b[1;32m----> 2\u001b[1;33m \u001b[0mprint\u001b[0m\u001b[1;33m(\u001b[0m\u001b[0mmonths\u001b[0m\u001b[1;33m[\u001b[0m\u001b[0mn\u001b[0m\u001b[1;33m]\u001b[0m\u001b[1;33m)\u001b[0m\u001b[1;33m\u001b[0m\u001b[1;33m\u001b[0m\u001b[0m\n\u001b[0m",
      "\u001b[1;31mIndexError\u001b[0m: list index out of range"
     ]
    }
   ],
   "source": [
    "# month at index 12\n",
    "print(months[n])"
   ]
  },
  {
   "cell_type": "markdown",
   "metadata": {},
   "source": [
    "Getting index error is common for those new to python and you may find it helpful to print out the result of a simple example to see if you have a simple off by one error or if there is a larger problem in your code."
   ]
  },
  {
   "cell_type": "markdown",
   "metadata": {},
   "source": [
    "### 2.1.3 Slicing with List\n",
    "Slicing in python allows us to take a subsequence or a 'slice' of a collection. When using slicing, the lower index is inclusive and the upper index is exclusive. The colon tells us to go from the starting value on the left of the colon up to, but not including, the element on the right. So if we want to return the second month we can do it a couple ways. "
   ]
  },
  {
   "cell_type": "code",
   "execution_count": 4,
   "metadata": {},
   "outputs": [
    {
     "name": "stdout",
     "output_type": "stream",
     "text": [
      "Second month in months:  March\n",
      "Second month in months: ['March']\n"
     ]
    }
   ],
   "source": [
    "# indexing method\n",
    "print('Second month in months: ', months[2])\n",
    "# slicing\n",
    "print('Second month in months:', months[2:3])"
   ]
  },
  {
   "cell_type": "markdown",
   "metadata": {},
   "source": [
    "While the method indexing return us just the string a slice returned us a list of lenth 1"
   ]
  },
  {
   "cell_type": "code",
   "execution_count": 8,
   "metadata": {},
   "outputs": [
    {
     "name": "stdout",
     "output_type": "stream",
     "text": [
      "<class 'str'>\n",
      "<class 'list'>\n"
     ]
    }
   ],
   "source": [
    "print(type(months[2]))\n",
    "print(type(months[2:3]))"
   ]
  },
  {
   "cell_type": "markdown",
   "metadata": {},
   "source": [
    "Say we wanted to return the 3rdm 4th and 5th month we do that in a single line!"
   ]
  },
  {
   "cell_type": "code",
   "execution_count": 9,
   "metadata": {},
   "outputs": [
    {
     "data": {
      "text/plain": [
       "['April', 'May', 'June']"
      ]
     },
     "execution_count": 9,
     "metadata": {},
     "output_type": "execute_result"
    }
   ],
   "source": [
    "months[3:6]"
   ]
  },
  {
   "cell_type": "markdown",
   "metadata": {},
   "source": [
    "Opps! Thats not quite the result we wanted we have to remember 0 indexing!"
   ]
  },
  {
   "cell_type": "code",
   "execution_count": 10,
   "metadata": {},
   "outputs": [
    {
     "data": {
      "text/plain": [
       "['March', 'April', 'May']"
      ]
     },
     "execution_count": 10,
     "metadata": {},
     "output_type": "execute_result"
    }
   ],
   "source": [
    "months[2:5]"
   ]
  },
  {
   "cell_type": "markdown",
   "metadata": {},
   "source": [
    "That looks much better and exactly what we were looking for. Let say we have a list of customers and we want to see which 3 people are next or who are the last 3 how we we be able to do that?"
   ]
  },
  {
   "cell_type": "code",
   "execution_count": 11,
   "metadata": {},
   "outputs": [
    {
     "name": "stdout",
     "output_type": "stream",
     "text": [
      "['Steve', 'Tammie', 'Dan']\n",
      "['Steve', 'Tammie', 'Dan']\n"
     ]
    }
   ],
   "source": [
    "list_of_customers = ['Steve', 'Tammie', 'Dan', 'Chris']\n",
    "print(list_of_customers[0:3])\n",
    "print(list_of_customers[:3])"
   ]
  },
  {
   "cell_type": "markdown",
   "metadata": {},
   "source": [
    "The first example was done use normal slicing where ours start it at 0 but with python if we are starting at the begining we can leave the lower index blank. We can also leave the upper value blank which automatic means goes to the end. If we leave both blank what do you think will happen?"
   ]
  },
  {
   "cell_type": "code",
   "execution_count": 12,
   "metadata": {},
   "outputs": [
    {
     "name": "stdout",
     "output_type": "stream",
     "text": [
      "['Tammie', 'Dan', 'Chris']\n",
      "['Steve', 'Tammie', 'Dan', 'Chris']\n"
     ]
    }
   ],
   "source": [
    "print(list_of_customers[1:])\n",
    "print(list_of_customers[:])"
   ]
  },
  {
   "cell_type": "markdown",
   "metadata": {},
   "source": [
    "Leaving both side will be the same as starting from the begining and going to the end which is just the whole list!"
   ]
  },
  {
   "cell_type": "markdown",
   "metadata": {},
   "source": [
    "## 2.2 Membership Operators\n",
    "Say that we wanted to check and see if someone was one of our customers, python makes this easy with the use of the membership operator. It is simple if we want to check if Dan is a customer or if Lisa was a customer we can do that with the two lines of code below."
   ]
  },
  {
   "cell_type": "code",
   "execution_count": 13,
   "metadata": {},
   "outputs": [
    {
     "name": "stdout",
     "output_type": "stream",
     "text": [
      "True\n",
      "False\n"
     ]
    }
   ],
   "source": [
    "print('Dan' in list_of_customers)\n",
    "print('Lisa' in list_of_customers)"
   ]
  },
  {
   "cell_type": "markdown",
   "metadata": {},
   "source": [
    "We can use in to return a bool of wheather an element exist within our list. We van also use not in to see if and element exist in our list. In can even be used with strings. Lets give it a try"
   ]
  },
  {
   "cell_type": "code",
   "execution_count": 14,
   "metadata": {},
   "outputs": [
    {
     "data": {
      "text/plain": [
       "True"
      ]
     },
     "execution_count": 14,
     "metadata": {},
     "output_type": "execute_result"
    }
   ],
   "source": [
    "'b' in 'abcdefg'"
   ]
  },
  {
   "cell_type": "code",
   "execution_count": 15,
   "metadata": {},
   "outputs": [
    {
     "data": {
      "text/plain": [
       "False"
      ]
     },
     "execution_count": 15,
     "metadata": {},
     "output_type": "execute_result"
    }
   ],
   "source": [
    "'w' in 'abcdefg'"
   ]
  },
  {
   "cell_type": "markdown",
   "metadata": {},
   "source": [
    "You may we wondering how list and string are different. Strings are a collection of characters where list can be a collection of any datatype. There is another difference String are immutable while list are mutable. Let show you list mutability below."
   ]
  },
  {
   "cell_type": "code",
   "execution_count": 17,
   "metadata": {},
   "outputs": [
    {
     "name": "stdout",
     "output_type": "stream",
     "text": [
      "['Steve', 'Tammie', 'Dan', 'Chris']\n"
     ]
    }
   ],
   "source": [
    "print(list_of_customers)"
   ]
  },
  {
   "cell_type": "markdown",
   "metadata": {},
   "source": [
    "Say we want to chance one of our customers has changed there name or there was an error when entering in there name. In our case lets pretend Steve wants to be called Steven here is how we would do that."
   ]
  },
  {
   "cell_type": "code",
   "execution_count": 18,
   "metadata": {},
   "outputs": [
    {
     "name": "stdout",
     "output_type": "stream",
     "text": [
      "['Steven', 'Tammie', 'Dan', 'Chris']\n"
     ]
    }
   ],
   "source": [
    "list_of_customers[0] = 'Steven'\n",
    "print(list_of_customers)"
   ]
  },
  {
   "cell_type": "markdown",
   "metadata": {},
   "source": [
    "Steve was the first item in our list of customers which is index 0. We wanted to modify the data to Steven and we did that with the line above. What do you think will happen if we try that with a string? Say our name was entered as steve but we really wanted it to be Steve with a capital S. What will happen if we try to modify our first character?"
   ]
  },
  {
   "cell_type": "code",
   "execution_count": 19,
   "metadata": {},
   "outputs": [
    {
     "name": "stdout",
     "output_type": "stream",
     "text": [
      "s\n"
     ]
    }
   ],
   "source": [
    "name = 'steve'\n",
    "print(name[0])"
   ]
  },
  {
   "cell_type": "code",
   "execution_count": 20,
   "metadata": {},
   "outputs": [
    {
     "ename": "TypeError",
     "evalue": "'str' object does not support item assignment",
     "output_type": "error",
     "traceback": [
      "\u001b[1;31m---------------------------------------------------------------------------\u001b[0m",
      "\u001b[1;31mTypeError\u001b[0m                                 Traceback (most recent call last)",
      "\u001b[1;32m<ipython-input-20-22ce3f8620d5>\u001b[0m in \u001b[0;36m<module>\u001b[1;34m\u001b[0m\n\u001b[1;32m----> 1\u001b[1;33m \u001b[0mname\u001b[0m\u001b[1;33m[\u001b[0m\u001b[1;36m0\u001b[0m\u001b[1;33m]\u001b[0m \u001b[1;33m=\u001b[0m \u001b[1;34m'S'\u001b[0m\u001b[1;33m\u001b[0m\u001b[1;33m\u001b[0m\u001b[0m\n\u001b[0m\u001b[0;32m      2\u001b[0m \u001b[0mprint\u001b[0m\u001b[1;33m(\u001b[0m\u001b[0mname\u001b[0m\u001b[1;33m)\u001b[0m\u001b[1;33m\u001b[0m\u001b[1;33m\u001b[0m\u001b[0m\n",
      "\u001b[1;31mTypeError\u001b[0m: 'str' object does not support item assignment"
     ]
    }
   ],
   "source": [
    "name[0] = 'S'\n",
    "print(name)"
   ]
  },
  {
   "cell_type": "markdown",
   "metadata": {},
   "source": [
    "We get the error object does not support item assignment, this is because string are immutable which mean they can not be modified. If was want to replace steve with Steve we will have to replace the whole string with a new one. Two things we want to keep in mind are if data types are mutable and ordered. "
   ]
  },
  {
   "cell_type": "code",
   "execution_count": null,
   "metadata": {},
   "outputs": [],
   "source": []
  },
  {
   "cell_type": "markdown",
   "metadata": {},
   "source": [
    "## Quiz 2.1 List"
   ]
  },
  {
   "cell_type": "markdown",
   "metadata": {},
   "source": [
    "For a quick quiz Try to return the 6th month and the second to last month in months! "
   ]
  },
  {
   "cell_type": "code",
   "execution_count": null,
   "metadata": {},
   "outputs": [],
   "source": [
    "months = ['January', 'february', 'March', 'April', 'May', 'June', 'July','August', 'September', 'October','November', 'December']\n",
    "# print out 6th month\n",
    "\n",
    "# print out last month"
   ]
  },
  {
   "cell_type": "markdown",
   "metadata": {},
   "source": [
    "## Quiz 2.2 List Index and Mutability\n",
    "Our months seem to all be capitalized except for February can you fix that and print the results?"
   ]
  },
  {
   "cell_type": "code",
   "execution_count": null,
   "metadata": {},
   "outputs": [],
   "source": [
    "# fix febuary in months\n",
    "\n",
    "\n",
    "\n",
    "# print out months\n",
    "print(months)"
   ]
  },
  {
   "cell_type": "markdown",
   "metadata": {},
   "source": [
    "## Quiz 2.3 List Slice\n",
    "print the last 6 months but in reverse order, Starting at December and ending at June."
   ]
  },
  {
   "cell_type": "code",
   "execution_count": null,
   "metadata": {},
   "outputs": [],
   "source": [
    "# Slice last 6 month and reverse order\n",
    "\n",
    "\n",
    "\n",
    "# print out months\n",
    "print(months)"
   ]
  },
  {
   "cell_type": "markdown",
   "metadata": {},
   "source": [
    "## Quiz 2.4 Memberships\n",
    "Check to see if if the input 'june' is in months, if no is there a way to edit your code to make it where capitalization doesnt matter?"
   ]
  }
 ],
 "metadata": {
  "kernelspec": {
   "display_name": "Python 3",
   "language": "python",
   "name": "python3"
  },
  "language_info": {
   "codemirror_mode": {
    "name": "ipython",
    "version": 3
   },
   "file_extension": ".py",
   "mimetype": "text/x-python",
   "name": "python",
   "nbconvert_exporter": "python",
   "pygments_lexer": "ipython3",
   "version": "3.7.1"
  }
 },
 "nbformat": 4,
 "nbformat_minor": 2
}
