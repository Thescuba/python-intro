{
 "cells": [
  {
   "cell_type": "markdown",
   "metadata": {},
   "source": [
    "# 2 Data Structures in Python\n",
    "In the part one we have worked with individual data types such as integers, floats, Booleans and strings. The types of Data Structures we will cover in the section will be: List, Tuples, Sets, Dictionaries and Compound Data Structures. Along with data type we will also cover Operators: Membership, Identity. Let's get started!"
   ]
  },
  {
   "cell_type": "markdown",
   "metadata": {},
   "source": [
    "## 2.1 List\n",
    "### 2.1.1 Creating a List"
   ]
  },
  {
   "cell_type": "markdown",
   "metadata": {},
   "source": [
    "In lesson 1 we have seen individual pieces of data like a string or a number but python really shines when we work with something called containers of data, which contain other data types and even other containers. The first container we will talk about are list. List are  mutable order sequences of elements. A list is defined using squared brackets and each element is separated by a comma. Mutable mean that the object can changed after it is created while an immutable object can not. Let see and example of list."
   ]
  },
  {
   "cell_type": "code",
   "execution_count": 1,
   "metadata": {},
   "outputs": [],
   "source": [
    "months = ['January', 'February', 'March', 'April', 'May', 'June', 'July','August', 'September', 'October','November', 'December']"
   ]
  },
  {
   "cell_type": "markdown",
   "metadata": {},
   "source": [
    "We have a list of string where each element in the list is a month of the year. List in python is one of the most common data structures use in python. We see above that we have a list of the same data type but we can also do a list of different data types. Below we have a list with an int, float, string and a bool."
   ]
  },
  {
   "cell_type": "code",
   "execution_count": 2,
   "metadata": {},
   "outputs": [],
   "source": [
    "list_of_random_things = [0, 1.4, 'a string', True]"
   ]
  },
  {
   "cell_type": "markdown",
   "metadata": {},
   "source": [
    "### 2.1.2 Indexing with List\n",
    "In python a list is defined using zero based indexing. This mean that an elements index is described by how far the element is from the beginning of the list. To retrieve the data at and index value we use the square brackets. The example to get the first element of months below. We choose index 0 the first element is always 0 away from the beginning of the list. Another useful trick is to be able to index from the end of the list instead of the front. We use the negative sign to moved from the end where the last element in represented by -1."
   ]
  },
  {
   "cell_type": "code",
   "execution_count": 3,
   "metadata": {},
   "outputs": [
    {
     "name": "stdout",
     "output_type": "stream",
     "text": [
      "First month in months:  January\n",
      "Last month in months: December\n"
     ]
    }
   ],
   "source": [
    "print('First month in months: ', months[0])\n",
    "print('Last month in months:', months[-1])"
   ]
  },
  {
   "cell_type": "code",
   "execution_count": 4,
   "metadata": {},
   "outputs": [
    {
     "name": "stdout",
     "output_type": "stream",
     "text": [
      "0\n",
      "True\n"
     ]
    }
   ],
   "source": [
    "print(list_of_random_things[0])\n",
    "print(list_of_random_things[-1])"
   ]
  },
  {
   "cell_type": "markdown",
   "metadata": {},
   "source": [
    "A common mistake may be to use use the length of a list as an index but there is one problem <code>len</code> of months will be 12 but index 12 represents the 13th element. What do you think will happen when we run the code below?"
   ]
  },
  {
   "cell_type": "code",
   "execution_count": 5,
   "metadata": {},
   "outputs": [
    {
     "name": "stdout",
     "output_type": "stream",
     "text": [
      "length of months 12\n"
     ]
    }
   ],
   "source": [
    "n = len(months)\n",
    "print('length of months', n)"
   ]
  },
  {
   "cell_type": "code",
   "execution_count": 6,
   "metadata": {},
   "outputs": [
    {
     "ename": "IndexError",
     "evalue": "list index out of range",
     "output_type": "error",
     "traceback": [
      "\u001b[1;31m---------------------------------------------------------------------------\u001b[0m",
      "\u001b[1;31mIndexError\u001b[0m                                Traceback (most recent call last)",
      "\u001b[1;32m<ipython-input-6-92783b15ad5e>\u001b[0m in \u001b[0;36m<module>\u001b[1;34m\u001b[0m\n\u001b[0;32m      1\u001b[0m \u001b[1;31m# month at index 12\u001b[0m\u001b[1;33m\u001b[0m\u001b[1;33m\u001b[0m\u001b[1;33m\u001b[0m\u001b[0m\n\u001b[1;32m----> 2\u001b[1;33m \u001b[0mprint\u001b[0m\u001b[1;33m(\u001b[0m\u001b[0mmonths\u001b[0m\u001b[1;33m[\u001b[0m\u001b[0mn\u001b[0m\u001b[1;33m]\u001b[0m\u001b[1;33m)\u001b[0m\u001b[1;33m\u001b[0m\u001b[1;33m\u001b[0m\u001b[0m\n\u001b[0m",
      "\u001b[1;31mIndexError\u001b[0m: list index out of range"
     ]
    }
   ],
   "source": [
    "# month at index 12\n",
    "print(months[n])"
   ]
  },
  {
   "cell_type": "markdown",
   "metadata": {},
   "source": [
    "Getting index error is common for those new to python and you may find it helpful to print out the result of a simple example to see if you have a simple off by one error or if there is a larger problem in your code."
   ]
  },
  {
   "cell_type": "markdown",
   "metadata": {},
   "source": [
    "### 2.1.3 Slicing with List\n",
    "Slicing in python allows us to take a subsequence or a 'slice' of a collection. When using slicing, the lower index is inclusive and the upper index is exclusive. The colon tells us to go from the starting value on the left of the colon up to, but not including, the element on the right. So if we want to return the second month we can do it a couple ways. "
   ]
  },
  {
   "cell_type": "code",
   "execution_count": 7,
   "metadata": {},
   "outputs": [
    {
     "name": "stdout",
     "output_type": "stream",
     "text": [
      "Second month in months:  March\n",
      "Second month in months: ['March']\n"
     ]
    }
   ],
   "source": [
    "# indexing method\n",
    "print('Second month in months: ', months[2])\n",
    "# slicing\n",
    "print('Second month in months:', months[2:3])"
   ]
  },
  {
   "cell_type": "markdown",
   "metadata": {},
   "source": [
    "While the indexing method returns us just the string a slice returned us a list of lenth 1"
   ]
  },
  {
   "cell_type": "code",
   "execution_count": 8,
   "metadata": {},
   "outputs": [
    {
     "name": "stdout",
     "output_type": "stream",
     "text": [
      "<class 'str'>\n",
      "<class 'list'>\n"
     ]
    }
   ],
   "source": [
    "print(type(months[2]))\n",
    "print(type(months[2:3]))"
   ]
  },
  {
   "cell_type": "markdown",
   "metadata": {},
   "source": [
    "Say we wanted to return the 3rd, 4th and 5th month we do that in a single line!"
   ]
  },
  {
   "cell_type": "code",
   "execution_count": 9,
   "metadata": {},
   "outputs": [
    {
     "data": {
      "text/plain": [
       "['April', 'May', 'June']"
      ]
     },
     "execution_count": 9,
     "metadata": {},
     "output_type": "execute_result"
    }
   ],
   "source": [
    "months[3:6]"
   ]
  },
  {
   "cell_type": "markdown",
   "metadata": {},
   "source": [
    "Opps! Thats not quite the result we wanted we have to remember 0 indexing!"
   ]
  },
  {
   "cell_type": "code",
   "execution_count": 10,
   "metadata": {},
   "outputs": [
    {
     "data": {
      "text/plain": [
       "['March', 'April', 'May']"
      ]
     },
     "execution_count": 10,
     "metadata": {},
     "output_type": "execute_result"
    }
   ],
   "source": [
    "months[2:5]"
   ]
  },
  {
   "cell_type": "markdown",
   "metadata": {},
   "source": [
    "That looks much better and exactly what we were looking for. Let say we have a list of customers and we want to see which 3 people are next or who are the last 3 how we we be able to do that?"
   ]
  },
  {
   "cell_type": "code",
   "execution_count": 11,
   "metadata": {},
   "outputs": [
    {
     "name": "stdout",
     "output_type": "stream",
     "text": [
      "['Steve', 'Tammie', 'Dan']\n",
      "['Steve', 'Tammie', 'Dan']\n"
     ]
    }
   ],
   "source": [
    "list_of_customers = ['Steve', 'Tammie', 'Dan', 'Chris']\n",
    "print(list_of_customers[0:3])\n",
    "print(list_of_customers[:3])"
   ]
  },
  {
   "cell_type": "markdown",
   "metadata": {},
   "source": [
    "The first example was done use normal slicing where ours start it at 0 but with python if we are starting at the beginning we can leave the lower index blank. We can also leave the upper value blank which automatic means goes to the end. If we leave both blank what do you think will happen?"
   ]
  },
  {
   "cell_type": "code",
   "execution_count": 12,
   "metadata": {},
   "outputs": [
    {
     "name": "stdout",
     "output_type": "stream",
     "text": [
      "['Tammie', 'Dan', 'Chris']\n",
      "['Steve', 'Tammie', 'Dan', 'Chris']\n"
     ]
    }
   ],
   "source": [
    "print(list_of_customers[1:])\n",
    "print(list_of_customers[:])"
   ]
  },
  {
   "cell_type": "markdown",
   "metadata": {},
   "source": [
    "Leaving both side will be the same as starting from the beginning and going to the end which is just the whole list!"
   ]
  },
  {
   "cell_type": "markdown",
   "metadata": {},
   "source": [
    "### 2.1.4 Functions\n",
    "Some of the common functions that can be used with list are:\n",
    "1. len() returns how many elements are in a list.\n",
    "2. max() returns the greatest element of the list. How the greatest element is determined depends on what type objects are in the list. The maximum element in a list of numbers is the largest number. The maximum elements in a list of strings is element that would occur last if the list were sorted alphabetically. This works because the the max function is defined in terms of the greater than comparison operator. The max function is undefined for lists that contain elements from different, incomparable types.\n",
    "3. min() returns the smallest element in a list. min is the opposite of max, which returns the largest element in a list.\n",
    "4. sorted() returns a copy of a list in order from smallest to largest, leaving the list unchanged.\n",
    "\n",
    "Lets see some these used in action!"
   ]
  },
  {
   "cell_type": "code",
   "execution_count": 13,
   "metadata": {},
   "outputs": [
    {
     "name": "stdout",
     "output_type": "stream",
     "text": [
      "length of list of customers is: 4\n",
      "max of list of customers is: Tammie\n",
      "min of list of customers is: Chris\n",
      "list of customers sorted looks like: ['Chris', 'Dan', 'Steve', 'Tammie']\n"
     ]
    }
   ],
   "source": [
    "print('length of list of customers is:', len(list_of_customers))\n",
    "print('max of list of customers is:', max(list_of_customers))\n",
    "print('min of list of customers is:', min(list_of_customers))\n",
    "print('list of customers sorted looks like:', sorted(list_of_customers))\n"
   ]
  },
  {
   "cell_type": "markdown",
   "metadata": {},
   "source": [
    "How do we add items to our list? We use the append method!\n",
    "using <code>append()</code> will let use add to the end of the list. Let add 'joe' to our list of customers"
   ]
  },
  {
   "cell_type": "code",
   "execution_count": 14,
   "metadata": {},
   "outputs": [
    {
     "name": "stdout",
     "output_type": "stream",
     "text": [
      "['Steve', 'Tammie', 'Dan', 'Chris', 'joe']\n"
     ]
    }
   ],
   "source": [
    "list_of_customers.append('joe')\n",
    "print(list_of_customers)"
   ]
  },
  {
   "cell_type": "markdown",
   "metadata": {},
   "source": [
    "When when working with list something we may want to convert a list of char into a word or a list if words into a string. We can do this with the join function. "
   ]
  },
  {
   "cell_type": "code",
   "execution_count": 15,
   "metadata": {},
   "outputs": [
    {
     "name": "stdout",
     "output_type": "stream",
     "text": [
      "['fore', 'aft', 'starboard', 'port']\n"
     ]
    }
   ],
   "source": [
    "new_str = [\"fore\", \"aft\", \"starboard\", \"port\"]\n",
    "print(new_str)"
   ]
  },
  {
   "cell_type": "code",
   "execution_count": 16,
   "metadata": {},
   "outputs": [
    {
     "name": "stdout",
     "output_type": "stream",
     "text": [
      "fore\n",
      "aft\n",
      "starboard\n",
      "port\n"
     ]
    }
   ],
   "source": [
    "new_str = \"\\n\".join(new_str)\n",
    "print(new_str)"
   ]
  },
  {
   "cell_type": "markdown",
   "metadata": {},
   "source": [
    "In this example we use the string \"\\n\" as the separator so that there is a newline between each element. This is an example of a [string literal](https://docs.python.org/2.0/ref/strings.html).  \n"
   ]
  },
  {
   "cell_type": "markdown",
   "metadata": {},
   "source": [
    "## 2.2 Membership Operators\n",
    "Say that we wanted to check and see if someone was one of our customers, python makes this easy with the use of the membership operator. It is simple if we want to check if Dan is a customer or if Lisa was a customer we can do that with the two lines of code below."
   ]
  },
  {
   "cell_type": "code",
   "execution_count": 17,
   "metadata": {},
   "outputs": [
    {
     "name": "stdout",
     "output_type": "stream",
     "text": [
      "True\n",
      "False\n"
     ]
    }
   ],
   "source": [
    "print('Dan' in list_of_customers)\n",
    "print('Lisa' in list_of_customers)"
   ]
  },
  {
   "cell_type": "markdown",
   "metadata": {},
   "source": [
    "## 2.2 Membership Operators\n",
    "We can use in to return a boolean of whether an element exist within our list. We can also use <code>not in</code> to see if and element exist in our list. In can even be used with strings. Let's give it a try"
   ]
  },
  {
   "cell_type": "code",
   "execution_count": 18,
   "metadata": {},
   "outputs": [
    {
     "data": {
      "text/plain": [
       "True"
      ]
     },
     "execution_count": 18,
     "metadata": {},
     "output_type": "execute_result"
    }
   ],
   "source": [
    "'b' in 'abcdefg'"
   ]
  },
  {
   "cell_type": "code",
   "execution_count": 19,
   "metadata": {},
   "outputs": [
    {
     "data": {
      "text/plain": [
       "False"
      ]
     },
     "execution_count": 19,
     "metadata": {},
     "output_type": "execute_result"
    }
   ],
   "source": [
    "'w' in 'abcdefg'"
   ]
  },
  {
   "cell_type": "markdown",
   "metadata": {},
   "source": [
    "You may be wondering how list and string are different. Strings are a collection of characters where list can be a collection of any datatype. There is another difference String are immutable while list are mutable. Let show you list mutability below."
   ]
  },
  {
   "cell_type": "code",
   "execution_count": 20,
   "metadata": {},
   "outputs": [
    {
     "name": "stdout",
     "output_type": "stream",
     "text": [
      "['Steve', 'Tammie', 'Dan', 'Chris', 'joe']\n"
     ]
    }
   ],
   "source": [
    "print(list_of_customers)"
   ]
  },
  {
   "cell_type": "markdown",
   "metadata": {},
   "source": [
    "Say we want to chance one of our customers has changed there name or there was an error when entering in their name. In our case lets pretend Steve wants to be called Steven here is how we would do that."
   ]
  },
  {
   "cell_type": "code",
   "execution_count": 21,
   "metadata": {},
   "outputs": [
    {
     "name": "stdout",
     "output_type": "stream",
     "text": [
      "['Steven', 'Tammie', 'Dan', 'Chris', 'joe']\n"
     ]
    }
   ],
   "source": [
    "list_of_customers[0] = 'Steven'\n",
    "print(list_of_customers)"
   ]
  },
  {
   "cell_type": "markdown",
   "metadata": {},
   "source": [
    "Steve was the first item in our list of customers which is index 0. We wanted to modify the data to Steven and we did that with the line above. What do you think will happen if we try that with a string? Say our name was entered as steve but we really wanted it to be Steve with a capital S. What will happen if we try to modify our first character?"
   ]
  },
  {
   "cell_type": "code",
   "execution_count": 22,
   "metadata": {},
   "outputs": [
    {
     "name": "stdout",
     "output_type": "stream",
     "text": [
      "s\n"
     ]
    }
   ],
   "source": [
    "name = 'steve'\n",
    "print(name[0])"
   ]
  },
  {
   "cell_type": "code",
   "execution_count": 23,
   "metadata": {},
   "outputs": [
    {
     "ename": "TypeError",
     "evalue": "'str' object does not support item assignment",
     "output_type": "error",
     "traceback": [
      "\u001b[1;31m---------------------------------------------------------------------------\u001b[0m",
      "\u001b[1;31mTypeError\u001b[0m                                 Traceback (most recent call last)",
      "\u001b[1;32m<ipython-input-23-22ce3f8620d5>\u001b[0m in \u001b[0;36m<module>\u001b[1;34m\u001b[0m\n\u001b[1;32m----> 1\u001b[1;33m \u001b[0mname\u001b[0m\u001b[1;33m[\u001b[0m\u001b[1;36m0\u001b[0m\u001b[1;33m]\u001b[0m \u001b[1;33m=\u001b[0m \u001b[1;34m'S'\u001b[0m\u001b[1;33m\u001b[0m\u001b[1;33m\u001b[0m\u001b[0m\n\u001b[0m\u001b[0;32m      2\u001b[0m \u001b[0mprint\u001b[0m\u001b[1;33m(\u001b[0m\u001b[0mname\u001b[0m\u001b[1;33m)\u001b[0m\u001b[1;33m\u001b[0m\u001b[1;33m\u001b[0m\u001b[0m\n",
      "\u001b[1;31mTypeError\u001b[0m: 'str' object does not support item assignment"
     ]
    }
   ],
   "source": [
    "name[0] = 'S'\n",
    "print(name)"
   ]
  },
  {
   "cell_type": "markdown",
   "metadata": {},
   "source": [
    "We get the error object does not support item assignment, this is because string are immutable which mean they can not be modified. If was want to replace steve with Steve we will have to replace the whole string with a new one. Two things we want to keep in mind are if data types are mutable and ordered. "
   ]
  },
  {
   "cell_type": "code",
   "execution_count": 24,
   "metadata": {},
   "outputs": [
    {
     "name": "stdout",
     "output_type": "stream",
     "text": [
      "5\n"
     ]
    }
   ],
   "source": [
    "print(len(list_of_customers))"
   ]
  },
  {
   "cell_type": "markdown",
   "metadata": {},
   "source": [
    "The keyword <code>is</code> can be used to compare is two items are the same object. <code>is</code> checks that 2 arguments refer to the same object, <code>==</code> checks that 2 arguments have the same value. Lets see some examples.print(len(list_of_customers))"
   ]
  },
  {
   "cell_type": "code",
   "execution_count": 25,
   "metadata": {},
   "outputs": [
    {
     "name": "stdout",
     "output_type": "stream",
     "text": [
      "True\n",
      "False\n"
     ]
    }
   ],
   "source": [
    "print(1 == True)\n",
    "print(1 is True)"
   ]
  },
  {
   "cell_type": "markdown",
   "metadata": {},
   "source": [
    "In Python 3 True and False are keywords and will always be equal to 1 and 0"
   ]
  },
  {
   "cell_type": "code",
   "execution_count": 26,
   "metadata": {},
   "outputs": [
    {
     "name": "stdout",
     "output_type": "stream",
     "text": [
      "True\n",
      "True\n"
     ]
    }
   ],
   "source": [
    "a = 1\n",
    "b = a\n",
    "print(a == b)\n",
    "print(a is b)"
   ]
  },
  {
   "cell_type": "code",
   "execution_count": 27,
   "metadata": {},
   "outputs": [
    {
     "name": "stdout",
     "output_type": "stream",
     "text": [
      "True\n",
      "True\n",
      "True\n",
      "False\n"
     ]
    }
   ],
   "source": [
    "a = [1, 2, 3]\n",
    "b = a\n",
    "c = [1, 2, 3]\n",
    "\n",
    "print(a == b)\n",
    "print(a is b)\n",
    "print(a == c)\n",
    "print(a is c)"
   ]
  },
  {
   "cell_type": "markdown",
   "metadata": {},
   "source": [
    "We see here that even though a and c they are the same list that a and b are. If we change a, b will change as well but c will stay the same."
   ]
  },
  {
   "cell_type": "markdown",
   "metadata": {},
   "source": [
    "## 2.3 Tuples and Sets\n",
    "### 2.3.1 What are Tuples\n",
    "Tuples are similar to list in that they store ordered data but the different is that Tuples are immutable. They are often used to store related pieces of information. Consider this example involving latitude and longitude:"
   ]
  },
  {
   "cell_type": "code",
   "execution_count": 28,
   "metadata": {},
   "outputs": [
    {
     "name": "stdout",
     "output_type": "stream",
     "text": [
      "<class 'tuple'>\n",
      "Latitude: 33.7756\n",
      "Longitude: 84.3963\n"
     ]
    }
   ],
   "source": [
    "location = (33.7756, 84.3963)\n",
    "print(type(location))\n",
    "print(\"Latitude:\", location[0])\n",
    "print(\"Longitude:\", location[1])"
   ]
  },
  {
   "cell_type": "markdown",
   "metadata": {},
   "source": [
    "Tuples are used when you have closely related data that will almost always be used together. Again unlike lists, however, tuples are immutable - you can't add and remove items from tuples, or sort them in place.\n",
    "\n",
    "The parentheses are optional when defining tuples, and programmers frequently omit them if parentheses don't clarify the code"
   ]
  },
  {
   "cell_type": "code",
   "execution_count": 29,
   "metadata": {},
   "outputs": [
    {
     "name": "stdout",
     "output_type": "stream",
     "text": [
      "<class 'tuple'>\n",
      "(3, 4, 5)\n"
     ]
    }
   ],
   "source": [
    "dimensions = 3, 4, 5\n",
    "print(type(dimensions))\n",
    "print(dimensions)"
   ]
  },
  {
   "cell_type": "markdown",
   "metadata": {},
   "source": [
    "### 2.3.2 Tuple Unpacking"
   ]
  },
  {
   "cell_type": "markdown",
   "metadata": {},
   "source": [
    "In the case of dimensions we can assign 3 variable to the of the tuple\n"
   ]
  },
  {
   "cell_type": "code",
   "execution_count": 30,
   "metadata": {},
   "outputs": [
    {
     "name": "stdout",
     "output_type": "stream",
     "text": [
      "The dimensions are 3 x 4 x 5\n"
     ]
    }
   ],
   "source": [
    "length, width, height = dimensions\n",
    "print(\"The dimensions are {} x {} x {}\".\\\n",
    "      format(length, width, height))"
   ]
  },
  {
   "cell_type": "markdown",
   "metadata": {},
   "source": [
    "### 2.3.3 Sets\n",
    "A set is a data type for mutable unordered collections of unique elements. Since each element in a set is unique an application of a set is to quickly remove duplicates from a list. Let see an example of this below. "
   ]
  },
  {
   "cell_type": "code",
   "execution_count": 31,
   "metadata": {},
   "outputs": [
    {
     "name": "stdout",
     "output_type": "stream",
     "text": [
      "{1, 2, 3, 4, 5, 6}\n"
     ]
    }
   ],
   "source": [
    "numbers = [1,2,3,4,2,3,5,6]\n",
    "unique_nums = set(numbers)\n",
    "print(unique_nums)"
   ]
  },
  {
   "cell_type": "markdown",
   "metadata": {},
   "source": [
    "Much like list sets also support the in and not in operators. Along with add and pop methods but pop will require the item you wish to pop or it will select one at random because sets are unordered and there is no last element. Let see an example of this. "
   ]
  },
  {
   "cell_type": "code",
   "execution_count": 32,
   "metadata": {},
   "outputs": [
    {
     "name": "stdout",
     "output_type": "stream",
     "text": [
      "False\n",
      "{'orange', 'banana', 'grapefruit', 'apple', 'watermelon'}\n",
      "orange\n",
      "{'banana', 'grapefruit', 'apple', 'watermelon'}\n"
     ]
    }
   ],
   "source": [
    "# define a set\n",
    "fruit = {\"apple\", \"banana\", \"orange\", \"grapefruit\"}  \n",
    "\n",
    "# check for element\n",
    "print(\"watermelon\" in fruit)  \n",
    "\n",
    "# add an element\n",
    "fruit.add(\"watermelon\")  \n",
    "print(fruit)\n",
    "\n",
    "# remove a random element\n",
    "print(fruit.pop())  \n",
    "print(fruit)"
   ]
  },
  {
   "cell_type": "markdown",
   "metadata": {},
   "source": [
    "The code aboves add watermelon to the set last but and then pops from the set. When we print our results we see that watermelon is now the second item in the list and that orange has been removed. If we wanted to remove watermelon we would need to run fruit.pop(watermelon). \n",
    "\n",
    "Checking for an element in a set is much faster than other containers as each item in a set has a specific address and only that address needs to be checked to see if it's in the container or not. Methods like union, intersection, and difference are easy to perform with sets, and are much faster than such operators with other containers."
   ]
  },
  {
   "cell_type": "markdown",
   "metadata": {},
   "source": [
    "# 2.4 Dictionaries and Identity Operators\n",
    "## 2.4.1 Dictionaries\n",
    "A dictionary is a mutable data type that stores mappings of unique keys to values. Below we have a dictionary that has a city and their corresponding basketball teams."
   ]
  },
  {
   "cell_type": "code",
   "execution_count": 33,
   "metadata": {},
   "outputs": [],
   "source": [
    "basketball_teams = {'Los Angeles': 'Lakers', 'Toronto': 'Raptors', 'Boston': 'Celtics', 'Houston': 'Rockets'}"
   ]
  },
  {
   "cell_type": "markdown",
   "metadata": {},
   "source": [
    "Dictionaries can have keys of any immutable type, like integers or tuples, not just strings. It's not even necessary for every key to have the same type! We can look up values or insert new values in the dictionary using square brackets that enclose the key."
   ]
  },
  {
   "cell_type": "code",
   "execution_count": 34,
   "metadata": {},
   "outputs": [
    {
     "name": "stdout",
     "output_type": "stream",
     "text": [
      "Celtics\n"
     ]
    }
   ],
   "source": [
    "print(basketball_teams['Boston'])"
   ]
  },
  {
   "cell_type": "markdown",
   "metadata": {},
   "source": [
    "We can check if an city is in our list by using the keyword <code>in</code>. Dicts have a related method that's also useful, get. get looks up values in a dictionary, but unlike square brackets, get returns None (or a default value of your choice) if the key isn't found. Let see these in action when we try to find the team for Vancouver. "
   ]
  },
  {
   "cell_type": "code",
   "execution_count": 35,
   "metadata": {},
   "outputs": [
    {
     "ename": "KeyError",
     "evalue": "'Vancouver'",
     "output_type": "error",
     "traceback": [
      "\u001b[1;31m---------------------------------------------------------------------------\u001b[0m",
      "\u001b[1;31mKeyError\u001b[0m                                  Traceback (most recent call last)",
      "\u001b[1;32m<ipython-input-35-8aec37a58427>\u001b[0m in \u001b[0;36m<module>\u001b[1;34m\u001b[0m\n\u001b[1;32m----> 1\u001b[1;33m \u001b[0mprint\u001b[0m\u001b[1;33m(\u001b[0m\u001b[0mbasketball_teams\u001b[0m\u001b[1;33m[\u001b[0m\u001b[1;34m'Vancouver'\u001b[0m\u001b[1;33m]\u001b[0m\u001b[1;33m)\u001b[0m\u001b[1;33m\u001b[0m\u001b[1;33m\u001b[0m\u001b[0m\n\u001b[0m",
      "\u001b[1;31mKeyError\u001b[0m: 'Vancouver'"
     ]
    }
   ],
   "source": [
    "print(basketball_teams['Vancouver'])"
   ]
  },
  {
   "cell_type": "code",
   "execution_count": 36,
   "metadata": {},
   "outputs": [
    {
     "name": "stdout",
     "output_type": "stream",
     "text": [
      "None\n"
     ]
    }
   ],
   "source": [
    "print(basketball_teams.get('Vancouver'))"
   ]
  },
  {
   "cell_type": "code",
   "execution_count": 37,
   "metadata": {},
   "outputs": [
    {
     "name": "stdout",
     "output_type": "stream",
     "text": [
      "N/A\n"
     ]
    }
   ],
   "source": [
    "print(basketball_teams.get('Vancouver', 'N/A'))"
   ]
  },
  {
   "cell_type": "markdown",
   "metadata": {},
   "source": [
    "If you expect lookups to sometimes fail, <code>get()</code> might be a better tool than normal square bracket lookups. \n",
    "\n",
    "### 2.4.2 When to use Dictionaries?\n",
    "Now, let's say as the investment fund manager for VINIX, you also want to print a few more details for each holding. For e.g., what is your rate of return on each of the holdings?\n",
    "\n",
    "A dictionary will work well here as there is a key: value association. In other words, there is a linkage between each holding and the information (e.g., rate of return), and it can be organized under one index fund, VINIX."
   ]
  },
  {
   "cell_type": "code",
   "execution_count": 38,
   "metadata": {},
   "outputs": [
    {
     "name": "stdout",
     "output_type": "stream",
     "text": [
      "0.74\n"
     ]
    }
   ],
   "source": [
    "VINIX =  {'C': 0.74, 'MA': 0.78, 'BA': 0.79, 'PG': 0.85, 'CSCO': 0.88}\n",
    "print(VINIX.get('C'))"
   ]
  },
  {
   "cell_type": "markdown",
   "metadata": {},
   "source": [
    "## 2.5 Compound Data Structures\n",
    "We can include containers in other containers to create compound data structures. For example, A List of list or in this example a dictionary that maps keys to values that are also dictionaries!"
   ]
  },
  {
   "cell_type": "code",
   "execution_count": 39,
   "metadata": {},
   "outputs": [],
   "source": [
    "elements = {\"hydrogen\": {\"number\": 1,\n",
    "                         \"weight\": 1.00794,\n",
    "                         \"symbol\": \"H\"},\n",
    "              \"helium\": {\"number\": 2,\n",
    "                         \"weight\": 4.002602,\n",
    "                         \"symbol\": \"He\"}}"
   ]
  },
  {
   "cell_type": "code",
   "execution_count": 40,
   "metadata": {},
   "outputs": [],
   "source": [
    "# get the helium dictionary\n",
    "helium = elements[\"helium\"]\n",
    "\n",
    "# get hydrogen's weight\n",
    "hydrogen_weight = elements[\"hydrogen\"][\"weight\"] "
   ]
  },
  {
   "cell_type": "markdown",
   "metadata": {},
   "source": [
    "### 2.6 Cheatsheet\n",
    "| Data Structure | Ordered| Mutable| Constructor| Example|\n",
    "|----------------|--------|--------|------------|--------|\n",
    "|List            |Yes     |Yes     | [ ] or list()|[1, 'two', True, 2.3]|\n",
    "|Tuple        |Yes | No | ( ) or tuple()| (1, 'two', True, 2.3)|\n",
    "|Set|No|Yes|{ } or set()|{5.7, 4, 'yes'}|\n",
    "|Dictionary|No|No|{ } or dict()|{'Jun': 75, 'Jul': 89}|"
   ]
  },
  {
   "cell_type": "code",
   "execution_count": 41,
   "metadata": {},
   "outputs": [
    {
     "name": "stdout",
     "output_type": "stream",
     "text": [
      "{'number': 2, 'weight': 4.002602, 'symbol': 'He'}\n",
      "1.00794\n"
     ]
    }
   ],
   "source": [
    "print(helium)\n",
    "print(hydrogen_weight)"
   ]
  },
  {
   "cell_type": "markdown",
   "metadata": {},
   "source": [
    "## 2.7 Quiz Section \n",
    "### Quiz 2.1 List"
   ]
  },
  {
   "cell_type": "markdown",
   "metadata": {},
   "source": [
    "For a quick quiz Try to return the 6th month and the second to last month in months! "
   ]
  },
  {
   "cell_type": "code",
   "execution_count": 43,
   "metadata": {},
   "outputs": [],
   "source": [
    "months = ['January', 'february', 'March', 'April', 'May', 'June', 'July','August', 'September', 'October','November', 'December']\n",
    "# print out 6th month\n",
    "\n",
    "# print out last month"
   ]
  },
  {
   "cell_type": "markdown",
   "metadata": {},
   "source": [
    "### Quiz 2.2 List Index and Mutability\n",
    "Our months seem to all be capitalized except for February can you fix that and print the results?"
   ]
  },
  {
   "cell_type": "code",
   "execution_count": 45,
   "metadata": {},
   "outputs": [
    {
     "name": "stdout",
     "output_type": "stream",
     "text": [
      "['January', None, 'March', 'April', 'May', 'June', 'July', 'August', 'September', 'October', 'November', 'December']\n"
     ]
    }
   ],
   "source": [
    "# fix febuary in months\n",
    "\n",
    "\n",
    "\n",
    "# print out months\n",
    "print(months)"
   ]
  },
  {
   "cell_type": "markdown",
   "metadata": {},
   "source": [
    "### Quiz 2.3 List Slice\n",
    "print the last 6 months but in reverse order, Starting at December and ending at June."
   ]
  },
  {
   "cell_type": "code",
   "execution_count": 47,
   "metadata": {},
   "outputs": [
    {
     "name": "stdout",
     "output_type": "stream",
     "text": [
      "['January', 'February', 'March', 'April', 'May', 'June', 'July', 'August', 'September', 'October', 'November', 'December']\n"
     ]
    }
   ],
   "source": [
    "# Slice last 6 month and reverse order\n",
    "\n",
    "\n",
    "\n",
    "# print out months\n",
    "print(months)"
   ]
  },
  {
   "cell_type": "markdown",
   "metadata": {},
   "source": [
    "### Quiz 2.3 List Slice Solution"
   ]
  },
  {
   "cell_type": "markdown",
   "metadata": {},
   "source": [
    "### Quiz 2.4 List Functions\n",
    "We added 'joe' to the list of customers. We wanted to sort the names now with the <code>sorted()</code> method. Write down what you think the output will be then run the code to check if your guess was right. If it was wrong try to figure why this may be the case. "
   ]
  },
  {
   "cell_type": "markdown",
   "metadata": {},
   "source": [
    "### Quiz 2.5 Memberships\n",
    "Check to see if if the input 'june' is in months, if no is there a way to edit your code to make it where capitalization doesnt matter?"
   ]
  },
  {
   "cell_type": "code",
   "execution_count": 50,
   "metadata": {},
   "outputs": [],
   "source": [
    "# check months for 'june'\n"
   ]
  },
  {
   "cell_type": "markdown",
   "metadata": {},
   "source": [
    "### Quiz 2.6.1 Tuples\n",
    "What is the result of of code below?"
   ]
  },
  {
   "cell_type": "code",
   "execution_count": 53,
   "metadata": {},
   "outputs": [
    {
     "name": "stdout",
     "output_type": "stream",
     "text": [
      "True\n"
     ]
    }
   ],
   "source": [
    "tuple_a = 1, 2\n",
    "tuple_b = (1, 2)\n",
    "\n",
    "print(tuple_a == tuple_b)"
   ]
  },
  {
   "cell_type": "markdown",
   "metadata": {},
   "source": [
    "### Quiz 2.6.2 Set Length"
   ]
  },
  {
   "cell_type": "code",
   "execution_count": 54,
   "metadata": {},
   "outputs": [
    {
     "name": "stdout",
     "output_type": "stream",
     "text": [
      "6\n"
     ]
    }
   ],
   "source": [
    "a = [1, 2, 2, 3, 3, 3, 4, 4, 4, 4]\n",
    "b = set(a)\n",
    "print(len(a) - len(b))"
   ]
  },
  {
   "cell_type": "markdown",
   "metadata": {},
   "source": [
    "### Quiz 2.7 Set Pop\n",
    "After executing this code, will the number 4 be a part of the set b?"
   ]
  },
  {
   "cell_type": "code",
   "execution_count": 55,
   "metadata": {},
   "outputs": [
    {
     "data": {
      "text/plain": [
       "1"
      ]
     },
     "execution_count": 55,
     "metadata": {},
     "output_type": "execute_result"
    }
   ],
   "source": [
    "a = [1, 2, 2, 3, 3, 3, 4, 4, 4, 4]\n",
    "b = set(a)\n",
    "b.add(5)\n",
    "b.pop()"
   ]
  },
  {
   "cell_type": "markdown",
   "metadata": {},
   "source": [
    "### Quiz 2.8 Dictionary\n",
    "Add the New york Knicks to the basketball teams dictionary and then check is they are in the list."
   ]
  },
  {
   "cell_type": "code",
   "execution_count": 56,
   "metadata": {},
   "outputs": [],
   "source": [
    "basketball_teams = {'Los Angeles': 'Lakers', 'Toronto': 'Raptors', 'Boston': 'Celtics', 'Houston': 'Rockets'}\n",
    "\n",
    "# add New York Knicks to basketball_teams\n",
    "\n",
    "# check to see if New York is in basketball_teams"
   ]
  },
  {
   "cell_type": "markdown",
   "metadata": {},
   "source": [
    "### Quiz 2.9 Compound Data Structures\n",
    "Add the element <code>Oxygen</code> to the elements dictionary below. Oxygen has a number of 8, weight of 15.999 and symbol of O."
   ]
  },
  {
   "cell_type": "code",
   "execution_count": 58,
   "metadata": {},
   "outputs": [
    {
     "name": "stdout",
     "output_type": "stream",
     "text": [
      "{'hydrogen': {'number': 1, 'weight': 1.00794, 'symbol': 'H'}, 'helium': {'number': 2, 'weight': 4.002602, 'symbol': 'He'}}\n"
     ]
    }
   ],
   "source": [
    "elements = {\"hydrogen\": {\"number\": 1,\n",
    "                         \"weight\": 1.00794,\n",
    "                         \"symbol\": \"H\"},\n",
    "              \"helium\": {\"number\": 2,\n",
    "                         \"weight\": 4.002602,\n",
    "                         \"symbol\": \"He\"}}\n",
    "\n",
    "# add Oxygen to Elements\n",
    "\n",
    "print(elements)"
   ]
  }
 ],
 "metadata": {
  "kernelspec": {
   "display_name": "Python 3",
   "language": "python",
   "name": "python3"
  },
  "language_info": {
   "codemirror_mode": {
    "name": "ipython",
    "version": 3
   },
   "file_extension": ".py",
   "mimetype": "text/x-python",
   "name": "python",
   "nbconvert_exporter": "python",
   "pygments_lexer": "ipython3",
   "version": "3.7.1"
  }
 },
 "nbformat": 4,
 "nbformat_minor": 2
}
