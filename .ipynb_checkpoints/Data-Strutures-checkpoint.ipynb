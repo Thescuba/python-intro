{
 "cells": [
  {
   "cell_type": "markdown",
   "metadata": {},
   "source": [
    "# Data Structures in Python\n",
    "### In the part one we have worked with indiviual data types such as integers, floats, Booleans and strings. The types of Data Structures we will cover in the section will be: List, Tuples, Sets, Dictionaries and Compound Data Structures. Along with datatype we will also cover Operators: Membership, Identity. Lets get started!"
   ]
  },
  {
   "cell_type": "markdown",
   "metadata": {},
   "source": [
    "In lesson 1 we have seen individual prices of data like a string or a number but python really shines when we work with something called containers of data, which contain other datattypes and even other containers. The first container we will talk about is containers lets see an example of this below."
   ]
  },
  {
   "cell_type": "code",
   "execution_count": 1,
   "metadata": {},
   "outputs": [],
   "source": [
    "months = ['January', 'February', 'March', 'April', 'May', 'June', 'July','August', 'September', 'October','November', 'December']"
   ]
  },
  {
   "cell_type": "markdown",
   "metadata": {},
   "source": [
    "We have a list of string where each element in the list is a month of the year. A list is defined using squared brackets and each element is separated by a common. In python a list is defined using zero based indexing this mean that an elements index is described by how far the element is from the beginning of the list. To retrieve the data at and index value we use the square brackets. The example to get the first element of months below. We choose index 0 the first element is always 0 away from the beinging of the list. Another useful trick is to be able to index from the end of the list instead of the front. We use the negitive sign to moved from the end where the last element in represented by -1."
   ]
  },
  {
   "cell_type": "code",
   "execution_count": 2,
   "metadata": {},
   "outputs": [
    {
     "name": "stdout",
     "output_type": "stream",
     "text": [
      "January\n",
      "Devember\n"
     ]
    }
   ],
   "source": [
    "print(months[0])\n",
    "print(months[-1])"
   ]
  },
  {
   "cell_type": "markdown",
   "metadata": {},
   "source": [
    "For a quick quiz Try to return the 6th month and the second to last month in months! "
   ]
  },
  {
   "cell_type": "code",
   "execution_count": null,
   "metadata": {},
   "outputs": [],
   "source": [
    "# print out 6th month\n",
    "\n",
    "# print out last month"
   ]
  },
  {
   "cell_type": "markdown",
   "metadata": {},
   "source": [
    "A common mistake may be to use use the lengh of a list as an index but there is one problem len of months will be 12 but index 12 represents the 13th element. What do you think will happen when we run the code below?"
   ]
  }
 ],
 "metadata": {
  "kernelspec": {
   "display_name": "Python 3",
   "language": "python",
   "name": "python3"
  },
  "language_info": {
   "codemirror_mode": {
    "name": "ipython",
    "version": 3
   },
   "file_extension": ".py",
   "mimetype": "text/x-python",
   "name": "python",
   "nbconvert_exporter": "python",
   "pygments_lexer": "ipython3",
   "version": "3.7.1"
  }
 },
 "nbformat": 4,
 "nbformat_minor": 2
}
