{
 "cells": [
  {
   "cell_type": "markdown",
   "metadata": {},
   "source": [
    "# 3 Control Flow\n",
    "Here we will learn to add more functionality to our code by using conditonal staements and loops. In this lesson we will be going over the many different ways to control the flow of your code.\n",
    "\n",
    "## 3.1 Conditional Statements\n",
    "### 3.1.1 Conditional Statements Intro\n",
    "Lets start with a real world example, say a customer is use a mobile app payment app where they spend the credit they have in there wallet. The user wants to make sure that they always have funds so they want the app to automatically transfer funds from their bank account to there mobile wallet when they have less than $5 in credit. This can easily be done in code using an <code>if</code> statenent. An <code>if</code> statement is a conditional statement that runs or skips code based on whether a condition is true or false. The example is below. \n"
   ]
  },
  {
   "cell_type": "code",
   "execution_count": 1,
   "metadata": {},
   "outputs": [
    {
     "ename": "NameError",
     "evalue": "name 'phone_balance' is not defined",
     "output_type": "error",
     "traceback": [
      "\u001b[1;31m---------------------------------------------------------------------------\u001b[0m",
      "\u001b[1;31mNameError\u001b[0m                                 Traceback (most recent call last)",
      "\u001b[1;32m<ipython-input-1-8e890685b738>\u001b[0m in \u001b[0;36m<module>\u001b[1;34m\u001b[0m\n\u001b[1;32m----> 1\u001b[1;33m \u001b[1;32mif\u001b[0m \u001b[0mphone_balance\u001b[0m \u001b[1;33m<\u001b[0m \u001b[1;36m5\u001b[0m\u001b[1;33m:\u001b[0m\u001b[1;33m\u001b[0m\u001b[1;33m\u001b[0m\u001b[0m\n\u001b[0m\u001b[0;32m      2\u001b[0m     \u001b[0mphone_balance\u001b[0m \u001b[1;33m+=\u001b[0m \u001b[1;36m10\u001b[0m\u001b[1;33m\u001b[0m\u001b[1;33m\u001b[0m\u001b[0m\n\u001b[0;32m      3\u001b[0m     \u001b[0mbank_balance\u001b[0m \u001b[1;33m-=\u001b[0m \u001b[1;36m10\u001b[0m\u001b[1;33m\u001b[0m\u001b[1;33m\u001b[0m\u001b[0m\n",
      "\u001b[1;31mNameError\u001b[0m: name 'phone_balance' is not defined"
     ]
    }
   ],
   "source": [
    "if phone_balance < 5:\n",
    "    phone_balance += 10\n",
    "    bank_balance -= 10"
   ]
  },
  {
   "cell_type": "markdown",
   "metadata": {},
   "source": [
    "Let's break this down.\n",
    "\n",
    "An <code>if</code> statement starts with the <code>if</code> keyword, followed by the condition to be checked, in this case phone_balance < 5, and then a colon. The condition is specified in a boolean expression that evaluates to either True or False.\n",
    "\n",
    "After this line is an indented block of code to be executed if that condition is true. Here, the lines that increment phone_balance and decrement bank_balance only execute if it is true that phone_balance is less than 5. If not, the code in this if block is simply skipped.\n",
    "\n",
    "Use Comparison Operators in Conditional Statements! We have just seen how to run a block of code when a condition is true but say we wanted a different condition to look for when the first condition is false. \n",
    "\n",
    "\n",
    "If, Elif, Else\n",
    "In addition to the if clause, there are two other optional clauses often used with an if statement. For example:\n"
   ]
  },
  {
   "cell_type": "code",
   "execution_count": null,
   "metadata": {},
   "outputs": [],
   "source": [
    "if season == 'spring':\n",
    "    print('plant the garden!')\n",
    "elif season == 'summer':\n",
    "    print('water the garden!')\n",
    "elif season == 'fall':\n",
    "    print('harvest the garden!')\n",
    "elif season == 'winter':\n",
    "    print('stay indoors!')\n",
    "else:\n",
    "    print('unrecognized season')"
   ]
  },
  {
   "cell_type": "markdown",
   "metadata": {},
   "source": [
    "The code allows use to check for which season it is and from there we can decide which line of code to run!"
   ]
  },
  {
   "cell_type": "markdown",
   "metadata": {},
   "source": [
    "1. <code>if</code>: An <code>if</code> statement must always start with an <code>if</code> clause, which contains the first condition that is checked. If this evaluates to True, Python runs the code indented in this if block and then skips to the rest of the code after the <code>if</code> statement.\n",
    "\n",
    "2. <code>elif</code>: elif is short for \"else if.\" An elif clause is used to check for an additional condition if the conditions in the previous clauses in the if statement evaluate to False. As you can see in the example, you can have multiple elif blocks to handle different situations.\n",
    "\n",
    "3. <code>else</code>: Last is the else clause, which must come at the end of an <code>if</code> statement if used. This clause doesn't require a condition. The code in an else block is run if all conditions above that in the <code>if</code> statement evaluate to False."
   ]
  },
  {
   "cell_type": "code",
   "execution_count": 6,
   "metadata": {},
   "outputs": [
    {
     "name": "stdout",
     "output_type": "stream",
     "text": [
      "Since you're from CA, your total cost is $21.50.\n"
     ]
    }
   ],
   "source": [
    "# a sample state and purchase amount\n",
    "state = 'CA'\n",
    "purchase_amount = 20.00    \n",
    "total_cost = 0\n",
    "\n",
    "if state == 'CA':\n",
    "    tax_amount = .075\n",
    "    total_cost = purchase_amount*(1+tax_amount)\n",
    "\n",
    "elif state == 'MN':\n",
    "    tax_amount = .095\n",
    "    total_cost = purchase_amount*(1+tax_amount)\n",
    "\n",
    "elif state == 'NY':\n",
    "    tax_amount = .089\n",
    "    total_cost = purchase_amount*(1+tax_amount)\n",
    "\n",
    "\n",
    "print(f\"Since you're from {state}, your total cost is ${total_cost:.2f}.\")"
   ]
  },
  {
   "cell_type": "markdown",
   "metadata": {},
   "source": [
    "In the code above our state was 'CA' so we have a tax ammount of 0.075 and we finished the total_cost with a value of  $21.50"
   ]
  },
  {
   "cell_type": "markdown",
   "metadata": {},
   "source": [
    "### 3.1.2 Complex Boolean Expressions\n",
    "The examples we have seen take a simple condition but we can start to get more complex conditions. First we can use logical operators such as <code>not</code>, <code>or</code> and <code>and</code> to make sure the expression evaluates to true. Say we would like to find if someone is a teenager, the age range we want to look for is 13-19. The code below shows us how easy that can be."
   ]
  },
  {
   "cell_type": "code",
   "execution_count": 2,
   "metadata": {},
   "outputs": [
    {
     "name": "stdout",
     "output_type": "stream",
     "text": [
      "You are a teenager\n"
     ]
    }
   ],
   "source": [
    "# a sample age\n",
    "age = 13\n",
    "if age >= 13 and age <=19:\n",
    "    print('You are a teenager')"
   ]
  },
  {
   "cell_type": "markdown",
   "metadata": {},
   "source": [
    "We can do this one better and combine the two statments since we are working with numerics with a lowerbound and and upper bound."
   ]
  },
  {
   "cell_type": "code",
   "execution_count": 3,
   "metadata": {},
   "outputs": [
    {
     "name": "stdout",
     "output_type": "stream",
     "text": [
      "You are a teenager\n"
     ]
    }
   ],
   "source": [
    "# a sample age\n",
    "age = 13\n",
    "if 13 <= age <=19:\n",
    "    print('You are a teenager')"
   ]
  },
  {
   "cell_type": "markdown",
   "metadata": {},
   "source": [
    "### 3.1.3 Bad examples\n",
    "What we want to avoid is using <code>True</code> and <code>False</code>  in our conditional statments."
   ]
  },
  {
   "cell_type": "code",
   "execution_count": 4,
   "metadata": {},
   "outputs": [
    {
     "name": "stdout",
     "output_type": "stream",
     "text": [
      "This indented code will always get run.\n"
     ]
    }
   ],
   "source": [
    "if True:\n",
    "    print('This indented code will always get run.')"
   ]
  },
  {
   "cell_type": "markdown",
   "metadata": {},
   "source": [
    "If the code is always gonna get ran we dont even need the if statment"
   ]
  },
  {
   "cell_type": "code",
   "execution_count": 5,
   "metadata": {},
   "outputs": [
    {
     "name": "stdout",
     "output_type": "stream",
     "text": [
      "This code will always get run.\n"
     ]
    }
   ],
   "source": [
    "print('This code will always get run.')"
   ]
  },
  {
   "cell_type": "markdown",
   "metadata": {},
   "source": [
    "Using <code>False</code> will alway ignore the code, so would work the same as never having the code in the first place."
   ]
  },
  {
   "cell_type": "code",
   "execution_count": 6,
   "metadata": {},
   "outputs": [],
   "source": [
    "if False:\n",
    "    print('This indented code will never get run.')"
   ]
  },
  {
   "cell_type": "markdown",
   "metadata": {},
   "source": [
    "The one thing we need to make sure is that entire line of an if statment must be a boolean expression that evaluate to true or false and it is this value that decides if an indented block in the if statment executes or not. If we have boolean variables we do not need to use the <code>==</code> expression as the variable itself is already a boolean expression. The below is what we dont want to do with our code."
   ]
  },
  {
   "cell_type": "code",
   "execution_count": null,
   "metadata": {},
   "outputs": [],
   "source": [
    "is_ready = True\n",
    "\n",
    "if is_ready == True:\n",
    "    print('Start trip')\n",
    "elif is_ready == False:\n",
    "    print('Get ready')"
   ]
  },
  {
   "cell_type": "markdown",
   "metadata": {},
   "source": [
    "Lets make some improvments!"
   ]
  },
  {
   "cell_type": "code",
   "execution_count": null,
   "metadata": {},
   "outputs": [],
   "source": [
    "is_ready = True\n",
    "\n",
    "if is_ready:\n",
    "    print('Start trip')\n",
    "elif not is_ready:\n",
    "    print('Get ready')"
   ]
  },
  {
   "cell_type": "markdown",
   "metadata": {},
   "source": [
    "Great! We removed the coolean comparators but we can do one additional step"
   ]
  },
  {
   "cell_type": "code",
   "execution_count": null,
   "metadata": {},
   "outputs": [],
   "source": [
    "is_ready = True\n",
    "\n",
    "if is_ready:\n",
    "    print('Start trip')\n",
    "else:\n",
    "    print('Get ready')"
   ]
  },
  {
   "cell_type": "markdown",
   "metadata": {},
   "source": [
    "Since in our case there are only 2 states, True and False since we check for if its true in the first state we know what if we are not already ready we would like to get ready. "
   ]
  },
  {
   "cell_type": "markdown",
   "metadata": {},
   "source": [
    "### 3.1.4 Truth Testing\n",
    "If we use a non-boolean object as a condition in an if statement in place of the boolean expression, Python will check for its truth value and use that to decide whether or not to run the indented code. By default, the truth value of an object in Python is considered True unless specified as False in the documentation. Here are most of the built-in objects that are considered False in Python:\n",
    "\n",
    "constants defined to be false: \n",
    "1. None and False\n",
    "2. zero of any numeric type: 0, 0.0, 0j, Decimal(0), Fraction(0, 1)\n",
    "3. empty sequences and collections: '', \"\", (), [], {}, set(), range(0)\n",
    "\n",
    "Let see and example of this"
   ]
  },
  {
   "cell_type": "code",
   "execution_count": 7,
   "metadata": {},
   "outputs": [
    {
     "name": "stdout",
     "output_type": "stream",
     "text": [
      "There are 4 mistakes\n"
     ]
    }
   ],
   "source": [
    "errors = 4\n",
    "\n",
    "if errors:\n",
    "    print(f\"There are {errors} mistakes\")\n",
    "else:\n",
    "    print(\"No mistakes Here!\")"
   ]
  },
  {
   "cell_type": "markdown",
   "metadata": {},
   "source": []
  },
  {
   "cell_type": "code",
   "execution_count": null,
   "metadata": {},
   "outputs": [],
   "source": []
  },
  {
   "cell_type": "code",
   "execution_count": null,
   "metadata": {},
   "outputs": [],
   "source": []
  },
  {
   "cell_type": "markdown",
   "metadata": {},
   "source": [
    "## Quiz 3.1 \n",
    "### Quiz 3.1 Conditional Statements\n",
    "Guess My Number"
   ]
  },
  {
   "cell_type": "code",
   "execution_count": null,
   "metadata": {},
   "outputs": [],
   "source": [
    "'''\n",
    "You decide you want to play a game where you are hiding \n",
    "a number from someone.  Store this number in a variable \n",
    "called 'answer'.  Another user provides a number called\n",
    "'guess'.  By comparing guess to answer, you inform the user\n",
    "if their guess is too high or too low.\n",
    "\n",
    "# Fill in the conditionals below to inform the user about how\n",
    "their guess compares to the answer.\n",
    "'''\n",
    "answer = #provide answer\n",
    "guess = #provide guess\n",
    "\n",
    "if #provide conditional\n",
    "    result = \"Oops!  Your guess was too low.\"\n",
    "elif #provide conditional\n",
    "    result = \"Oops!  Your guess was too high.\"\n",
    "elif #provide conditional\n",
    "    result = \"Nice!  Your guess matched the answer!\"\n",
    "\n",
    "print(result)"
   ]
  },
  {
   "cell_type": "code",
   "execution_count": null,
   "metadata": {},
   "outputs": [],
   "source": [
    "### Quiz 3.1 Conditional Statements Solution"
   ]
  },
  {
   "cell_type": "code",
   "execution_count": null,
   "metadata": {},
   "outputs": [],
   "source": [
    "answer = 5\n",
    "guess = 10\n",
    "\n",
    "if guess<answer:\n",
    "    result = \"Oops!  Your guess was too low.\"\n",
    "elif guess>answer:\n",
    "    result = \"Oops!  Your guess was too high.\"\n",
    "elif guess == answer:\n",
    "    result = \"Nice!  Your guess matched the answer!\"\n",
    "\n",
    "print(result)"
   ]
  }
 ],
 "metadata": {
  "kernelspec": {
   "display_name": "Python 3",
   "language": "python",
   "name": "python3"
  },
  "language_info": {
   "codemirror_mode": {
    "name": "ipython",
    "version": 3
   },
   "file_extension": ".py",
   "mimetype": "text/x-python",
   "name": "python",
   "nbconvert_exporter": "python",
   "pygments_lexer": "ipython3",
   "version": "3.7.1"
  }
 },
 "nbformat": 4,
 "nbformat_minor": 2
}
