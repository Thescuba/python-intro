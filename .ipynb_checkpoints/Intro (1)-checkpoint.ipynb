{
 "cells": [
  {
   "cell_type": "markdown",
   "metadata": {},
   "source": [
    "## Quick Intro to Python\n",
    "I have created this ntoebook with the hopes that anyone who is new to python will be able to understand quickly and effiectly how it works. I will be going over good python practices and also how some common erros may occur along with solutions on how to debug. We will first go over the topic with some basic examples along the way, and each section should have a small quiz section.\n",
    "\n",
    "### 3 Import Things to Remember About Python\n",
    "* Python is case sensitive\n",
    "* Spacing is important\n",
    "* Errors dont make you a bad programmer but just the computer telling you that it does not understand.\n",
    "\n",
    "The first things we will learn is how to go over arithmetic operations. The table below shows the 7 common operators\n",
    "\n",
    "| Symbol|Arithmetic operator|\n",
    "|:-----:|:-------------:|\n",
    "|  +    | Addition      |\n",
    "|  -    | Subtraction   |\n",
    "|  *    | Multiplication|\n",
    "|  /    | Division      |\n",
    "|  %    | Modulo        |\n",
    "|  **   | Exponentiation|\n",
    "|  //   | Floor Division|\n",
    "\n",
    "\n",
    "To help see what our code is doing we will be using pythons built in print function to displacy our results. To use print we will type print followed by parentheses, another cool feature is that we can print out a statement followed by out results. To make reading mathamatical forumals easier we can choose to add more spacing as seen in the first example below, the addition opperator will come after the multiplcation so we choose to space out 1 and 2 while keeping 3 and 4 tight.  "
   ]
  },
  {
   "cell_type": "code",
   "execution_count": 1,
   "metadata": {},
   "outputs": [
    {
     "name": "stdout",
     "output_type": "stream",
     "text": [
      "15\n"
     ]
    }
   ],
   "source": [
    "print(1 + 2 + 3*4)"
   ]
  },
  {
   "cell_type": "code",
   "execution_count": 4,
   "metadata": {},
   "outputs": [
    {
     "name": "stdout",
     "output_type": "stream",
     "text": [
      "15\n"
     ]
    }
   ],
   "source": [
    "print(1 + 2 + (3*4))"
   ]
  },
  {
   "cell_type": "code",
   "execution_count": 7,
   "metadata": {},
   "outputs": [
    {
     "name": "stdout",
     "output_type": "stream",
     "text": [
      "15\n"
     ]
    }
   ],
   "source": [
    "print((1+2) + 3*4)"
   ]
  },
  {
   "cell_type": "code",
   "execution_count": 9,
   "metadata": {},
   "outputs": [
    {
     "name": "stdout",
     "output_type": "stream",
     "text": [
      "21\n"
     ]
    }
   ],
   "source": [
    "print(1 + (2+3)*4)"
   ]
  },
  {
   "cell_type": "code",
   "execution_count": 3,
   "metadata": {},
   "outputs": [
    {
     "name": "stdout",
     "output_type": "stream",
     "text": [
      "Sum is  15\n"
     ]
    }
   ],
   "source": [
    "print('Sum is ', 1 + 2 + (3*4))"
   ]
  },
  {
   "cell_type": "markdown",
   "metadata": {},
   "source": [
    "Python follows the rules of order of opertations, meaning that addition subtraction will be excuted last with parentheses, exponents, multiplication and division all come before. "
   ]
  },
  {
   "cell_type": "markdown",
   "metadata": {},
   "source": [
    "## Variables\n",
    "Understanding arithmetic is quite useful may be great for solving mathmatical problems quickly but understand variables can turn Python into more than just a calculator. Using variables as opposed to just raw numbers has many advantages. Creating a new variable is simple, below we have an example of a varaible."
   ]
  },
  {
   "cell_type": "code",
   "execution_count": 1,
   "metadata": {},
   "outputs": [],
   "source": [
    "sea_population = 704352"
   ]
  },
  {
   "cell_type": "markdown",
   "metadata": {},
   "source": [
    "The variable name in this example is sea_population followed by the '=' sign which acts as the assignment operator and what comes after the equals sign is the variable's value. The code below will show us some examples. In this first example we assign x a value of 2, then we assign y the value of x which now means y = 2. The thrid line in the code will print out our value of y, which is what we were expecting and is 2."
   ]
  },
  {
   "cell_type": "code",
   "execution_count": 2,
   "metadata": {},
   "outputs": [
    {
     "name": "stdout",
     "output_type": "stream",
     "text": [
      "2\n"
     ]
    }
   ],
   "source": [
    "x = 2\n",
    "y = x\n",
    "print(y)"
   ]
  },
  {
   "cell_type": "markdown",
   "metadata": {},
   "source": [
    "Lets see what happen when we change x?"
   ]
  },
  {
   "cell_type": "code",
   "execution_count": 5,
   "metadata": {},
   "outputs": [
    {
     "name": "stdout",
     "output_type": "stream",
     "text": [
      "y: 2\n",
      "x: 3\n"
     ]
    }
   ],
   "source": [
    "x = 3\n",
    "print('y:', y)\n",
    "print('x:', x)"
   ]
  },
  {
   "cell_type": "markdown",
   "metadata": {},
   "source": [
    "We can see that reassigning x to 3 did not change y. In python we call this an immutable data type but more on that term later. The last thing we want to see if what happend when we assign with an undefined variable. "
   ]
  },
  {
   "cell_type": "code",
   "execution_count": 4,
   "metadata": {},
   "outputs": [
    {
     "ename": "NameError",
     "evalue": "name 'z' is not defined",
     "output_type": "error",
     "traceback": [
      "\u001b[1;31m---------------------------------------------------------------------------\u001b[0m",
      "\u001b[1;31mNameError\u001b[0m                                 Traceback (most recent call last)",
      "\u001b[1;32m<ipython-input-4-5f30900c8372>\u001b[0m in \u001b[0;36m<module>\u001b[1;34m()\u001b[0m\n\u001b[0;32m      1\u001b[0m \u001b[0mx\u001b[0m \u001b[1;33m=\u001b[0m \u001b[1;36m2\u001b[0m\u001b[1;33m\u001b[0m\u001b[0m\n\u001b[1;32m----> 2\u001b[1;33m \u001b[0my\u001b[0m \u001b[1;33m=\u001b[0m \u001b[0mz\u001b[0m\u001b[1;33m\u001b[0m\u001b[0m\n\u001b[0m\u001b[0;32m      3\u001b[0m \u001b[0mprint\u001b[0m\u001b[1;33m(\u001b[0m\u001b[0my\u001b[0m\u001b[1;33m)\u001b[0m\u001b[1;33m\u001b[0m\u001b[0m\n",
      "\u001b[1;31mNameError\u001b[0m: name 'z' is not defined"
     ]
    }
   ],
   "source": [
    "x = 2\n",
    "y = z\n",
    "print(y)"
   ]
  },
  {
   "cell_type": "markdown",
   "metadata": {},
   "source": [
    "The computer is telling us that it has an error understanding our code. \"NameError: name 'z' is not defined\" means that there is currently no defined variable z and y can not be assigned to this unknown value z."
   ]
  },
  {
   "cell_type": "markdown",
   "metadata": {},
   "source": [
    "In python there are two data types for numerical values:\n",
    "* int - for integer values\n",
    "* float - for deciaml or floating point values"
   ]
  },
  {
   "cell_type": "code",
   "execution_count": 10,
   "metadata": {},
   "outputs": [
    {
     "name": "stdout",
     "output_type": "stream",
     "text": [
      "Datatype of a is <class 'int'>\n",
      "Datatype of b is <class 'float'>\n"
     ]
    }
   ],
   "source": [
    "a = 1\n",
    "b = 1.0\n",
    "print('Datatype of a is', type(a))\n",
    "print('Datatype of b is', type(b))"
   ]
  },
  {
   "cell_type": "code",
   "execution_count": null,
   "metadata": {},
   "outputs": [],
   "source": []
  },
  {
   "cell_type": "markdown",
   "metadata": {},
   "source": [
    "## Variables Quiz\n",
    "First question is how much an able player actually make? In our example we will be trying to figure out how much steph curry actually makes. We know his gross pay is 34,682,550 and he will have to pay 10% for  escrow, 33.61% for federal taxes, 11.84% city/state taxes, 2.7% to his agent and .05% to 401k. How much is curry left with? "
   ]
  },
  {
   "cell_type": "code",
   "execution_count": null,
   "metadata": {},
   "outputs": [],
   "source": [
    "# Try to answer the question here we will start you off with gross pay. \n",
    "Gross_pay = 34682550\n",
    "\n",
    "\n",
    "\n",
    "\n",
    "\n",
    "\n"
   ]
  },
  {
   "cell_type": "markdown",
   "metadata": {},
   "source": [
    "Running the next two lines will show you if you answer is correct. "
   ]
  },
  {
   "cell_type": "code",
   "execution_count": 15,
   "metadata": {},
   "outputs": [
    {
     "name": "stdout",
     "output_type": "stream",
     "text": [
      "Expected net pay is: 18447648.345\n"
     ]
    }
   ],
   "source": [
    "Gross_pay = 34682550\n",
    "escrow = Gross_pay*.1\n",
    "fed_tax = Gross_pay*.3361\n",
    "cstate_tax = Gross_pay*.027\n",
    "invest_401k = Gross_pay*.005\n",
    "net_pay = Gross_pay - escrow - fed_tax - cstate_tax - invest_401k\n",
    "print(\"Expected net pay is:\", net_pay)"
   ]
  },
  {
   "cell_type": "markdown",
   "metadata": {},
   "source": [
    "A second way to write the code is. "
   ]
  },
  {
   "cell_type": "code",
   "execution_count": 14,
   "metadata": {},
   "outputs": [
    {
     "name": "stdout",
     "output_type": "stream",
     "text": [
      "Expected net pay is: 18447648.345\n"
     ]
    }
   ],
   "source": [
    "Gross_pay = 34682550\n",
    "net_pay = Gross_pay\n",
    "escrow = Gross_pay*.1\n",
    "net_pay -= escrow\n",
    "fed_tax = Gross_pay*.3361\n",
    "net_pay -= fed_tax\n",
    "cstate_tax = Gross_pay*.027\n",
    "net_pay -= cstate_tax\n",
    "invest_401k = Gross_pay*.005\n",
    "net_pay -= invest_401k\n",
    "print(\"Expected net pay is:\", net_pay)"
   ]
  },
  {
   "cell_type": "code",
   "execution_count": null,
   "metadata": {},
   "outputs": [],
   "source": []
  }
 ],
 "metadata": {
  "kernelspec": {
   "display_name": "Python 3",
   "language": "python",
   "name": "python3"
  },
  "language_info": {
   "codemirror_mode": {
    "name": "ipython",
    "version": 3
   },
   "file_extension": ".py",
   "mimetype": "text/x-python",
   "name": "python",
   "nbconvert_exporter": "python",
   "pygments_lexer": "ipython3",
   "version": "3.6.5"
  }
 },
 "nbformat": 4,
 "nbformat_minor": 2
}
