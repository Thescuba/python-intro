{
 "cells": [
  {
   "cell_type": "markdown",
   "metadata": {},
   "source": [
    "# Anaconda \n",
    "## Introduction\n",
    "Anaconda is a distribution of packages built for data science. It comes with conda, a package and environment manager. You'll be using conda to create environments for isolating your projects that use different versions of Python and/or different packages. You'll also use it to install, uninstall, and update packages in your environments. Using Anaconda has made my life working with data much more pleasant.\n",
    "\n",
    "Virtualenv allows users to separate libraries required by different projects allowing you to avoid conflicts. When your working with data, Anaconda is the way to go. Anaconda is a distribution of libraries and software specifically built for data science. It comes with conda, an environment manager that will make your life a thousand times better.\n",
    "\n",
    "Anaconda is actually a distribution of software that comes with conda, Python, and over 150 scientific packages and their dependencies. The application conda is a package and environment manager. Anaconda is a fairly large download (~500 MB) because it comes with the most common data science packages in Python. If you don't need all the packages or need to conserve bandwidth or storage space, there is also Miniconda, a smaller distribution that includes only conda and Python. Miniconda can do everything Anaconda does, but doesn't have the preinstalled packages. You can still install any of the available packages with conda, it just doesn't come with them, so either Anaconda or Miniconda are fine for this course.\n",
    "\n",
    "Conda is a program you'll be using exclusively from the command line, so if you aren't comfortable using it, check out this [command prompt tutorial for Windows](https://www.lynda.com/-tutorials/Windows-command-line-basics/497312/513424-4.html) or our [Linux Command Line Basics course for OSX/Linux](https://www.udacity.com/course/linux-command-line-basics--ud595).\n",
    "\n",
    "You probably already have Python installed and wonder why you need this at all. First, since Anaconda comes with a bunch of data science packages, you'll be all set to start working with data. Secondly, using conda to manage your packages and environments will reduce future issues dealing with the various libraries you'll be using.\n"
   ]
  },
  {
   "cell_type": "markdown",
   "metadata": {},
   "source": [
    "## Managing Packages\n",
    "Package managers are used to install libraries and other software on your computer. You’re probably already familiar with pip, it’s the default package manager for Python libraries. Conda is similar to pip except that the available packages are focused around data science while pip is for general use. However, conda is not Python specific like pip is, it can also install non-Python packages. It is a package manager for any software stack. That being said, not all Python libraries are available from the Anaconda distribution and conda. You can (and will) still use pip alongside conda to install packages.\n",
    "\n",
    "Conda installs precompiled packages. For example, the Anaconda distribution comes with Numpy, Scipy and Scikit-learn compiled with the MKL library, speeding up various math operations. The packages are maintained by contributors to the distribution which means they usually lag behind new releases. But because someone needed to build the packages for many systems, they tend to be more stable (and more convenient for you)."
   ]
  },
  {
   "cell_type": "markdown",
   "metadata": {},
   "source": [
    "## Environments\n",
    "Along with managing packages, Conda is also a virtual environment manager. It's similar to [virtualenv](https://virtualenv.pypa.io/en/stable/) and [pyenv](https://github.com/pyenv/pyenv), other popular environment managers.\n",
    "\n",
    "Environments allow you to separate and isolate the packages you are using for different projects. Often you’ll be working with code that depends on different versions of some library. For example, you could have code that uses new features in Numpy, or code that uses old features that have been removed. It’s practically impossible to have two versions of Numpy installed at once. Instead, you should make an environment for each version of Numpy then work in the appropriate environment for the project.\n",
    "\n",
    "This issue also happens a lot when dealing with Python 2 and Python 3. You might be working with old code that doesn’t run in Python 3 and new code that doesn’t run in Python 2. Having both installed can lead to a lot of confusion and bugs. It’s much better to have separate environments.\n",
    "\n",
    "You can also export the list of packages in an environment to a file, then include that file with your code. This allows other people to easily load all the dependencies for your code. Pip has similar functionality with <code>pip freeze > requirements.txt</code>.\n",
    "\n",
    "Next, we will get into the details of using Anaconda. First covering installing it, then using the package manager, and finally creating and managing environments."
   ]
  },
  {
   "cell_type": "markdown",
   "metadata": {},
   "source": [
    "## Installing Anaconda\n",
    "Anaconda is available for Windows, Mac OS X, and Linux. You can find the installers and installation instructions at [https://www.anaconda.com/download/](https://www.anaconda.com/download/)\n",
    "\n",
    "If you already have Python installed on your computer, this won't break anything. Instead, the default Python used by your scripts and programs will be the one that comes with Anaconda.\n",
    "\n",
    "Choose the Python 3.6 version, you can install Python 2 versions later. Also, choose the 64-bit installer if you have a 64-bit operating system, otherwise go with the 32-bit installer. Go ahead and choose the appropriate version, then install it. Continue on afterwards!\n",
    "\n",
    "To avoid errors later, it's best to update all the packages in the default environment. Open the Anaconda Prompt application. In the prompt, run the following commands:\n",
    "\n",
    "```\n",
    "conda upgrade conda\n",
    "conda upgrade --all\n",
    "```\n",
    "\n",
    "Answer yes when asked if you want to install the packages. The packages that come with the initial install tend to be out of date, so updating them now will prevent future errors from out of date software."
   ]
  },
  {
   "cell_type": "markdown",
   "metadata": {},
   "source": [
    "## Installing Packages\n",
    "Lets install 3 packages we will use, numpy, pandas and matplotlib. All we need to do is run the conda install command followed by which packages we would like to install, each separated by a space.\n",
    "\n",
    "<code>conda install numpy pandas matplotlib</code>\n",
    "\n",
    "We will then be prompted to preceed, once again enter <code>y</code> to proceed.\n",
    "\n",
    "![install_package](images/install_package.PNG)"
   ]
  },
  {
   "cell_type": "markdown",
   "metadata": {},
   "source": [
    "Lets also install jupyter labs which is how we will create and run our notebooks. \n",
    "\n",
    "Lets try to run the prompt <code>conda install jupyterlabs</code>\n",
    "![](images/jupyterlabs.PNG)\n",
    "\n",
    "We get the error PackagesNotFoundError this mean that is not available in our current channels. Now in this case it is because we had missspelled jupyterlabs with an s at the end where it should have been jupyterlab. In the case that the package was spelled right and not found in our current channels would could do the follow steps. Lets search [anaconda.org](https://anaconda.org/search?q=jupyterlab) to see if the package is found in any other channels.\n",
    "![anaconda](images/anaconda.PNG)\n",
    "\n"
   ]
  },
  {
   "cell_type": "markdown",
   "metadata": {},
   "source": [
    "Clicking on jupyterlab will take us to the documentation with how to install the package. \n",
    "![anaconda](images/anaconda2.PNG)\n",
    "\n",
    "We will run the <code>conda install -c conda-forge jupyterlab</code> command \n",
    "\n",
    "We will then be prompted to preceed, once again enter <code>y</code> to proceed.\n",
    "\n",
    "Great now lets launch jupyterlabs by running <code>jupyter lab</code> command\n",
    "\n",
    "![jupyterlabs](images/jupyterlabs2.PNG)"
   ]
  },
  {
   "cell_type": "markdown",
   "metadata": {},
   "source": [
    "## How to Create an Environment\n",
    "To create a new environment we would like all we need is to run the command below\n",
    "\n",
    "<code>conda create -n python_intro python=3</code>\n",
    "![new_env](images/new_env.PNG)\n",
    "\n",
    "Enter <code>y</code> to proceed.\n",
    "\n",
    "Conda will setup the environment with the default packages under the name python_intro.\n",
    "\n",
    "To activate our environment we will use the command\n",
    "If we using windows\n",
    "\n",
    "<code> activate python_intro </code>\n",
    "\n",
    "or if you are using linux or a mac try using the command below, sudo also might be needed.\n",
    "\n",
    "<code> source activate python_intro </code>\n",
    "\n",
    "You should expect something similar to the image below. <code>(python_intro)</code> before our directory mean that we are working in that virtual environment. \n",
    "\n",
    "![](images/activate.PNG)\n",
    "\n",
    "If we want to see what is currently installed all we need to do is run <code>conda list</code>\n",
    "\n",
    "![](images/packages.PNG)"
   ]
  },
  {
   "cell_type": "markdown",
   "metadata": {},
   "source": [
    "### Saving and Loading Environments\n",
    "A really useful feature is sharing environments so others can install all the packages used in your code, with the correct versions. You can save the packages to a [YAML](https://yaml.org/) file with <code>conda env export > environment.yaml</code>. The first part <code>conda env export</code> writes out all the packages in the environment, including the Python version.\n",
    "![](images/export.PNG)\n",
    "![](images/export2.PNG)\n",
    "\n",
    "Above you can see the name of the environment and all the dependencies (along with versions) are listed. The second part of the export command, <code>> environment.yaml</code> writes the exported text to a YAML file environment.yaml. This file can now be shared and others will be able to create the same environment you used for the project.\n",
    "\n",
    "To create an environment from an environment file use <code>conda env create -f environment.yaml</code>. This will create a new environment with the same name listed in environment.yaml."
   ]
  },
  {
   "cell_type": "markdown",
   "metadata": {},
   "source": [
    "### Listing Environments\n",
    "If you forget what your environments are named (happens to me sometimes), use conda env list to list out all the environments you've created. You should see a list of environments, there will be an asterisk next to the environment you're currently in. The default environment, the environment used when you aren't in one, is called root\n",
    "### Removing Environments\n",
    "If there are environments you don't use anymore, conda env remove -n env_name will remove the specified environment (here, named env_name)."
   ]
  },
  {
   "cell_type": "code",
   "execution_count": null,
   "metadata": {},
   "outputs": [],
   "source": []
  }
 ],
 "metadata": {
  "kernelspec": {
   "display_name": "Python 3",
   "language": "python",
   "name": "python3"
  },
  "language_info": {
   "codemirror_mode": {
    "name": "ipython",
    "version": 3
   },
   "file_extension": ".py",
   "mimetype": "text/x-python",
   "name": "python",
   "nbconvert_exporter": "python",
   "pygments_lexer": "ipython3",
   "version": "3.7.2"
  }
 },
 "nbformat": 4,
 "nbformat_minor": 2
}
