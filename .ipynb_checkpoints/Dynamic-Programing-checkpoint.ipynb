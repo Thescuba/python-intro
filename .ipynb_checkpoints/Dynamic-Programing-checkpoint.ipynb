{
 "cells": [
  {
   "cell_type": "markdown",
   "metadata": {},
   "source": [
    "## Dynamic Programming\n",
    "The first example we have is fibonacci numbers. \n",
    "\n",
    "Our toy example: Fibonacci numbers\n",
    "0, 1, 2, 3, 5, 8, 13, 21, 34...\n",
    "\n",
    "The nth fibonacci number is the sum of the last two fivonacci numbers.\n",
    "\n",
    "\n",
    "# note change f_0 and f_1\n",
    "f_0 = 0\n",
    "f_1 = 1\n",
    "for n > 1: f_0n = f_n-1 f_n-2\n",
    "\n",
    "Input: integer n>=0\n",
    "output: nth fibonacci number\n",
    "\n",
    "We want a run time that is polynomial in n.\n",
    "\n",
    "We can see the natural recursion in the problem so the first way we will tackle this problem is with recursion."
   ]
  },
  {
   "cell_type": "code",
   "execution_count": 6,
   "metadata": {},
   "outputs": [],
   "source": [
    "def fib1(n):\n",
    "    if n==0:\n",
    "        return 0\n",
    "    if n==1:\n",
    "        return 1\n",
    "    return fib1(n-1) + fib1(n-2)"
   ]
  },
  {
   "cell_type": "markdown",
   "metadata": {},
   "source": [
    "Lets analyze our code. let T(n) = number of steps for fib1(n)\n",
    "\n",
    "T(n) <= O(1) + T(n-1) + T(n-2)\n",
    "T(n) >= Fn\n",
    "golden ratio and fib n"
   ]
  },
  {
   "cell_type": "code",
   "execution_count": 8,
   "metadata": {},
   "outputs": [
    {
     "name": "stdout",
     "output_type": "stream",
     "text": [
      "Our fibinacci sequence is: [0, 1, 1, 2, 3, 5, 8, 13, 21, 34]\n"
     ]
    }
   ],
   "source": [
    "fib_nums = []\n",
    "for i in range(10):\n",
    "    fib_nums.append(fib1(i))\n",
    "print('Our fibinacci sequence is:', fib_nums)"
   ]
  },
  {
   "cell_type": "markdown",
   "metadata": {},
   "source": [
    "This code is really slow as we will see ourselves recomputing smaller fibonancci numbers an expoential number of times.\n",
    "\n",
    "## include an example\n",
    "\n",
    "\n",
    "We want to avoid this by solving the small subproblem first then work our way to the larger subproblems. Top down vs bottom up.\n",
    "\n",
    "F = []\n",
    "start with small and work our way up"
   ]
  },
  {
   "cell_type": "code",
   "execution_count": 20,
   "metadata": {},
   "outputs": [],
   "source": [
    "def fib2(n):\n",
    "    fib_nums = []\n",
    "    fib_nums.append(0)\n",
    "    fib_nums.append(1)\n",
    "    for i in range(2, n+1):\n",
    "        fib_nums.append(fib_nums[i-1] + fib_nums[i-2])\n",
    "    return fib_nums[n]"
   ]
  },
  {
   "cell_type": "code",
   "execution_count": 22,
   "metadata": {},
   "outputs": [
    {
     "name": "stdout",
     "output_type": "stream",
     "text": [
      "Our fibinacci sequence is: [0, 1, 1, 2, 3, 5, 8, 13, 21, 34]\n"
     ]
    }
   ],
   "source": [
    "fib_nums = []\n",
    "for i in range(10):\n",
    "    fib_nums.append(fib1(i))\n",
    "print('Our fibinacci sequence is:', fib_nums)"
   ]
  },
  {
   "cell_type": "markdown",
   "metadata": {},
   "source": [
    "Recap: Dynamic Programming\n",
    "- No recursion in algorithm, we used the recursive nature to design our problem but we did not use any recursion.\n",
    "\n",
    "Memoization - use a hashtable to learn it. DP over memoization are faster and much simpler to analyzing run time, and beatiful. DP problems will seem similar to each other.\n",
    "\n",
    "Practice, practice, practice!\n",
    "\n"
   ]
  },
  {
   "cell_type": "markdown",
   "metadata": {},
   "source": [
    "Next problem:\n",
    "Longest Increasing Subsequence (LIS)\n",
    "Input: n numbers a1, a2, ..., an\n",
    "Goal: find length of LIS in 1, ..., an\n",
    "Example: \n",
    "substring is a set of consecutive elements,\n",
    "subsequence = subset of elements in order (allowed to skip)\n",
    "\n",
    "We are trying to find increasing sequence meaning that each number is strictly larger then the last. The goal is to find the longest Increasing subsequence.\n",
    "\n",
    "How do we solve this\n",
    "\n",
    "\n",
    "\n",
    "Dp solution\n",
    "## 1st step: define subproblem in words\n",
    "f[i] = ith fibonacci number\n",
    "## step 2 state recursive relation\n",
    "f[i] in terms of f[1], ... , f[i-1]\n",
    "\n",
    "\n",
    "First step is to define our subproblem in words. L(i) = length of LIS on a1, a2, ...,ai\n",
    "\n",
    "Toy example:\n",
    "A = [5, 7, 4, -3, 9, 1, 10, 4, 5, 8, 9, 3]\n",
    "\n",
    "Let run though the values of L(i).\n",
    "L[1] = 1\n",
    "L = [1, 2, 2, 2, 3, 3, 4, 4, 4, 5]. \n",
    "\n",
    "The 5 here is interesting because we now know that we need need to keep our sub optimial solution as they may be useful later on. To do this we want to make sure that we are able to append A on to the end.\n",
    "For this problem e need the min ending character in LIS solution\n",
    "\n",
    "\n",
    "We want to modify our problem to make L[i] include a[i]\n",
    "\n",
    "State our recurive relation\n",
    "L(i) = + 1 max(l(j)): {aj<ai & j<i}\n",
    "\n",
    "L(i) = 1 + max_1<=j<=i-1()\n",
    "\n",
    "\n"
   ]
  },
  {
   "cell_type": "code",
   "execution_count": 36,
   "metadata": {},
   "outputs": [
    {
     "data": {
      "text/plain": [
       "5"
      ]
     },
     "execution_count": 36,
     "metadata": {},
     "output_type": "execute_result"
    }
   ],
   "source": [
    "a = [5, 7, 4, -3, 9, 1, 10, 4, 5, 8, 9, 3]\n",
    "def lis(a, n):\n",
    "    l = []\n",
    "    for i in range(n):\n",
    "        tmp = 1\n",
    "        for j in range(i):\n",
    "            if a[i] > a[j]:\n",
    "                if tmp < l[j]+1:\n",
    "                    tmp = l[j]+1\n",
    "        l.append(tmp)\n",
    "    dst = 0\n",
    "    for i in range(n):\n",
    "        if l[i] > dst:\n",
    "            dst =  l[i]\n",
    "    return dst\n",
    "    \n",
    "lis(a,10)"
   ]
  },
  {
   "cell_type": "markdown",
   "metadata": {},
   "source": [
    "### add trace to code above"
   ]
  },
  {
   "cell_type": "markdown",
   "metadata": {},
   "source": [
    "our nest forloop will take atmost O(n^2) while the second loop takes O(n)time algorithm solves in O(n^2 time)."
   ]
  },
  {
   "cell_type": "markdown",
   "metadata": {},
   "source": [
    "Remember the step to solving a DP problem is to define our problems in word. L[i] in words\n",
    "\n",
    "use a prefix of the words\n",
    "\n",
    "the second step was find a recruacen relation but with that defination we were not able to do that. We strengthen our sub problem defintion.\n",
    "\n",
    "Why you want to strengthen the problem, inducative hyptothese\n",
    "\n",
    "\n",
    "the first thing we do is to go back an alter our hypthesis. We add extra conditions, must include ai itself. \n",
    "\n",
    "\n",
    "\n",
    "\n"
   ]
  },
  {
   "cell_type": "markdown",
   "metadata": {},
   "source": [
    "Next problem is Longest common subsequence (LCS)\n",
    "\n",
    "input: 2 strings X = x1 ... xn & y1 ... yn\n",
    "\n",
    "goal: find the legh of longest string which is a subsequence of both X&Y. Find the length of he longest string which is a subsequence of both x & y\n",
    "\n",
    "Input: n  numbers a1, ..., an\n",
    "goal: find length of LIS in a1, .., an\n",
    "\n",
    "example: [5, 7, 4,-3,9,1,10,4,5,8,9,3]\n"
   ]
  },
  {
   "cell_type": "code",
   "execution_count": null,
   "metadata": {},
   "outputs": [],
   "source": []
  },
  {
   "cell_type": "code",
   "execution_count": null,
   "metadata": {},
   "outputs": [],
   "source": []
  },
  {
   "cell_type": "code",
   "execution_count": null,
   "metadata": {},
   "outputs": [],
   "source": []
  }
 ],
 "metadata": {
  "kernelspec": {
   "display_name": "Python 3",
   "language": "python",
   "name": "python3"
  },
  "language_info": {
   "codemirror_mode": {
    "name": "ipython",
    "version": 3
   },
   "file_extension": ".py",
   "mimetype": "text/x-python",
   "name": "python",
   "nbconvert_exporter": "python",
   "pygments_lexer": "ipython3",
   "version": "3.6.3"
  }
 },
 "nbformat": 4,
 "nbformat_minor": 2
}
