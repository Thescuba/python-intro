{
 "cells": [
  {
   "cell_type": "markdown",
   "metadata": {},
   "source": [
    "# 5 Scripting\n",
    "Welcome to this lesson on scripting! You’ll learn about:\n",
    "\n",
    "* Python Installation and Environment Setup\n",
    "* Running and Editing Python Scripts\n",
    "* Interacting with User Input\n",
    "* Handling Exceptions\n",
    "* Reading and Writing Files\n",
    "* Importing Local, Standard, and Third-Party Modules\n",
    "* Experimenting with an Interpreter\n"
   ]
  },
  {
   "cell_type": "markdown",
   "metadata": {},
   "source": [
    "## 5.1 Python Installation\n",
    "### 5.1.1 Before Python Installation\n",
    "1. Prepare to Use Command Line\n",
    "To install Python and follow this lesson, you will need to use the command line. We will walk you through all the details, so don't worry if you have never used it before! If you would like to learn or refresh on command lines, we strongly recommend going through this free [Shell Workshop lesson](https://www.udacity.com/course/shell-workshop--ud206), where you can set up and learn how to use Unix Shell commands.\n",
    "\n",
    "** Note to Windows Users: Install Git Bash\n",
    "As noted in the free Shell Workshop linked above, we recommend you install Git Bash [here](https://git-scm.com/download/win) and use this as your terminal for this lesson. Please note that during installation you should select the checkbox Use Git and Optional Unix tools from the Windows Command Prompt. This will allow you to use Unix commands while in Windows. If you'd rather use PowerShell, those commands are also provided in this lesson. For more information on the different command shells, check out the Shell Workshop lesson linked above.\n",
    "\n",
    "2. Is Python Already Installed On Your Computer?\n",
    "In this course, we're using the most recent major version of Python - Python 3. Although Python 2 is still being used in many places, it is no longer being updated. In order to keep up compatibility with future improvements to Python, we recommend using Python 3.\n",
    "\n",
    "Mac OS X and Linux usually come with Python 2 already installed. We DO NOT recommend that you make any changes to this Python, since parts of the operating system are using Python. However, it shouldn't do any harm to your system to install Python 3 separately, too.\n",
    "\n",
    "Windows doesn't usually come with Python included, but you can still check whether you have it installed before going ahead. So, first, check that you’ve not already got Python 3 installed.\n",
    "\n",
    "Open up your Terminal or Command Line (this would be Git Bash on Windows).\n",
    "\n",
    "In a new terminal or command prompt, type\n",
    "\n",
    "<code> $ python --version </code>\n",
    "\n",
    "and press <code>Enter</code>.\n",
    "\n",
    "You might get a response that the Python version installed is something like <code>Python 2.7.9</code>. In that case, it would tell you that you have Python 2 installed, and you'll want to follow the steps in the next couple of sections to update it to Python 3.\n",
    "\n",
    "If instead the version number starts with a 3, then you already have Python 3 installed! Don't install Python again! You may skip to 5.2 unless you would like to install Anaconda.\n",
    "\n",
    "Alternatively, you might see an error message - don't worry about that for now, just try the steps in the next couple of sections.\n",
    "\n",
    "\n",
    "### 5.1.2 Python Installation\n",
    "Recommended Method: Install Python Using [Anaconda](https://www.anaconda.com/distribution/#windows)\n",
    "This method of installing Python is highly recommended.\n",
    "\n",
    "If you are interested in learning Python for data science, we strongly recommend installing Anaconda, even if you already have Python installed on your computer. You should install Python 3.6 for courses at Udacity. Having a dual environment with two different versions of Python can be useful, but content across all of our courses, and most professional environments, has now been converted to the newest version of Python.\n",
    "\n",
    "Anaconda includes a great distribution of libraries and software built for data science, some of which are otherwise difficult to install. It also makes it really easy to [set up different environments](https://conda.io/projects/conda/en/latest/user-guide/tasks/manage-environments.html) on your computer so you can quickly switch between different versions of Python and packages! For example, if one project you're working on requires Python 2.7 and another requires Python 3.6, as well as different dependencies, then Anaconda's environment management can help.\n",
    "\n",
    "If you would like to know more about the Anaconda environment, you can check out the free course [here](https://classroom.udacity.com/courses/ud1111) and our [notebook](Anaconda.ipynb).\n",
    "\n",
    "Make sure to have [git](https://git-scm.com/book/en/v2/Getting-Started-Installing-Git) installed."
   ]
  },
  {
   "cell_type": "markdown",
   "metadata": {},
   "source": [
    "## 5.2 Running Scripts\n",
    "1. Open your terminal and while this step is optional it would good practice to make sure you are in the python_intro envirnment by running the code <code>activate python_intro</code>\n",
    "2.  Use cd to navigate to the directory containing the file you would like to run, in our case we will run the <code>first_script.py</code> file found in the scripts folder.  \n",
    "3. Now that you’re in the directory with the file, you can run it by typing <code>python first_script.py</code> and pressing enter.\n",
    "\n",
    "![](images/scripts.PNG)"
   ]
  },
  {
   "cell_type": "markdown",
   "metadata": {},
   "source": [
    "## 5.3 Writing your own script\n",
    "### 5.3.1 Programming Environment Setup\n",
    "Configure Your Own Python Programming Setup\n",
    "Now you've seen my setup, take a moment to get yourself comfortable on your own computer.\n",
    "\n",
    "Below you will find a number of different options for code editors. We will be using [Visual Studio Code](https://code.visualstudio.com/) which will work on all operating systems. If you decide not to use Visual Studio Code, for first time coders Sublime is also popular.\n",
    "\n",
    "For Mac and Linux:\n",
    "* [Visual Studio Code](https://code.visualstudio.com/)\n",
    "* [Atom](https://atom.io/)\n",
    "* [Sublime Text](http://www.sublimetext.com/)\n",
    "* [emacs](https://www.gnu.org/software/emacs/)\n",
    "* [vim](https://www.vim.org/)\n",
    "\n",
    "For Windows:\n",
    "* [Visual Studio Code](https://code.visualstudio.com/)\n",
    "* [Atom](https://atom.io/)\n",
    "* [Sublime Text](http://www.sublimetext.com/)\n",
    "* [Notepad++](https://notepad-plus-plus.org/)\n",
    "\n",
    "Get your screen set up with a text editor, terminal/command line. Play with the display options to see what you find most comfortable to look at, and see if you can find a tab-to-four-spaces option - that'll be very useful for Python indentation.\n",
    "\n",
    "### 5.3.2 Write a Script of Your Own\n",
    "Open up a brand new empty file in your text editor, name it and save it in the place where you're keeping the files for your Python learning. Put the following code into it.\n",
    "\n",
    "```\n",
    "how_many_snakes = 1\n",
    "snake_string = \"\"\"\n",
    "Welcome to Python3!\n",
    "\n",
    "             ____\n",
    "            / . .\\\\\n",
    "            \\  ---<\n",
    "             \\  /\n",
    "   __________/ /\n",
    "-=:___________/\n",
    "\n",
    "<3, Juno\n",
    "\"\"\"\n",
    "\n",
    "\n",
    "print(snake_string * how_many_snakes)\n",
    "```\n",
    "\n",
    "If you are require a walk through you may look at the my_script.py file in the scripts folder or follow the images below. \n",
    "\n",
    "![](images/scripts1.PNG)\n",
    "\n",
    "Copying and pasting our code will give you somthing simular to \n",
    "\n",
    "![](images/scripts2.PNG)\n",
    "\n",
    "Then we would like to run the command <code>python my_script.py</code>\n",
    "\n",
    "![](images/scripts3.PNG)\n",
    "\n",
    "\n",
    "Opps looks like when we run our code nothing happens, this was because we forgot to save our code before running it! Lets try that again!\n",
    "\n",
    "![](images/scripts5.PNG)\n",
    "\n",
    "That exactly what we wanted! Nice job!"
   ]
  },
  {
   "cell_type": "markdown",
   "metadata": {},
   "source": [
    "### 5.4 Scripting with Raw Input\n",
    "We can get raw input from the user with the built-in function input, which takes in an optional string argument that you can use to specify a message to show to the user when asking for input.\n",
    "\n",
    "We can see run the code in the notebook but can also run <code>input_demo.py</code> in the scripts folder."
   ]
  },
  {
   "cell_type": "code",
   "execution_count": 1,
   "metadata": {},
   "outputs": [
    {
     "name": "stdin",
     "output_type": "stream",
     "text": [
      "Enter your name:  Steve\n"
     ]
    },
    {
     "name": "stdout",
     "output_type": "stream",
     "text": [
      "Hello there, Steve!\n"
     ]
    }
   ],
   "source": [
    "name = input(\"Enter your name: \")\n",
    "print(\"Hello there, {}!\".format(name.title()))"
   ]
  },
  {
   "cell_type": "markdown",
   "metadata": {},
   "source": [
    "Lets run our script!\n",
    "\n",
    "![](images/input.PNG)\n",
    "\n",
    "Our script is prompting us for an input\n",
    "\n",
    "![](images/input2.PNG)\n",
    "\n",
    "What happens when we try to have our input be a number"
   ]
  },
  {
   "cell_type": "code",
   "execution_count": 2,
   "metadata": {},
   "outputs": [
    {
     "name": "stdin",
     "output_type": "stream",
     "text": [
      "How many time would you like to repeat:  3\n"
     ]
    },
    {
     "ename": "TypeError",
     "evalue": "can't multiply sequence by non-int of type 'str'",
     "output_type": "error",
     "traceback": [
      "\u001b[1;31m---------------------------------------------------------------------------\u001b[0m",
      "\u001b[1;31mTypeError\u001b[0m                                 Traceback (most recent call last)",
      "\u001b[1;32m<ipython-input-2-fade1f81fb54>\u001b[0m in \u001b[0;36m<module>\u001b[1;34m\u001b[0m\n\u001b[0;32m      1\u001b[0m \u001b[0mval\u001b[0m \u001b[1;33m=\u001b[0m \u001b[0minput\u001b[0m\u001b[1;33m(\u001b[0m\u001b[1;34m\"How many time would you like to repeat: \"\u001b[0m\u001b[1;33m)\u001b[0m\u001b[1;33m\u001b[0m\u001b[1;33m\u001b[0m\u001b[0m\n\u001b[1;32m----> 2\u001b[1;33m \u001b[0mprint\u001b[0m\u001b[1;33m(\u001b[0m\u001b[1;34m'Repeat '\u001b[0m\u001b[1;33m*\u001b[0m\u001b[0mval\u001b[0m\u001b[1;33m)\u001b[0m\u001b[1;33m\u001b[0m\u001b[1;33m\u001b[0m\u001b[0m\n\u001b[0m",
      "\u001b[1;31mTypeError\u001b[0m: can't multiply sequence by non-int of type 'str'"
     ]
    }
   ],
   "source": [
    "val = input(\"How many time would you like to repeat: \")\n",
    "print('Repeat '*val)"
   ]
  },
  {
   "cell_type": "markdown",
   "metadata": {},
   "source": [
    "The error we had is because input return val 3 as a string, we need to first cast the value to an integer before we can use it. "
   ]
  },
  {
   "cell_type": "code",
   "execution_count": 3,
   "metadata": {},
   "outputs": [
    {
     "data": {
      "text/plain": [
       "str"
      ]
     },
     "execution_count": 3,
     "metadata": {},
     "output_type": "execute_result"
    }
   ],
   "source": [
    "type(val)"
   ]
  },
  {
   "cell_type": "code",
   "execution_count": 4,
   "metadata": {},
   "outputs": [
    {
     "name": "stdin",
     "output_type": "stream",
     "text": [
      "How many time would you like to repeat:  3\n"
     ]
    },
    {
     "name": "stdout",
     "output_type": "stream",
     "text": [
      "Repeat Repeat Repeat \n"
     ]
    }
   ],
   "source": [
    "val = int(input(\"How many time would you like to repeat: \"))\n",
    "print('Repeat '*val)"
   ]
  },
  {
   "cell_type": "markdown",
   "metadata": {},
   "source": [
    "What happens if we put a number with a decimal in?"
   ]
  },
  {
   "cell_type": "code",
   "execution_count": 5,
   "metadata": {},
   "outputs": [
    {
     "name": "stdin",
     "output_type": "stream",
     "text": [
      "How many time would you like to repeat:  3.0\n"
     ]
    },
    {
     "ename": "ValueError",
     "evalue": "invalid literal for int() with base 10: '3.0'",
     "output_type": "error",
     "traceback": [
      "\u001b[1;31m---------------------------------------------------------------------------\u001b[0m",
      "\u001b[1;31mValueError\u001b[0m                                Traceback (most recent call last)",
      "\u001b[1;32m<ipython-input-5-14dc4b0a8620>\u001b[0m in \u001b[0;36m<module>\u001b[1;34m\u001b[0m\n\u001b[1;32m----> 1\u001b[1;33m \u001b[0mval\u001b[0m \u001b[1;33m=\u001b[0m \u001b[0mint\u001b[0m\u001b[1;33m(\u001b[0m\u001b[0minput\u001b[0m\u001b[1;33m(\u001b[0m\u001b[1;34m\"How many time would you like to repeat: \"\u001b[0m\u001b[1;33m)\u001b[0m\u001b[1;33m)\u001b[0m\u001b[1;33m\u001b[0m\u001b[1;33m\u001b[0m\u001b[0m\n\u001b[0m\u001b[0;32m      2\u001b[0m \u001b[0mprint\u001b[0m\u001b[1;33m(\u001b[0m\u001b[1;34m'Repeat '\u001b[0m\u001b[1;33m*\u001b[0m\u001b[0mval\u001b[0m\u001b[1;33m)\u001b[0m\u001b[1;33m\u001b[0m\u001b[1;33m\u001b[0m\u001b[0m\n",
      "\u001b[1;31mValueError\u001b[0m: invalid literal for int() with base 10: '3.0'"
     ]
    }
   ],
   "source": [
    "val = int(input(\"How many time would you like to repeat: \"))\n",
    "print('Repeat '*val)"
   ]
  },
  {
   "cell_type": "markdown",
   "metadata": {},
   "source": [
    "We have to use first cast the value to a float and from a float we can cast that to an integer. "
   ]
  },
  {
   "cell_type": "code",
   "execution_count": 6,
   "metadata": {},
   "outputs": [
    {
     "name": "stdin",
     "output_type": "stream",
     "text": [
      "How many time would you like to repeat:  3.0\n"
     ]
    },
    {
     "name": "stdout",
     "output_type": "stream",
     "text": [
      "Repeat Repeat Repeat \n"
     ]
    }
   ],
   "source": [
    "val = int(float(input(\"How many time would you like to repeat: \")))\n",
    "print('Repeat '*val)"
   ]
  },
  {
   "cell_type": "markdown",
   "metadata": {},
   "source": [
    "## 5.5 Errors and Exceptions\n",
    "### 5.5.1 What are Errors and Exceptions?\n",
    "In the last section, it is difficult to try to handle every scenario but there is actually a much simpler way of dealing with this. We will learn to handle errors with try and except blocks. First lets see what errors in python are?\n",
    "\n",
    "1. Syntax errors occur when Python can’t interpret our code, since we didn’t follow the correct syntax for Python. These are errors you’re likely to get when you make a typo, or you’re first starting to learn Python.\n",
    "\n",
    "2. Exceptions occur when unexpected things happen during execution of a program, even if the code is syntactically correct. There are different types of built-in exceptions in Python, and you can see which exception is thrown in the error message.\n",
    "\n",
    "![quiz](images/error.PNG)"
   ]
  },
  {
   "cell_type": "markdown",
   "metadata": {},
   "source": [
    "The output above is from the <code>error_demo.py</code> script found in the scripts folder or the same code in found below. Let's explain what is happening, the first time we run the code we seem to have forgotten the ending <code>'</code> on our string. Python tells us that we have a syntax error meaning python can't understand what we wanted it to do. This is a simple fix and we just close off our string and everything works find when we run it again. When we run the ValueError portion of the code we see that the literal <code>'ten'</code> can be converted to an <code>int</code>. There was nothing wrong with our syntax but we do run into an exception because the string spelling out 'ten' is not a valid argument for the <code>int()</code> function. The last example we have with the NameError exception we see that our code is syntactically correct but we get to a variable in which we have yet to assign and python is unable to find the value so it raises an exception and stops the code."
   ]
  },
  {
   "cell_type": "code",
   "execution_count": null,
   "metadata": {},
   "outputs": [],
   "source": [
    "# # example of syntax error\n",
    "# msg = 'Welcome to this program!\n",
    "# print(msg)\n",
    "\n",
    "# # fixed syntax error of code above\n",
    "# msg = 'Welcome to this program!'\n",
    "# print(msg)\n",
    "\n",
    "# # example of ValueError exception when inputing 'ten'\n",
    "# x = int(input('Enter a number: '))\n",
    "# x += 20\n",
    "# print(x)\n",
    "\n",
    "# # example of NameError exception\n",
    "# print(nonexistent_variable)"
   ]
  },
  {
   "cell_type": "markdown",
   "metadata": {},
   "source": [
    "Here is a quick cheatsheet what errors you may have with your code.\n",
    "\n",
    "[![link](images/errors.png)](https://pythonforbiologists.com/29-common-beginner-errors-on-one-page)"
   ]
  },
  {
   "cell_type": "markdown",
   "metadata": {},
   "source": [
    "### 5.5.2 Try and Except Statements\n",
    "We can use <code>try</code> statements to handle exceptions. There are four clauses you can use (one more in addition to those shown in the video).\n",
    "\n",
    "* try: This is the only mandatory clause in a try statement. The code in this block is the first thing that Python runs in a try statement.\n",
    "* except: If Python runs into an exception while running the try block, it will jump to the except block that handles that exception.\n",
    "* else: If Python runs into no exceptions while running the try block, it will run the code in this block after running the try block.\n",
    "* finally: Before Python leaves this try statement, it will run the code in this finally block under any conditions, even if it's ending the program. E.g., if Python ran into an error while running code in the except or else block, this finally block will still be executed before stopping the program.\n",
    "\n",
    "[Why do we need the finally clause in Python?](https://stackoverflow.com/questions/11551996/why-do-we-need-the-finally-clause-in-python)\n",
    "\n",
    "specifying Exceptions\n",
    "We can actually specify which error we want to handle in an except block like this:\n",
    "```\n",
    "try:\n",
    "    # some code\n",
    "except ValueError:\n",
    "    # some code\n",
    "```\n",
    "Now, it catches the ValueError exception, but not other exceptions. If we want this handler to address more than one type of exception, we can include a parenthesized tuple after the except with the exceptions.\n",
    "```\n",
    "try:\n",
    "    # some code\n",
    "except (ValueError, KeyboardInterrupt):\n",
    "    # some code\n",
    "```\n",
    "Or, if we want to execute different blocks of code depending on the exception, you can have multiple except blocks.\n",
    "```\n",
    "try:\n",
    "    # some code\n",
    "except ValueError:\n",
    "    # some code\n",
    "except KeyboardInterrupt:\n",
    "    # some code\n",
    "```\n",
    "\n",
    "For example lets go through a feel examples the code can be found in scripts under the try_demo.py file."
   ]
  },
  {
   "cell_type": "markdown",
   "metadata": {},
   "source": [
    "Lets run the first part of our script!\n",
    "\n",
    "![demo](images/try_demo.PNG)\n",
    "\n",
    "When we run try_demo.py we see that the code runs fine when we enter the number <code>10</code> but when we try to enter <code>ten</code> our code breaks and python informs us that there is an error on line 1. We can fix this with a <code>try</code> and <code>except</code> blocks. \n",
    "\n",
    "![demo](images/try_demo2.PNG)\n",
    "\n",
    "Now lets try the same inputs as before, we see that <code>10</code> finishes the script just fine and <code>ten</code> was also about to finish and inform us that it is not a valid number. Say that we wanted to keep keep running the code until we have a valid number, check out the code below to see how we may do that.\n",
    "\n",
    "![demo](images/try_demo3.PNG)\n",
    "\n",
    "Adding a for loop will allow us to keep asking the user to enter a number and we see that if a valid number was entered we will then break the loop! One improvement we want to make is to log whenever an input was received. We can try to add a print statement at the end of the while loop that will print for ever attempt. \n",
    "\n",
    "![demo](images/try_demo4.PNG)\n",
    "\n",
    "Oh it looks like it will only print out when we enter an invalid number because in the case of a valid number the loop will break before it will reach the print statement this look like the perfect opportunity to use the <code>finally</code> block.\n",
    "\n",
    "![demo](images/try_demo5.PNG)\n"
   ]
  },
  {
   "cell_type": "markdown",
   "metadata": {},
   "source": [
    "### 5.5.3 Accessing Error Messages\n",
    "When you handle an exception, you can still access its error message like this:\n",
    "```\n",
    "try:\n",
    "    # some code\n",
    "except ZeroDivisionError as e:\n",
    "   # some code\n",
    "   print(\"ZeroDivisionError occurred: {}\".format(e))\n",
    "This would print something like this:\n",
    "```\n",
    "\n",
    "ZeroDivisionError occurred: integer division or modulo by zero\n",
    "So you can still access error messages, even if you handle them to keep your program from crashing!\n",
    "\n",
    "If you don't have a specific error you're handling, you can still access the message like this:\n",
    "```\n",
    "try:\n",
    "    # some code\n",
    "except Exception as e:\n",
    "   # some code\n",
    "   print(\"Exception occurred: {}\".format(e))\n",
    "```\n",
    "Exception is just the base class for all built-in exceptions. You can learn more about Python's exceptions [here](https://docs.python.org/3/library/exceptions.html#bltin-exceptions)."
   ]
  },
  {
   "cell_type": "markdown",
   "metadata": {},
   "source": [
    "## 5.6 Reading and Writing Files\n",
    "For our scripts to become useful we need to able to interact with real world data. Images, websites and databases are all examples of files and we routinely create, move, manipulate and read these files in our daily lives. All the data we have used so far has been defined inside the python script or raw input from the user. In this section we will learn to read and write files. All kinds of files have a similar structure on the computer. They are strings of character that encode some information. The file format is often indicated by the extension file names such as .txt and .py.\n",
    "\n",
    "Opening files in python all gives us a common programmatic interface to all kinds of files without the need for a graphical interface allows for easy automation of tasks.\n",
    "\n",
    "### 5.6.1 Reading Files\n",
    "1. First open the file using the built-in function, open. This requires a string that shows the path to the file. The open function returns a file object, which is a Python object through which Python interacts with the file itself. Here, we assign this object to the variable f.\n",
    "2. There are optional parameters you can specify in the open function. One is the mode in which we open the file. Here, we use r or read only. This is actually the default value for the mode argument.\n",
    "3. Use the read method to access the contents from the file object. This read method takes the text contained in a file and puts it into a string. Here, we assign the string returned from this method into the variable file_data.\n",
    "4. When finished with the file, use the close method to free up any system resources taken up by the file.\n",
    "\n",
    "Lets see it in action!"
   ]
  },
  {
   "cell_type": "code",
   "execution_count": 7,
   "metadata": {},
   "outputs": [
    {
     "name": "stdout",
     "output_type": "stream",
     "text": [
      "<_io.TextIOWrapper name='data/some_file.txt' mode='r' encoding='cp1252'>\n"
     ]
    }
   ],
   "source": [
    "# assign file object to f \n",
    "f = open('data/some_file.txt')\n",
    "print(f)"
   ]
  },
  {
   "cell_type": "markdown",
   "metadata": {},
   "source": [
    "Our mode by default is <code>r</code> which means read. We can use the <code>read()</code> method to access the contents of our file and return it as a string."
   ]
  },
  {
   "cell_type": "code",
   "execution_count": 8,
   "metadata": {},
   "outputs": [
    {
     "name": "stdout",
     "output_type": "stream",
     "text": [
      "Hello!!\n",
      "\n",
      "You've read the contents of this file!\n"
     ]
    }
   ],
   "source": [
    "file_data = f.read()\n",
    "print(file_data)"
   ]
  },
  {
   "cell_type": "markdown",
   "metadata": {},
   "source": [
    "One thing we must remember to do in our code is to close the file we have opened to save resources."
   ]
  },
  {
   "cell_type": "code",
   "execution_count": 9,
   "metadata": {},
   "outputs": [],
   "source": [
    "f.close()"
   ]
  },
  {
   "cell_type": "markdown",
   "metadata": {},
   "source": [
    "### 5.6.2 Writing Files\n",
    "1. Open the file in writing ('w') mode. If the file does not exist, Python will create it for you. If you open an existing file in writing mode, any content that it had contained previously will be deleted. If you're interested in adding to an existing file, without deleting its content, you should use the append ('a') mode instead of write.\n",
    "2. Use the write method to add text to the file.\n",
    "3. Close the file when finished.\n",
    "\n",
    "Lets see it in action!"
   ]
  },
  {
   "cell_type": "code",
   "execution_count": 10,
   "metadata": {},
   "outputs": [],
   "source": [
    "f = open('data/my_file.txt', 'w')\n",
    "f.write(\"Hello there!\")\n",
    "f.close()"
   ]
  },
  {
   "cell_type": "markdown",
   "metadata": {},
   "source": [
    "Let open the file we just made and read it!"
   ]
  },
  {
   "cell_type": "code",
   "execution_count": 11,
   "metadata": {},
   "outputs": [
    {
     "name": "stdout",
     "output_type": "stream",
     "text": [
      "Hello there!\n"
     ]
    }
   ],
   "source": [
    "import os.path\n",
    "\n",
    "f = open(os.path.abspath('') + '\\data\\my_file.txt')\n",
    "file_data = f.read()\n",
    "print(file_data)\n",
    "f.close()"
   ]
  },
  {
   "cell_type": "markdown",
   "metadata": {},
   "source": [
    "With python it may be easy to forget to close a file when we are done using it so python has special syntax that auto closes it. The <code>with</code> keyword allows us open a file, do operations on it and automatically close it after the indented code is finished. Now, we don’t have to call f.close()! You can only access the file object, f, within this indented block. Let see this example"
   ]
  },
  {
   "cell_type": "code",
   "execution_count": 12,
   "metadata": {},
   "outputs": [
    {
     "name": "stdout",
     "output_type": "stream",
     "text": [
      "Hello there!\n"
     ]
    }
   ],
   "source": [
    "with open('data/my_file.txt') as f:\n",
    "    file_data = f.read()\n",
    "print(file_data)"
   ]
  },
  {
   "cell_type": "markdown",
   "metadata": {},
   "source": [
    "This is the same as  the code below, one thing to not is that once the indented code is finished we will still have access to the data. Calling file_data after the indented code will work fine."
   ]
  },
  {
   "cell_type": "code",
   "execution_count": 13,
   "metadata": {},
   "outputs": [
    {
     "name": "stdout",
     "output_type": "stream",
     "text": [
      "Hello there!\n"
     ]
    }
   ],
   "source": [
    "f = open('data/my_file.txt')\n",
    "file_data = f.read()\n",
    "f.close()\n",
    "print(file_data)"
   ]
  },
  {
   "cell_type": "markdown",
   "metadata": {},
   "source": [
    "Calling the read Method with an Integer\n",
    "In the code you saw earlier, the call to f.read() had no arguments passed to it. This defaults to reading all the remainder of the file from its current position - the whole file. If you pass the read method an integer argument, it will read up to that number of characters, output all of them, and keep the 'window' at that position ready to read on.\n",
    "\n",
    "Let's see this in an example that uses the following file, camelot.txt:"
   ]
  },
  {
   "cell_type": "code",
   "execution_count": 14,
   "metadata": {},
   "outputs": [
    {
     "name": "stdout",
     "output_type": "stream",
     "text": [
      "The first 2 character are: We\n",
      "The next 8 are: 're the \n",
      "The rest is: knights of the round table\n",
      "We dance whenever we're able\n"
     ]
    }
   ],
   "source": [
    "with open(\"data/camelot.txt\") as song:\n",
    "    print('The first 2 character are:', song.read(2))\n",
    "    print('The next 8 are:', song.read(8))\n",
    "    print('The rest is:', song.read())"
   ]
  },
  {
   "cell_type": "markdown",
   "metadata": {},
   "source": [
    "### 5.6.3 Reading Line by Line\n",
    "<code>\\ns</code> in blocks of text are newline characters. The newline character marks the end of a line, and tells a program (such as a text editor) to go down to the next line. However, looking at the stream of characters in the file, <code>\\ns</code> is just another character.\n",
    "\n",
    "Fortunately, Python knows that these are special characters and you can ask it to read one line at a time. Let's try it!"
   ]
  },
  {
   "cell_type": "markdown",
   "metadata": {},
   "source": [
    "You can try out this example by creating your own camelot.txt and example.py files with the text above.\n",
    "\n",
    "Each time we called read on the file with an integer argument, it read up to that number of characters, outputted them, and kept the 'window' at that position for the next call to read. This makes moving around in the open file a little tricky, as there aren't many landmarks to navigate by."
   ]
  },
  {
   "cell_type": "code",
   "execution_count": 15,
   "metadata": {},
   "outputs": [
    {
     "name": "stdout",
     "output_type": "stream",
     "text": [
      "[\"We're the knights of the round table\", \"We dance whenever we're able\"]\n"
     ]
    }
   ],
   "source": [
    "camelot_lines = []\n",
    "with open(\"data/camelot.txt\") as f:\n",
    "    for line in f:\n",
    "        camelot_lines.append(line.strip())\n",
    "\n",
    "print(camelot_lines)"
   ]
  },
  {
   "cell_type": "markdown",
   "metadata": {},
   "source": [
    "## 5.7 Importing Local Scripts\n",
    "### 5.7.1 how to Import Local Scripts\n",
    "We can actually import Python code from other scripts, which is helpful if you are working on a bigger project where you want to organize your code into multiple files and reuse code in those files. If the Python script you want to import is in the same directory as your current script, you just type import followed by the name of the file, without the .py extension. Let try this, if you look in the useful_function.py folder"
   ]
  },
  {
   "cell_type": "code",
   "execution_count": 16,
   "metadata": {},
   "outputs": [],
   "source": [
    "import scripts.useful_functions"
   ]
  },
  {
   "cell_type": "markdown",
   "metadata": {},
   "source": [
    "It's the standard convention for import statements to be written at the top of a Python script, each one on a separate line. This import statement creates a module object called scripts.useful_functions. The <code>.</code> means that we are import from the useful_functions file in the scripts directory. Modules are just Python files that contain definitions and statements. To access objects from an imported module, you need to use dot notation. We will talk about this more in 5.8.4."
   ]
  },
  {
   "cell_type": "code",
   "execution_count": 17,
   "metadata": {},
   "outputs": [
    {
     "data": {
      "text/plain": [
       "[6, 7, 8, 9]"
      ]
     },
     "execution_count": 17,
     "metadata": {},
     "output_type": "execute_result"
    }
   ],
   "source": [
    "scripts.useful_functions.add_five([1, 2, 3, 4])"
   ]
  },
  {
   "cell_type": "markdown",
   "metadata": {},
   "source": [
    "It may be tedious to type this all the time so we can add an alias to an imported module to reference it with a different name. Let see an example."
   ]
  },
  {
   "cell_type": "code",
   "execution_count": 18,
   "metadata": {},
   "outputs": [
    {
     "data": {
      "text/plain": [
       "[6, 7, 8, 9]"
      ]
     },
     "execution_count": 18,
     "metadata": {},
     "output_type": "execute_result"
    }
   ],
   "source": [
    "import scripts.useful_functions as uf\n",
    "uf.add_five([1, 2, 3, 4])"
   ]
  },
  {
   "cell_type": "markdown",
   "metadata": {},
   "source": [
    "Now we can use uf instead of scripts.useful_functions. It is the same as doing the following code below but the former the proper code to stay pythonic. "
   ]
  },
  {
   "cell_type": "code",
   "execution_count": 19,
   "metadata": {},
   "outputs": [
    {
     "data": {
      "text/plain": [
       "[6, 7, 8, 9]"
      ]
     },
     "execution_count": 19,
     "metadata": {},
     "output_type": "execute_result"
    }
   ],
   "source": [
    "import scripts.useful_functions \n",
    "uf = scripts.useful_functions \n",
    "uf.add_five([1, 2, 3, 4])"
   ]
  },
  {
   "cell_type": "markdown",
   "metadata": {},
   "source": [
    "### 5.7.2 Using Main Block\n",
    "To avoid running executable statements in a script when it's imported as a module in another script, include these lines in an if __name__ == \"__main__\" block. Or alternatively, include them in a function called main() and call this in the if main block.\n",
    "\n",
    "Whenever we run a script like this, Python actually sets a special built-in variable called __name__ for any module. When we run a script, Python recognizes this module as the main program, and sets the __name__ variable for this module to the string \"__main__\". For any modules that are imported in this script, this built-in __name__ variable is just set to the name of that module. Therefore, the condition if __name__ == \"__main__\"is just checking whether this module is the main program."
   ]
  },
  {
   "cell_type": "markdown",
   "metadata": {},
   "source": [
    "## 5.8 Python Standard Library and Importing\n",
    "### 5.8.1 Importing Standard Modules\n",
    "We have just seen how helpful its can be to import our modules but in python there is an entire library that comes preinstalled with python. This is the [Python Standard Library](https://docs.python.org/3/library/). We have seen a couple of the built in libraries such as functions, data types and exceptions but we have other useful modules that we can import. Think of this library as a big set of tools that we can use when programing in python. Other people have already written this code and have put in modules for you to use. Many modules are just python files like the ones we have written. Let see one example using the math module. "
   ]
  },
  {
   "cell_type": "code",
   "execution_count": 20,
   "metadata": {},
   "outputs": [
    {
     "name": "stdout",
     "output_type": "stream",
     "text": [
      "24\n"
     ]
    }
   ],
   "source": [
    "import math \n",
    "print(math.factorial(4))"
   ]
  },
  {
   "cell_type": "markdown",
   "metadata": {},
   "source": [
    "The math module has a factorial function that takes in a number and find the product of a number and all the numbers less than it. Factorial of 4 is 4\\*3\\*2\\*1 which is 24. The python standard library has good documentation so it import to read the relevant page when you use one. In our case it would good to check out the documentation on [math](https://docs.python.org/3/library/math.html).\n",
    "\n",
    "### 5.8.2 Our Favourite Modules\n",
    "The Python Standard Library has a lot of modules! To help you get familiar with what's available, here are a selection of our favourite Python Standard Library modules and why we use them!\n",
    "\n",
    "csv: very convenient for reading and writing csv files\n",
    "collections: useful extensions of the usual data types including OrderedDict, defaultdict and namedtuple\n",
    "random: generates pseudo-random numbers, shuffles sequences randomly and chooses random items\n",
    "string: more functions on strings. This module also contains useful collections of letters like string.digits (a string containing all characters which are valid digits).\n",
    "re: pattern-matching in strings via regular expressions\n",
    "math: some standard mathematical functions\n",
    "os: interacting with operating systems\n",
    "os.path: submodule of os for manipulating path names\n",
    "sys: work directly with the Python interpreter\n",
    "json: good for reading and writing json files (good for web work)\n",
    "We hope you find these useful!\n",
    "\n",
    "### 5.8.3 Techniques for Importing Modules\n",
    "There are other variants of import statements that are useful in different situations.\n",
    "\n",
    "1. To import an individual function or class from a module:\n",
    "\n",
    "``` from module_name import object_name```\n",
    "2. To import multiple individual objects from a module:\n",
    "\n",
    "``` from module_name import first_object, second_object```\n",
    "3. To rename a module:\n",
    "\n",
    "```import module_name as new_name ```\n",
    "4. To import an object from a module and rename it:\n",
    "\n",
    "``` from module_name import object_name as new_name```\n",
    "5. To import every object individually from a module (DO NOT DO THIS):\n",
    "\n",
    "``` from module_name import *``` \n",
    "6. If you really want to use all of the objects from a module, use the standard import module_name statement instead and access each of the objects with the dot notation.\n",
    "\n",
    "``` import module_name```"
   ]
  },
  {
   "cell_type": "markdown",
   "metadata": {},
   "source": [
    "### 5.8.4 Modules, Packages, and Names\n",
    "In order to manage the code better, modules in the Python Standard Library are split down into sub-modules that are contained within a package. A package is simply a module that contains sub-modules. A sub-module is specified with the usual dot notation.\n",
    "\n",
    "Modules that are submodules are specified by the package name and then the submodule name separated by a dot. You can import the submodule like this.\n",
    "\n",
    "```import package_name.submodule_name```\n"
   ]
  },
  {
   "cell_type": "code",
   "execution_count": 21,
   "metadata": {},
   "outputs": [],
   "source": [
    "from datetime import datetime"
   ]
  },
  {
   "cell_type": "markdown",
   "metadata": {},
   "source": [
    "After running this code, datetime will now refer to the datetime class and not the module.\n",
    "\n",
    "### 5.8.5 Third-Party Libraries\n",
    "There are tens of thousands of third-party libraries written by independent developers! You can install them using pip, a package manager that is included with Python 3. pip is the standard package manager for Python, but it isn't the only one. One popular alternative is Anaconda which is designed specifically for data science.\n",
    "\n",
    "To install a package using pip, just enter \"pip install\" followed by the name of the package in your command line like this: <code>pip install package_name</code>. This downloads and installs the package so that it's available to import in your programs. Once installed, you can import third-party packages using the same syntax used to import from the standard library.\n",
    "\n",
    "\n",
    "### 5.8.6 Using a requirements.txt File\n",
    "Larger Python programs might depend on dozens of third party packages. To make it easier to share these programs, programmers often list a project's dependencies in a file called requirements.txt. This is an example of a requirements.txt file.\n",
    "```\n",
    "beautifulsoup4==4.5.1\n",
    "bs4==0.0.1\n",
    "pytz==2016.7\n",
    "requests==2.11.1\n",
    "```\n",
    "Each line of the file includes the name of a package and its version number. The version number is optional, but it usually should be included. Libraries can change subtly, or dramatically, between versions, so it's important to use the same library versions that the program's author used when they wrote the program.\n",
    "\n",
    "You can use pip to install all of a project's dependencies at once by typing pip install -r requirements.txt in your command line.\n",
    "\n",
    "Useful Third-Party Packages\n",
    "Being able to install and import third party libraries is useful, but to be an effective programmer you also need to know what libraries are available for you to use. People typically learn about useful new libraries from online recommendations or from colleagues. If you're a new Python programmer you may not have many colleagues, so to get you started here's a list of packages that are popular with engineers at Udacity.\n",
    "\n",
    "* [IPython](https://ipython.org/) - A better interactive Python interpreter\n",
    "* [requests](http://docs.python-requests.org/en/master/) - Provides easy to use methods to make web requests. Useful for accessing web APIs.\n",
    "* [Flask](http://flask.pocoo.org/) - a lightweight framework for making web applications and APIs.\n",
    "* [Django](https://www.djangoproject.com/) - A more featureful framework for making web applications. Django is particularly good for designing complex, content heavy, web applications.\n",
    "* [Beautiful Soup](https://www.crummy.com/software/BeautifulSoup/) - Used to parse HTML and extract information from it. Great for web scraping.\n",
    "* [pytest](http://doc.pytest.org/) - extends Python's builtin assertions and unittest module.\n",
    "* [PyYAML](https://pyyaml.org/wiki/PyYAML) - For reading and writing YAML files.\n",
    "* [NumPy](http://www.numpy.org/) - The fundamental package for scientific computing with Python. It contains among other things a powerful N-dimensional array object and useful linear algebra capabilities.\n",
    "* [pandas](http://pandas.pydata.org/) - A library containing high-performance, data structures and data analysis tools. In particular, pandas provides dataframes!\n",
    "* [matplotlib](https://matplotlib.org/) - a 2D plotting library which produces publication quality figures in a variety of hardcopy formats and interactive environments.\n",
    "* [ggplot](http://ggplot.yhathq.com) - Another 2D plotting library, based on R's ggplot2 library.\n",
    "* [Pillow](https://python-pillow.org/) - The Python Imaging Library adds image processing capabilities to your Python interpreter.\n",
    "* [Pygame](https://www.pygame.org/news) - A set of Python modules designed for writing games.\n",
    "* [pytz](http://pytz.sourceforge.net/) - World Timezone Definitions for Python\n",
    "\n"
   ]
  },
  {
   "cell_type": "markdown",
   "metadata": {},
   "source": [
    "### 5.8.7 Getting the information you need to know\n",
    "It takes an enormous amount of knowledge to be a skilled programmer. There's libraries to know, syntax to remember, and myriad other details. To add to the difficulty, the technology landscape is constantly shifting as new techniques and tools are invented.\n",
    "\n",
    "To a novice programmer, learning all of these details and keeping abreast of new developments seems like an impossible task. And it is! Expert programmers who have been working for years don't actually carry an encyclopedia's worth of knowledge in their heads. Instead they have mastered the task of finding information quickly.\n",
    "\n",
    "### 5.8.8 How to Search\n",
    "Here are some techniques for effective web searching:\n",
    "\n",
    "* Try using \"Python\" or the name of the library you're using as the first word of your query. This tells the search engine to prioritize results that are explicitly related to the tools you're using.\n",
    "* Writing a good search query can take multiple attempts. If you don't find helpful results on your first attempt, try again.\n",
    "* Try using keywords found on the pages you found in your initial search to direct the search engine to better resources in the subsequent search.\n",
    "* Copy and paste error messages to use as search terms. This will lead you to explanations of the error and potential causes. An error message might include references to specific line numbers of code that you wrote. Only include the part of the error message that comes before this in your search.\n",
    "* If you can't find an answer to your question, ask it yourself! Communities like StackOverflow have etiquette rules you must learn if you want to participate, but don't let this stop you from using these resources."
   ]
  },
  {
   "cell_type": "markdown",
   "metadata": {},
   "source": [
    "## Quiz Section 5.9\n",
    "### Quiz 5.1 Generate Messages\n",
    "Imagine you're a teacher who needs to send a message to each of your students reminding them of their missing assignments and grade in the class. You have each of their names, number of missing assignments, and grades on a spreadsheet and just have to insert them into placeholders in this message you came up with:\n",
    "\n",
    "```\n",
    "Hi [insert student name],\n",
    "```\n",
    "```\n",
    "This is a reminder that you have [insert number of missing assignments] \n",
    "assignments left to submit before you can graduate. Your current grade is \n",
    "[insert current grade] and can increase to [insert potential grade] if you \n",
    "submit all assignments before the due date.\n",
    "\n",
    "```\n",
    "You can just copy and paste this message to each student and manually insert the appropriate values each time, but instead you're going to write a program that does this for you.\n",
    "\n",
    "Write a script that does the following:\n",
    "\n",
    "1. Ask for user input 3 times. Once for a list of names, once for a list of missing assignment counts, and once for a list of grades. Use this input to create lists for names, assignments, and grades.\n",
    "2. Use a loop to print the message for each student with the correct values. The potential grade is simply the current grade added to two times the number of missing assignments.\n",
    "\n",
    "Here is a sample of what we are expecting \n",
    "\n",
    "![quiz](images/quiz.PNG)"
   ]
  },
  {
   "cell_type": "code",
   "execution_count": null,
   "metadata": {},
   "outputs": [],
   "source": [
    "names =  # get and process input for a list of names\n",
    "assignments =  # get and process input for a list of the number of assignments\n",
    "grades =  # get and process input for a list of grades\n",
    "\n",
    "# message string to be used for each student\n",
    "# HINT: use .format() with this string in your for loop\n",
    "message = \"Hi {},\\n\\nThis is a reminder that you have {} assignments left to \\\n",
    "submit before you can graduate. You're current grade is {} and can increase \\\n",
    "to {} if you submit all assignments before the due date.\\n\\n\"\n",
    "\n",
    "# write a for loop that iterates through each set of names, assignments, and grades to print each student's message\n"
   ]
  },
  {
   "cell_type": "markdown",
   "metadata": {},
   "source": [
    "### Quiz 5.1 Generate Messages Solutions\n",
    "The solution are below and in scripts under the generate_msg_solu.py file.\n",
    "\n"
   ]
  },
  {
   "cell_type": "code",
   "execution_count": null,
   "metadata": {},
   "outputs": [],
   "source": [
    "names =  input(\"Enter names separated by commas:\").title().split(',')\n",
    "assignments =  input(\"Enter assignment counts separated by commas:\").split(',')\n",
    "grades =  input(\"Enter grades separated by commas:\").split(',')\n",
    "\n",
    "# message string to be used for each student\n",
    "# HINT: use .format() with this string in your for loop\n",
    "message = \"Hi {},\\n\\nThis is a reminder that you have {} assignments left to \\\n",
    "submit before you can graduate. You're current grade is {} and can increase \\\n",
    "to {} if you submit all assignments before the due date.\\n\\n\"\n",
    "\n",
    "\n",
    "# write a for loop that iterates through each set of names, assignments, and grades to print each student's message\n",
    "for name, assignment, grade in zip(names, assignments, grades):\n",
    "    print(message.format(name, assignment, grade, float(grade)+2*int(assignment)))"
   ]
  },
  {
   "cell_type": "markdown",
   "metadata": {},
   "source": [
    "### Quiz 5.2 Handling Input Errors\n",
    "The party_planner function below takes as input a number of party people and cookies and figures out how many cookies each person gets at the party, assuming equitable distribution of cookies. Then, it returns that number along with how many cookies will be left over.\n",
    "\n",
    "Right now, calling the function with an input of 0 people will cause an error, because it creates a ZeroDivisionError exception. Edit the party_planner function to handle this invalid input. If it runs into this exception, it should print a warning message to the user and request they input a different number of people.\n",
    "\n",
    "After you've edited the function, try running the file again and make sure it does what you intended. Try it with several different input values, including 0 and other values for the number of people."
   ]
  },
  {
   "cell_type": "code",
   "execution_count": 1,
   "metadata": {},
   "outputs": [
    {
     "name": "stdin",
     "output_type": "stream",
     "text": [
      "How many cookies are you baking?  5\n",
      "How many people are attending?  2\n"
     ]
    },
    {
     "name": "stdout",
     "output_type": "stream",
     "text": [
      "\n",
      "Let's party! We'll have 2 people attending, they'll each get to eat 2 cookies, and we'll have 1 left over.\n"
     ]
    },
    {
     "name": "stdin",
     "output_type": "stream",
     "text": [
      "\n",
      "Would you like to party more? (y or n)  n\n"
     ]
    }
   ],
   "source": [
    "def party_planner(cookies, people):\n",
    "    leftovers = None\n",
    "    num_each = None\n",
    "    # TODO: Add a try-except block here to\n",
    "    #       make sure no ZeroDivisionError occurs.\n",
    "    num_each = cookies // people\n",
    "    leftovers = cookies % people\n",
    "\n",
    "    return(num_each, leftovers)\n",
    "\n",
    "# The main code block is below; do not edit this\n",
    "lets_party = 'y'\n",
    "while lets_party == 'y':\n",
    "\n",
    "    cookies = int(input(\"How many cookies are you baking? \"))\n",
    "    people = int(input(\"How many people are attending? \"))\n",
    "\n",
    "    cookies_each, leftovers = party_planner(cookies, people)\n",
    "\n",
    "    if cookies_each:  # if cookies_each is not None\n",
    "        message = \"\\nLet's party! We'll have {} people attending, they'll each get to eat {} cookies, and we'll have {} left over.\"\n",
    "        print(message.format(people, cookies_each, leftovers))\n",
    "\n",
    "    lets_party = input(\"\\nWould you like to party more? (y or n) \")"
   ]
  },
  {
   "cell_type": "markdown",
   "metadata": {},
   "source": [
    "### Quiz 5.2 Handling Input Errors Solutions"
   ]
  },
  {
   "cell_type": "code",
   "execution_count": 1,
   "metadata": {},
   "outputs": [
    {
     "name": "stdin",
     "output_type": "stream",
     "text": [
      "How many cookies are you baking?  5\n",
      "How many people are attending?  0\n"
     ]
    },
    {
     "name": "stdout",
     "output_type": "stream",
     "text": [
      "Oops, you entered 0 people will be attending.\n",
      "Please enter a good number of people for a party.\n"
     ]
    },
    {
     "name": "stdin",
     "output_type": "stream",
     "text": [
      "\n",
      "Would you like to party more? (y or n)  n\n"
     ]
    }
   ],
   "source": [
    "def party_planner(cookies, people):\n",
    "    leftovers = None\n",
    "    num_each = None\n",
    "    # TODO: Add a try-except block here to\n",
    "    #       make sure no ZeroDivisionError occurs.\n",
    "\n",
    "    try:\n",
    "        num_each = cookies // people\n",
    "        leftovers = cookies % people\n",
    "    except ZeroDivisionError:\n",
    "        print(\"Oops, you entered 0 people will be attending.\")\n",
    "        print(\"Please enter a good number of people for a party.\")\n",
    "\n",
    "    return(num_each, leftovers)\n",
    "\n",
    "# The main code block is below; do not edit this\n",
    "lets_party = 'y'\n",
    "while lets_party == 'y':\n",
    "\n",
    "    cookies = int(input(\"How many cookies are you baking? \"))\n",
    "    people = int(input(\"How many people are attending? \"))\n",
    "\n",
    "    cookies_each, leftovers = party_planner(cookies, people)\n",
    "\n",
    "    if cookies_each:  # if cookies_each is not None\n",
    "        message = \"\\nLet's party! We'll have {} people attending, they'll each get to eat {} cookies, and we'll have {} left over.\"\n",
    "        print(message.format(people, cookies_each, leftovers))\n",
    "\n",
    "    lets_party = input(\"\\nWould you like to party more? (y or n) \")"
   ]
  },
  {
   "cell_type": "markdown",
   "metadata": {},
   "source": [
    "### Quiz 5.3 Too Many Open Files\n",
    "What do you think will happen when we dont close our files? Take a moment to think about it then run too_many_open_files.py in the scripts folder to see what can happen."
   ]
  },
  {
   "cell_type": "markdown",
   "metadata": {},
   "source": [
    "### Quiz 5.3 Too Many Open Files Solution\n",
    "If we have too many files open our code will crash, our system was able to open 8188 files until it an error occured.\n",
    "![too many](images/too_many.png)"
   ]
  },
  {
   "cell_type": "markdown",
   "metadata": {},
   "source": [
    "### Quiz 5.4 Flying Circus Cast List\n",
    "You're going to create a list of the actors who appeared in the television programme Monty Python's Flying Circus.\n",
    "\n",
    "Write a function called create_cast_list that takes a filename as input and returns a list of actors' names. It will be run on the file flying_circus_cast.txt (this information was collected from imdb.com). Each line of that file consists of an actor's name, a comma, and then some (messy) information about roles they played in the programme. You'll need to extract only the name and add it to a list. Might be a good idea to use the [.split()](https://docs.python.org/3/library/stdtypes.html#str.split) method."
   ]
  },
  {
   "cell_type": "code",
   "execution_count": null,
   "metadata": {},
   "outputs": [],
   "source": [
    "def create_cast_list(filename):\n",
    "    cast_list = []\n",
    "    #use with to open the file filename\n",
    "    #use the for loop syntax to process each line\n",
    "    #and add the actor name to cast_list\n",
    "    with open(filename) as f:\n",
    "        for cast in f:\n",
    "            cast_list.append(cast.split(',')[0])\n",
    "    return cast_list\n",
    "\n",
    "cast_list = create_cast_list('data/flying_circus_cast.txt')\n",
    "for actor in cast_list:\n",
    "    print(actor)"
   ]
  },
  {
   "cell_type": "markdown",
   "metadata": {},
   "source": [
    "### Quiz 5.4 Flying Circus Cast List Solution\n"
   ]
  },
  {
   "cell_type": "code",
   "execution_count": 4,
   "metadata": {},
   "outputs": [
    {
     "name": "stdout",
     "output_type": "stream",
     "text": [
      "Graham Chapman\n",
      "Eric Idle\n",
      "Terry Jones\n",
      "Michael Palin\n",
      "Terry Gilliam\n",
      "John Cleese\n",
      "Carol Cleveland\n",
      "Ian Davidson\n",
      "John Hughman\n",
      "The Fred Tomlinson Singers\n",
      "Connie Booth\n",
      "Bob Raymond\n",
      "Lyn Ashley\n",
      "Rita Davies\n",
      "Stanley Mason\n",
      "David Ballantyne\n",
      "Donna Reading\n",
      "Peter Brett\n",
      "Maureen Flanagan\n",
      "Katya Wyeth\n",
      "Frank Lester\n",
      "Neil Innes\n",
      "Dick Vosburgh\n",
      "Sandra Richards\n",
      "Julia Breck\n",
      "Nicki Howorth\n",
      "Jimmy Hill\n",
      "Barry Cryer\n",
      "Jeannette Wild\n",
      "Marjorie Wilde\n",
      "Marie Anderson\n",
      "Caron Gardner\n",
      "Nosher Powell\n",
      "Carolae Donoghue\n",
      "Vincent Wong\n",
      "Helena Clayton\n",
      "Nigel Jones\n",
      "Roy Gunson\n",
      "Daphne Davey\n",
      "Stenson Falke\n",
      "Alexander Curry\n",
      "Frank Williams\n",
      "Ralph Wood\n",
      "Rosalind Bailey\n",
      "Marion Mould\n",
      "Sheila Sands\n",
      "Richard Baker\n",
      "Douglas Adams\n",
      "Ewa Aulin\n",
      "Reginald Bosanquet\n",
      "Barbara Lindley\n",
      "Roy Brent\n",
      "Jonas Card\n",
      "Tony Christopher\n",
      "Beulah Hughes\n",
      "Peter Kodak\n",
      "Lulu\n",
      "Jay Neill\n",
      "Graham Skidmore\n",
      "Ringo Starr\n",
      "Fred Tomlinson\n",
      "David Hamilton\n",
      "Suzy Mandel\n",
      "Peter Woods\n"
     ]
    }
   ],
   "source": [
    "def create_cast_list(filename):\n",
    "    cast_list = []\n",
    "    with open(filename) as f:\n",
    "        for line in f:\n",
    "            name = line.split(\",\")[0]\n",
    "            cast_list.append(name)\n",
    "\n",
    "    return cast_list\n",
    "\n",
    "cast_list = create_cast_list('data/flying_circus_cast.txt')\n",
    "for actor in cast_list:\n",
    "    print(actor)"
   ]
  },
  {
   "cell_type": "markdown",
   "metadata": {},
   "source": [
    "### Quiz 5.5 Compute an Exponent\n",
    "It's your turn to import and use the math module. Use the math module to calculate e to the power of 3. print the answer.\n",
    "\n",
    "Refer to the math module's [documentation](https://docs.python.org/3.6/library/math.html?highlight=math%20module#module-math) to find the function you need!"
   ]
  },
  {
   "cell_type": "code",
   "execution_count": null,
   "metadata": {},
   "outputs": [],
   "source": [
    "# print e to the power of 3 using the math module\n",
    "import math"
   ]
  },
  {
   "cell_type": "markdown",
   "metadata": {},
   "source": [
    "### Quiz 5.5 Compute an Exponent Solutions"
   ]
  },
  {
   "cell_type": "code",
   "execution_count": 10,
   "metadata": {},
   "outputs": [
    {
     "name": "stdout",
     "output_type": "stream",
     "text": [
      "20.085536923187668\n"
     ]
    }
   ],
   "source": [
    "# print e to the power of 3 using the math module\n",
    "import math\n",
    "print(math.exp(3))"
   ]
  },
  {
   "cell_type": "code",
   "execution_count": 11,
   "metadata": {},
   "outputs": [
    {
     "name": "stdout",
     "output_type": "stream",
     "text": [
      "20.085536923187664\n"
     ]
    }
   ],
   "source": [
    "# print e to the power of 3 using the math module\n",
    "import math\n",
    "print(math.e**3)"
   ]
  },
  {
   "cell_type": "markdown",
   "metadata": {},
   "source": [
    "### Quiz 5.6 Password Generator\n",
    "Write a function called <code>generate_password</code> that selects three random words from the list of words <code>word_list</code> and concatenates them into a single string. Your function should not accept any arguments and should reference the global variable <code>word_list</code> to build the password"
   ]
  },
  {
   "cell_type": "code",
   "execution_count": null,
   "metadata": {},
   "outputs": [],
   "source": [
    "# Use an import statement at the top\n",
    "\n",
    "word_file = \"data\\words.txt\"\n",
    "word_list = []\n",
    "\n",
    "#fill up the word_list\n",
    "with open(word_file) as words:\n",
    "    for line in words:\n",
    "        # remove white space and make everything lowercase\n",
    "        word = line.strip().lower()\n",
    "        # don't include words that are too long or too short\n",
    "        if 3 < len(word) < 8:\n",
    "            word_list.append(word)\n",
    "\n",
    "# Add your function generate_password here\n",
    "# It should return a string consisting of three random words \n",
    "# concatenated together without spaces\n",
    "\n",
    "\n",
    "\n",
    "# test your function\n",
    "print(generate_password())"
   ]
  },
  {
   "cell_type": "markdown",
   "metadata": {},
   "source": [
    "### Quiz 5.6 Password Generator Solution\n",
    "The first solution is if we would like to sample without replacement."
   ]
  },
  {
   "cell_type": "code",
   "execution_count": 6,
   "metadata": {},
   "outputs": [
    {
     "name": "stdout",
     "output_type": "stream",
     "text": [
      "alicesisterpeeped\n"
     ]
    }
   ],
   "source": [
    "# Use an import statement at the top\n",
    "import random\n",
    "\n",
    "word_file = \"data\\words.txt\"\n",
    "word_list = []\n",
    "\n",
    "#fill up the word_list\n",
    "with open(word_file) as words:\n",
    "    for line in words:\n",
    "        # remove white space and make everything lowercase\n",
    "        word = line.strip().lower()\n",
    "        # don't include words that are too long or too short\n",
    "        if 3 < len(word) < 8:\n",
    "            word_list.append(word)\n",
    "\n",
    "# Add your function generate_password here\n",
    "# It should return a string consisting of three random words \n",
    "# concatenated together without spaces\n",
    "def generate_password():\n",
    "    idxes = random.sample(range(len(word_list)), 3)\n",
    "    dst = ''\n",
    "    for idx in idxes:\n",
    "        dst += word_list[idx]\n",
    "    return dst\n",
    "# test your function\n",
    "print(generate_password())"
   ]
  },
  {
   "cell_type": "markdown",
   "metadata": {},
   "source": [
    "The function can be shortened to the code below."
   ]
  },
  {
   "cell_type": "code",
   "execution_count": 7,
   "metadata": {},
   "outputs": [
    {
     "name": "stdout",
     "output_type": "stream",
     "text": [
      "sittingbooktwice\n"
     ]
    }
   ],
   "source": [
    "def generate_password():\n",
    "    return ''.join(random.sample(word_list,3))\n",
    "\n",
    "print(generate_password())"
   ]
  },
  {
   "cell_type": "markdown",
   "metadata": {},
   "source": [
    "If we wanted to account for word combinations with replacement we can adjust the code to the following."
   ]
  },
  {
   "cell_type": "code",
   "execution_count": 8,
   "metadata": {},
   "outputs": [
    {
     "name": "stdout",
     "output_type": "stream",
     "text": [
      "nothingsittingwithout\n"
     ]
    }
   ],
   "source": [
    "def generate_password():\n",
    "    return random.choice(word_list) + random.choice(word_list) + random.choice(word_list)\n",
    "\n",
    "print(generate_password())"
   ]
  },
  {
   "cell_type": "code",
   "execution_count": null,
   "metadata": {},
   "outputs": [],
   "source": []
  }
 ],
 "metadata": {
  "kernelspec": {
   "display_name": "Python 3",
   "language": "python",
   "name": "python3"
  },
  "language_info": {
   "codemirror_mode": {
    "name": "ipython",
    "version": 3
   },
   "file_extension": ".py",
   "mimetype": "text/x-python",
   "name": "python",
   "nbconvert_exporter": "python",
   "pygments_lexer": "ipython3",
   "version": "3.7.2"
  }
 },
 "nbformat": 4,
 "nbformat_minor": 2
}
