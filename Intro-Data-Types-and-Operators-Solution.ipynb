{
 "cells": [
  {
   "cell_type": "markdown",
   "metadata": {},
   "source": [
    "# 1 Data Types and Operators\n",
    "\n",
    "## 1.1 Quick Intro to Python\n",
    "I have created this notebook with the hopes that anyone who is new to python will be able jump in quickly pick up some python syntax. I will be going over good python practices and also how some common errors may occur along with solutions and the debugging process. We will first go over the topic with some basic examples along the way, and each section should have a small quiz section. Try you best to answer the questions then check the solutions in the Intro-Solution.ipynb.\n",
    "\n",
    "## 1.2 Import Things to Remember About Python\n",
    "* Python is case sensitive\n",
    "* Spacing is important\n",
    "* Errors dont make you a bad programmer but just the computer telling you that it does not understand.\n",
    "\n",
    "## 1.3 Arithmetic Operations\n",
    "The first things we will learn is how to go over arithmetic operations. The table below shows the 7 common operators\n",
    "\n",
    "| Symbol|Arithmetic operator|\n",
    "|:-----:|:-------------:|\n",
    "|  +    | Addition      |\n",
    "|  -    | Subtraction   |\n",
    "|  *    | Multiplication|\n",
    "|  /    | Division      |\n",
    "|  %    | Modulo        |\n",
    "|  **   | Exponentiation|\n",
    "|  //   | Floor Division|\n",
    "\n",
    "\n",
    "To help see what our code is doing we will be using pythons built in print function to displacy our results. To use print we will type print followed by parentheses, another cool feature is that we can print out a statement followed by out results. To make reading mathamatical forumals easier we can choose to add more spacing as seen in the first example below, the addition opperator will come after the multiplcation so we choose to space out 1 and 2 while keeping 3 and 4 tight.  "
   ]
  },
  {
   "cell_type": "code",
   "execution_count": 1,
   "metadata": {},
   "outputs": [
    {
     "name": "stdout",
     "output_type": "stream",
     "text": [
      "15\n"
     ]
    }
   ],
   "source": [
    "print(1 + 2 + 3*4)"
   ]
  },
  {
   "cell_type": "code",
   "execution_count": 2,
   "metadata": {},
   "outputs": [
    {
     "name": "stdout",
     "output_type": "stream",
     "text": [
      "15\n"
     ]
    }
   ],
   "source": [
    "print(1 + 2 + (3*4))"
   ]
  },
  {
   "cell_type": "code",
   "execution_count": 3,
   "metadata": {},
   "outputs": [
    {
     "name": "stdout",
     "output_type": "stream",
     "text": [
      "15\n"
     ]
    }
   ],
   "source": [
    "print((1+2) + 3*4)"
   ]
  },
  {
   "cell_type": "code",
   "execution_count": 4,
   "metadata": {},
   "outputs": [
    {
     "name": "stdout",
     "output_type": "stream",
     "text": [
      "21\n"
     ]
    }
   ],
   "source": [
    "print(1 + (2+3)*4)"
   ]
  },
  {
   "cell_type": "code",
   "execution_count": 5,
   "metadata": {},
   "outputs": [
    {
     "name": "stdout",
     "output_type": "stream",
     "text": [
      "Sum is  15\n"
     ]
    }
   ],
   "source": [
    "print('Sum is ', 1 + 2 + (3*4))"
   ]
  },
  {
   "cell_type": "markdown",
   "metadata": {},
   "source": [
    "Python follows the rules of order of opertations, meaning that addition subtraction will be excuted last with parentheses, exponents, multiplication and division all come before. "
   ]
  },
  {
   "cell_type": "markdown",
   "metadata": {},
   "source": [
    "## 1.4 Variables\n",
    "Understanding arithmetic is quite useful may be great for solving mathmatical problems quickly but understand variables can turn Python into more than just a calculator. Using variables as opposed to just raw numbers/literals has many advantages. Creating a new variable is simple, below we have an example of a varaible. There are two benifits of using a variable; it will now be stored in memory so you can quickly get access to it if need in the future and naming will allow us to easier understand our formals."
   ]
  },
  {
   "cell_type": "code",
   "execution_count": 6,
   "metadata": {},
   "outputs": [],
   "source": [
    "sea_population = 704352"
   ]
  },
  {
   "cell_type": "markdown",
   "metadata": {},
   "source": [
    "The variable name in this example is sea_population followed by the '=' sign which acts as the assignment operator and what comes after the equals sign is the variable's value. The code below will show us some examples. In this first example we assign x a value of 2, then we assign y the value of x which now means y = 2. The third line in the code will print out our value of y, which is what we were expecting and is 2."
   ]
  },
  {
   "cell_type": "code",
   "execution_count": 7,
   "metadata": {},
   "outputs": [
    {
     "name": "stdout",
     "output_type": "stream",
     "text": [
      "2\n"
     ]
    }
   ],
   "source": [
    "x = 2\n",
    "y = x\n",
    "print(y)"
   ]
  },
  {
   "cell_type": "markdown",
   "metadata": {},
   "source": [
    "Lets see what happen when we change x?"
   ]
  },
  {
   "cell_type": "code",
   "execution_count": 8,
   "metadata": {},
   "outputs": [
    {
     "name": "stdout",
     "output_type": "stream",
     "text": [
      "y: 2\n",
      "x: 3\n"
     ]
    }
   ],
   "source": [
    "x = 3\n",
    "print('y:', y)\n",
    "print('x:', x)"
   ]
  },
  {
   "cell_type": "markdown",
   "metadata": {},
   "source": [
    "We can see that reassigning x to 3 did not change y. In python we call this an immutable data type but more on that term later. The last thing we want to see if what happend when we assign with an undefined variable. "
   ]
  },
  {
   "cell_type": "code",
   "execution_count": 9,
   "metadata": {},
   "outputs": [
    {
     "ename": "NameError",
     "evalue": "name 'z' is not defined",
     "output_type": "error",
     "traceback": [
      "\u001b[1;31m---------------------------------------------------------------------------\u001b[0m",
      "\u001b[1;31mNameError\u001b[0m                                 Traceback (most recent call last)",
      "\u001b[1;32m<ipython-input-9-5f30900c8372>\u001b[0m in \u001b[0;36m<module>\u001b[1;34m\u001b[0m\n\u001b[0;32m      1\u001b[0m \u001b[0mx\u001b[0m \u001b[1;33m=\u001b[0m \u001b[1;36m2\u001b[0m\u001b[1;33m\u001b[0m\u001b[0m\n\u001b[1;32m----> 2\u001b[1;33m \u001b[0my\u001b[0m \u001b[1;33m=\u001b[0m \u001b[0mz\u001b[0m\u001b[1;33m\u001b[0m\u001b[0m\n\u001b[0m\u001b[0;32m      3\u001b[0m \u001b[0mprint\u001b[0m\u001b[1;33m(\u001b[0m\u001b[0my\u001b[0m\u001b[1;33m)\u001b[0m\u001b[1;33m\u001b[0m\u001b[0m\n",
      "\u001b[1;31mNameError\u001b[0m: name 'z' is not defined"
     ]
    }
   ],
   "source": [
    "x = 2\n",
    "y = z\n",
    "print(y)"
   ]
  },
  {
   "cell_type": "markdown",
   "metadata": {},
   "source": [
    "The computer is telling us that it has an error understanding our code. \"NameError: name 'z' is not defined\" means that there is currently no defined variable z and y can not be assigned to this unknown value z."
   ]
  },
  {
   "cell_type": "markdown",
   "metadata": {},
   "source": [
    "## 1.5 How Can Variable Names Can Help Make Code Easier to Understand\n",
    "We would like to find the area of our lawn so we go out an measure the height and width and found that it is 10 feet tall and 15 feet wide. Cool we have our measurements now like just use python to get our solution"
   ]
  },
  {
   "cell_type": "code",
   "execution_count": 10,
   "metadata": {},
   "outputs": [
    {
     "name": "stdout",
     "output_type": "stream",
     "text": [
      "150\n"
     ]
    }
   ],
   "source": [
    "# print the area of our lawn\n",
    "print(10 * 15)"
   ]
  },
  {
   "cell_type": "code",
   "execution_count": 11,
   "metadata": {},
   "outputs": [],
   "source": [
    "# saving our area value\n",
    "area = 10 * 15"
   ]
  },
  {
   "cell_type": "code",
   "execution_count": 12,
   "metadata": {},
   "outputs": [],
   "source": [
    "height = 10\n",
    "width = 15\n",
    "area = height * width"
   ]
  },
  {
   "cell_type": "markdown",
   "metadata": {},
   "source": [
    "In the examples above all 3 get us our answer, while the first solution uses the least code and doesnt waste any memeory, if we even wanted to recall the value of our area we would need to run the operation again. In cases where running an operation is is best to store our variables, this would be like playing a video game and saving at the check point, if you dont save youll often have to start the same all over and this make take a lot of time to get back to where you were.\n",
    "\n",
    "The second solution allows us to check save a variable and recall it in the future, inaddition the varible name help us understand what the variable means. In this case its obvious it the area. This example of the middle ground, a little more code and litte more memory used.\n",
    "\n",
    "The last examples used the most code, we store our height and width and used them to calcuate our area. In this example we know that area is defined by the formual height * width, but we also have height and width stored if we require to use them in the future. Say we wanted build a fence around our yard, we know that for the perimeter we can used for formual 2 * width  + 2 * height since we have a rectangular yard. "
   ]
  },
  {
   "cell_type": "markdown",
   "metadata": {},
   "source": [
    "In python there are two data types for numerical values:\n",
    "* int - for integer values\n",
    "* float - for deciaml or floating point values"
   ]
  },
  {
   "cell_type": "code",
   "execution_count": 13,
   "metadata": {},
   "outputs": [
    {
     "name": "stdout",
     "output_type": "stream",
     "text": [
      "Datatype of a is <class 'int'>\n",
      "Datatype of b is <class 'float'>\n"
     ]
    }
   ],
   "source": [
    "a = 1\n",
    "b = 1.0\n",
    "print('Datatype of a is', type(a))\n",
    "print('Datatype of b is', type(b))"
   ]
  },
  {
   "cell_type": "markdown",
   "metadata": {},
   "source": [
    "## 1.6 Types and Casting\n",
    "\n",
    "Python will assume that we want the number to be stored as an int unless we add decimal point to it. The operation will be different that when working in other programing languages. What do you expect the datatype of a/a to be? In this case it would be the same as saying 1/1."
   ]
  },
  {
   "cell_type": "code",
   "execution_count": 14,
   "metadata": {},
   "outputs": [
    {
     "name": "stdout",
     "output_type": "stream",
     "text": [
      "Datatype of a/a is <class 'float'>\n"
     ]
    }
   ],
   "source": [
    "print('Datatype of a/a is', type(a/a))"
   ]
  },
  {
   "cell_type": "code",
   "execution_count": 15,
   "metadata": {},
   "outputs": [
    {
     "name": "stdout",
     "output_type": "stream",
     "text": [
      "Datatype of 1/1 is <class 'float'>\n"
     ]
    }
   ],
   "source": [
    "print('Datatype of 1/1 is', type(1/1))"
   ]
  },
  {
   "cell_type": "code",
   "execution_count": 16,
   "metadata": {},
   "outputs": [
    {
     "name": "stdout",
     "output_type": "stream",
     "text": [
      "2.0\n"
     ]
    }
   ],
   "source": [
    "print(2/1)"
   ]
  },
  {
   "cell_type": "markdown",
   "metadata": {},
   "source": [
    "Two types that we will cover are strings and booleans. We will talk about string in the section below but booleans is just a binary value, True or False. Binary values are used to usually define a state you may also think of it as on or off, either the light is on or the light is off. The key words True and False are used to set these states. "
   ]
  },
  {
   "cell_type": "code",
   "execution_count": 17,
   "metadata": {},
   "outputs": [
    {
     "name": "stdout",
     "output_type": "stream",
     "text": [
      "<class 'str'>\n"
     ]
    }
   ],
   "source": [
    "print(type('this'))"
   ]
  },
  {
   "cell_type": "code",
   "execution_count": 18,
   "metadata": {},
   "outputs": [
    {
     "name": "stdout",
     "output_type": "stream",
     "text": [
      "<class 'bool'>\n"
     ]
    }
   ],
   "source": [
    "print(type(True))"
   ]
  },
  {
   "cell_type": "markdown",
   "metadata": {},
   "source": [
    "The operation in python will cast out value to float being doing the applying the operation!"
   ]
  },
  {
   "cell_type": "markdown",
   "metadata": {},
   "source": [
    "## 1.7 Strings\n",
    "When code a project we may run into a situation where we may want to work with text and string would be the perfect case for this. In python String are a data type for immutable ordered dequences of characters (E.G. Letters, Numbers, Spaces and Symbols) \n",
    "\n",
    "Lets look up some examples of how to initalize a string. \n",
    "\n",
    "\n"
   ]
  },
  {
   "cell_type": "code",
   "execution_count": 19,
   "metadata": {},
   "outputs": [
    {
     "name": "stdout",
     "output_type": "stream",
     "text": [
      "Hello with single quotes\n",
      "Hello with double quotes\n"
     ]
    }
   ],
   "source": [
    "print('Hello with single quotes') # print a string with single quotes\n",
    "print(\"Hello with double quotes\") # print a string with double quotes"
   ]
  },
  {
   "cell_type": "markdown",
   "metadata": {},
   "source": [
    "We can store our string in the variable the same way we did with out numerics"
   ]
  },
  {
   "cell_type": "code",
   "execution_count": 20,
   "metadata": {},
   "outputs": [
    {
     "name": "stdout",
     "output_type": "stream",
     "text": [
      "Hello World\n"
     ]
    }
   ],
   "source": [
    "message = \"Hello World\"\n",
    "print(message)"
   ]
  },
  {
   "cell_type": "markdown",
   "metadata": {},
   "source": [
    "What happens when we want to use quotation marks in our string? "
   ]
  },
  {
   "cell_type": "code",
   "execution_count": 21,
   "metadata": {},
   "outputs": [
    {
     "name": "stdout",
     "output_type": "stream",
     "text": [
      "Here is a sentance with  inside it\n",
      "34\n"
     ]
    }
   ],
   "source": [
    "msg_quote = \"Here is a sentance with \"\" inside it\"\n",
    "print(msg_quote)\n",
    "print(len(msg_quote))"
   ]
  },
  {
   "cell_type": "markdown",
   "metadata": {},
   "source": [
    "Woah it seems that our the inner quotations marks had disappeared in our string. Lets look at the [documention](https://docs.python.org/3/reference/lexical_analysis.html#string-literal-concatenation) to see if we can find what is going on here. \n",
    "\n",
    "Here we are!\n",
    "\n",
    "Multiple adjacent string or bytes literals (delimited by whitespace), possibly using different quoting conventions, are allowed, and their meaning is the same as their concatenation. Thus, \"hello\" 'world' is equivalent to \"helloworld\". This feature can be used to reduce the number of backslashes needed, to split long strings conveniently across long lines, or even to add comments to parts of strings.\n",
    "\n",
    "Lets get first try to change the outter quotation to single quotes"
   ]
  },
  {
   "cell_type": "code",
   "execution_count": 22,
   "metadata": {},
   "outputs": [
    {
     "name": "stdout",
     "output_type": "stream",
     "text": [
      "Here is a sentance with \"\" inside it\n"
     ]
    }
   ],
   "source": [
    "msg_quote_single ='Here is a sentance with \"\" inside it'\n",
    "print(msg_quote_single)"
   ]
  },
  {
   "cell_type": "markdown",
   "metadata": {},
   "source": [
    "That seemed to have worked out great! Now an alturnative is to use our escape key which is set to /.\n",
    "See the example below and try to figure out how it works. \n"
   ]
  },
  {
   "cell_type": "code",
   "execution_count": 23,
   "metadata": {},
   "outputs": [
    {
     "name": "stdout",
     "output_type": "stream",
     "text": [
      "Here is a sentance with \"\" inside it\n"
     ]
    }
   ],
   "source": [
    "msg_quote_esc = \"Here is a sentance with \\\"\\\" inside it\"\n",
    "print(msg_quote_esc)"
   ]
  },
  {
   "cell_type": "markdown",
   "metadata": {},
   "source": [
    "Look at that! We had seem to get everything to be working now another cool thing about string is that they are able to take advantage of some of the operation that we had learned of before. \n",
    "\n",
    "## 1.8 Operators for Strings\n",
    "* The '+' operator allows the user to combine string together\n",
    "* The '*' operator allows the user to repeat strings\n",
    "\n",
    "Lets see the in action!"
   ]
  },
  {
   "cell_type": "code",
   "execution_count": 24,
   "metadata": {},
   "outputs": [
    {
     "name": "stdout",
     "output_type": "stream",
     "text": [
      "HelloWorld\n",
      "Hello World\n",
      "Hello World\n"
     ]
    }
   ],
   "source": [
    "first_word = 'Hello'\n",
    "second_word = 'World'\n",
    "print(first_word + second_word)\n",
    "print(first_word + ' ' + second_word)\n",
    "print(first_word, second_word)"
   ]
  },
  {
   "cell_type": "markdown",
   "metadata": {},
   "source": [
    "In the examples above we  us the '+' operator to be able to combine our strings, but since our string are two different word we want to make sure to add a space in between them. Lucky for us the print function allows us to take in two arguments and separate them by a space.\n",
    "\n",
    "What do you think happens when we use the '*' operator? Checkout the output from the code below"
   ]
  },
  {
   "cell_type": "code",
   "execution_count": 25,
   "metadata": {},
   "outputs": [
    {
     "name": "stdout",
     "output_type": "stream",
     "text": [
      "HelloHelloHelloHelloHello\n"
     ]
    }
   ],
   "source": [
    "print(first_word * 5) "
   ]
  },
  {
   "cell_type": "markdown",
   "metadata": {},
   "source": [
    "We see that it took our string and repeated it 5 times. \n",
    "\n",
    "Another useful fuction that is built into python is len() which will give us the length of an object.\n",
    "\n",
    "Both print() and len() are function that take in arguments but len() will return a value that we may store. Let look at an example."
   ]
  },
  {
   "cell_type": "code",
   "execution_count": 26,
   "metadata": {},
   "outputs": [
    {
     "name": "stdout",
     "output_type": "stream",
     "text": [
      "5\n"
     ]
    }
   ],
   "source": [
    "name_length = len(\"Steve\")\n",
    "print(name_length)"
   ]
  },
  {
   "cell_type": "markdown",
   "metadata": {},
   "source": [
    "Built in mean that python provide them fuction for us, where late we will be able to define our own functions."
   ]
  },
  {
   "cell_type": "markdown",
   "metadata": {},
   "source": [
    "# 1.9 Quiz Section\n",
    "## Variables Quiz\n",
    "First question is how much an able player actually make? In our example we will be trying to figure out how much steph curry actually makes. We know his gross pay is 34,682,550 and he will have to pay 10% for  escrow, 33.61% for federal taxes, 11.84% city/state taxes, 2.7% to his agent and .05% to 401k. How much is curry left with? "
   ]
  },
  {
   "cell_type": "code",
   "execution_count": 27,
   "metadata": {},
   "outputs": [],
   "source": [
    "# Try to answer the question here we will start you off with gross pay. \n",
    "Gross_pay = 34682550\n",
    "# TODO: Given gross pay figure out what Steph Curry actually makes.\n",
    "\n",
    "\n",
    "\n",
    "\n",
    "\n"
   ]
  },
  {
   "cell_type": "markdown",
   "metadata": {},
   "source": [
    "## Variables Quiz Solution"
   ]
  },
  {
   "cell_type": "code",
   "execution_count": 28,
   "metadata": {},
   "outputs": [
    {
     "name": "stdout",
     "output_type": "stream",
     "text": [
      "Expected net pay is: 18447648.345\n"
     ]
    }
   ],
   "source": [
    "Gross_pay = 34682550\n",
    "escrow = Gross_pay*.1\n",
    "fed_tax = Gross_pay*.3361\n",
    "cstate_tax = Gross_pay*.027\n",
    "invest_401k = Gross_pay*.005\n",
    "net_pay = Gross_pay - escrow - fed_tax - cstate_tax - invest_401k\n",
    "print(\"Expected net pay is:\", net_pay)"
   ]
  },
  {
   "cell_type": "markdown",
   "metadata": {},
   "source": [
    "A second way to write the code is. "
   ]
  },
  {
   "cell_type": "code",
   "execution_count": 29,
   "metadata": {},
   "outputs": [
    {
     "name": "stdout",
     "output_type": "stream",
     "text": [
      "Expected net pay is: 18447648.345\n"
     ]
    }
   ],
   "source": [
    "Gross_pay = 34682550\n",
    "net_pay = Gross_pay\n",
    "escrow = Gross_pay*.1\n",
    "net_pay -= escrow\n",
    "fed_tax = Gross_pay*.3361\n",
    "net_pay -= fed_tax\n",
    "cstate_tax = Gross_pay*.027\n",
    "net_pay -= cstate_tax\n",
    "invest_401k = Gross_pay*.005\n",
    "net_pay -= invest_401k\n",
    "print(\"Expected net pay is:\", net_pay)"
   ]
  },
  {
   "cell_type": "markdown",
   "metadata": {},
   "source": [
    "## Fix String Quiz"
   ]
  },
  {
   "cell_type": "code",
   "execution_count": 31,
   "metadata": {},
   "outputs": [
    {
     "ename": "SyntaxError",
     "evalue": "invalid syntax (<ipython-input-31-35925abacf1b>, line 2)",
     "output_type": "error",
     "traceback": [
      "\u001b[1;36m  File \u001b[1;32m\"<ipython-input-31-35925abacf1b>\"\u001b[1;36m, line \u001b[1;32m2\u001b[0m\n\u001b[1;33m    ford_quote = 'Whether you think you can, or you think you can't--you're right.'\u001b[0m\n\u001b[1;37m                                                                  ^\u001b[0m\n\u001b[1;31mSyntaxError\u001b[0m\u001b[1;31m:\u001b[0m invalid syntax\n"
     ]
    }
   ],
   "source": [
    "# TODO: Fix this string!\n",
    "ford_quote = 'Whether you think you can, or you think you can't--you're right.'\n",
    "print(ford_quote)"
   ]
  },
  {
   "cell_type": "markdown",
   "metadata": {},
   "source": [
    "## Fix String Quiz Solution"
   ]
  },
  {
   "cell_type": "code",
   "execution_count": 32,
   "metadata": {},
   "outputs": [
    {
     "name": "stdout",
     "output_type": "stream",
     "text": [
      "Whether you think you can, or you think you can't--you're right.\n"
     ]
    }
   ],
   "source": [
    "# backslash escaping\n",
    "ford_quote = 'Whether you think you can, or you think you can\\'t--you\\'re right.'\n",
    "print(ford_quote)"
   ]
  },
  {
   "cell_type": "code",
   "execution_count": 33,
   "metadata": {},
   "outputs": [
    {
     "name": "stdout",
     "output_type": "stream",
     "text": [
      "Whether you think you can, or you think you can't--you're right.\n"
     ]
    }
   ],
   "source": [
    "# double quotes\n",
    "ford_quote = \"Whether you think you can, or you think you can't--you're right.\"\n",
    "print(ford_quote)"
   ]
  },
  {
   "cell_type": "markdown",
   "metadata": {},
   "source": [
    "## Write a Server Log Message Quiz"
   ]
  },
  {
   "cell_type": "code",
   "execution_count": 34,
   "metadata": {},
   "outputs": [],
   "source": [
    "## Write a Server Log Message\n",
    "username = \"Curry\"\n",
    "timestamp = \"06:47\"\n",
    "url = \"http://ymail.com/news\"\n",
    "\n",
    "# TODO: print a log message using the variables above.\n",
    "# The message should have the same format as this one:\n",
    "# \"Tom accessed the site http://petshop.com/pets/reptiles/pythons at 16:20.\""
   ]
  },
  {
   "cell_type": "markdown",
   "metadata": {},
   "source": [
    "## Write a Server Log Message Quiz Solution"
   ]
  },
  {
   "cell_type": "code",
   "execution_count": 35,
   "metadata": {},
   "outputs": [
    {
     "name": "stdout",
     "output_type": "stream",
     "text": [
      "Curry accessed the site http://ymail.com/news at 06:47.\n"
     ]
    }
   ],
   "source": [
    "# entering our args into print function\n",
    "print(username, 'accessed the site', url, 'at', timestamp+'.')\n"
   ]
  },
  {
   "cell_type": "code",
   "execution_count": 36,
   "metadata": {},
   "outputs": [
    {
     "name": "stdout",
     "output_type": "stream",
     "text": [
      "Curry accessed the site http://ymail.com/news at 06:47.\n"
     ]
    }
   ],
   "source": [
    "# concatenating string for the message object \n",
    "log_msg = username + ' accessed the site ' + url + ' at ' + timestamp + '.'\n",
    "print(log_msg)"
   ]
  },
  {
   "cell_type": "markdown",
   "metadata": {},
   "source": [
    "## Type and Casting Quiz\n",
    "Give our two inputs please used casting to print out the value 15 and 6"
   ]
  },
  {
   "cell_type": "code",
   "execution_count": 37,
   "metadata": {},
   "outputs": [],
   "source": [
    "# Here are your inputs \n",
    "input1 = '1'\n",
    "input2 = 5\n",
    "# TODO: print values 15 and 6 using input1 and input2"
   ]
  },
  {
   "cell_type": "markdown",
   "metadata": {},
   "source": [
    "## Type and Casting Quiz Solution"
   ]
  },
  {
   "cell_type": "code",
   "execution_count": 39,
   "metadata": {},
   "outputs": [
    {
     "name": "stdout",
     "output_type": "stream",
     "text": [
      "15\n",
      "6\n"
     ]
    }
   ],
   "source": [
    "print(input1 + str(input2))\n",
    "print(int(input1) + input2)"
   ]
  }
 ],
 "metadata": {
  "kernelspec": {
   "display_name": "Python 3",
   "language": "python",
   "name": "python3"
  },
  "language_info": {
   "codemirror_mode": {
    "name": "ipython",
    "version": 3
   },
   "file_extension": ".py",
   "mimetype": "text/x-python",
   "name": "python",
   "nbconvert_exporter": "python",
   "pygments_lexer": "ipython3",
   "version": "3.7.1"
  }
 },
 "nbformat": 4,
 "nbformat_minor": 2
}
