{
 "cells": [
  {
   "cell_type": "markdown",
   "metadata": {},
   "source": [
    "# 5 Functions\n",
    "Welcome to this lesson on Functions! You'll learn about:\n",
    "\n",
    "* Defining Functions\n",
    "* Variable Scope\n",
    "* Documentation\n",
    "* Lambda Expressions\n",
    "* Iterators and Generators\n",
    "\n",
    "You can think about functions as a way to take what you have already learned how to do, and put it in a holder that allows you to use it over and over again in an easy to use container.\n",
    "Functions are useful chunks of code tht allow you to encapsulate a task. Encapsulation is a way to carry out a while series of steps with one simple command. Say we would like to deleiver "
   ]
  },
  {
   "cell_type": "markdown",
   "metadata": {},
   "source": [
    "## 5.1 Defining Functions\n",
    "### 5.1.1 Functions Examples\n",
    "Lets define the cylinder_volume function"
   ]
  },
  {
   "cell_type": "code",
   "execution_count": 1,
   "metadata": {},
   "outputs": [],
   "source": [
    "def cylinder_volume(height, radius):\n",
    "    pi = 3.14159\n",
    "    return height * pi * radius ** 2"
   ]
  },
  {
   "cell_type": "markdown",
   "metadata": {},
   "source": [
    "After defining the cylinder_volume function, we can call the function like this."
   ]
  },
  {
   "cell_type": "code",
   "execution_count": 2,
   "metadata": {},
   "outputs": [
    {
     "data": {
      "text/plain": [
       "282.7431"
      ]
     },
     "execution_count": 2,
     "metadata": {},
     "output_type": "execute_result"
    }
   ],
   "source": [
    "cylinder_volume(10, 3)"
   ]
  },
  {
   "cell_type": "markdown",
   "metadata": {},
   "source": [
    "This is called a __function call__ statement.\n",
    "\n",
    "### 5.1.2 Defining Functions\n",
    "A function definition includes several important parts."
   ]
  },
  {
   "cell_type": "markdown",
   "metadata": {},
   "source": [
    "* Function Header\n",
    "  Let's start with the function header, which is the first line of a function definition.\n",
    "\n",
    "   1. The function header always starts with the def keyword, which indicates that this is a function definition.\n",
    "   2. Then comes the function name (here, cylinder_volume), which follows the same naming conventions as variables. You can revisit the naming conventions below.\n",
    "   3. Immediately after the name are parentheses that may include arguments separated by commas (here, height and radius). Arguments, or parameters, are values that are passed in as inputs when the function is called, and are used in the function body. If a function doesn't take arguments, these parentheses are left empty.\n",
    "   4. The header always end with a colon :.\n",
    "   \n",
    "* Function Body\n",
    "  The rest of the function is contained in the body, which is where the function does its work.\n",
    "\n",
    "   1. The body of a function is the code indented after the header line. Here, it's the two lines that define pi and return the volume.\n",
    "   2. Within this body, we can refer to the argument variables and define new variables, which can only be used within these indented lines.\n",
    "   3. The body will often include a return statement, which is used to send back an output value from the function to the statement that called the function. A return statement consists of the return keyword followed by an expression that is evaluated to get the output value for the function. If there is no return statement, the function simply returns None.\n",
    "\n",
    "* Naming Conventions for Functions\n",
    "  Function names follow the same naming conventions as variables.\n",
    "\n",
    "   1. Only use ordinary letters, numbers and underscores in your function names. They can’t have spaces, and need to start with a letter or underscore.\n",
    "   2. You can’t use reserved words or built-in identifiers that have important purposes in Python, which you’ll learn about throughout this course. A list of Python reserved words is described [here](https://pentangle.net/python/handbook/node52.html).\n",
    "   3. Try to use descriptive names that can help readers understand what the function does.\n",
    "QUESTION 1 OF 2"
   ]
  },
  {
   "cell_type": "markdown",
   "metadata": {},
   "source": [
    "### 5.1.3 Default Arguments\n",
    "We can add default arguments in a function to have default values for parameters that are unspecified in a function call."
   ]
  },
  {
   "cell_type": "code",
   "execution_count": 3,
   "metadata": {},
   "outputs": [],
   "source": [
    "def cylinder_volume(height, radius=5):\n",
    "    pi = 3.14159\n",
    "    return height * pi * radius ** 2"
   ]
  },
  {
   "cell_type": "markdown",
   "metadata": {},
   "source": [
    "In the example above, <code>radius</code> is set to 5 if that parameter is omitted in a function call. If we call <code>cylinder_volume(10)</code>, the function will use 10 as the height and 5 as the radius. However, if we call <code>cylinder_volume(10, 7)</code> the 7 will simply overwrite the default value of 5.\n",
    "\n",
    "Also notice here we are passing values to our arguments by position. It is possible to pass values in two ways - by position and by name. Each of these function calls are evaluated the same way."
   ]
  },
  {
   "cell_type": "code",
   "execution_count": 4,
   "metadata": {},
   "outputs": [
    {
     "name": "stdout",
     "output_type": "stream",
     "text": [
      "1539.3791\n",
      "1539.3791\n"
     ]
    }
   ],
   "source": [
    "print(cylinder_volume(10, 7))  # pass in arguments by position\n",
    "print(cylinder_volume(height=10, radius=7))  # pass in arguments by name"
   ]
  },
  {
   "cell_type": "markdown",
   "metadata": {},
   "source": [
    "### 5.2 Variable Scope\n",
    "Variable scope refers to which parts of a program a variable can be referenced, or used, from.\n",
    "\n",
    "It's important to consider scope when using variables in functions. If a variable is created inside a function, it can only be used within that function. Accessing it outside that function is not possible.\n",
    "\n"
   ]
  },
  {
   "cell_type": "code",
   "execution_count": null,
   "metadata": {},
   "outputs": [],
   "source": [
    "# This will result in an error\n",
    "def do_something():\n",
    "    word = \"hello\"\n",
    "\n",
    "print(word)"
   ]
  },
  {
   "cell_type": "markdown",
   "metadata": {},
   "source": [
    "In the example above and the example below, <code>word</code> is said to have scope that is only __local__ to each function. This means you can use the same name for different variables that are used in different functions."
   ]
  },
  {
   "cell_type": "code",
   "execution_count": 5,
   "metadata": {},
   "outputs": [],
   "source": [
    "# This works fine\n",
    "def some_function():\n",
    "    word = \"hello\"\n",
    "\n",
    "def another_function():\n",
    "    word = \"goodbye\""
   ]
  },
  {
   "cell_type": "markdown",
   "metadata": {},
   "source": [
    "Variables defined outside functions, as in the example below, can still be accessed within a function. Here, word is said to have a global scope."
   ]
  },
  {
   "cell_type": "code",
   "execution_count": null,
   "metadata": {},
   "outputs": [],
   "source": [
    "# This works fine\n",
    "word = \"hello\"\n",
    "\n",
    "def some_function():\n",
    "    print(word)\n",
    "\n",
    "some_function()"
   ]
  },
  {
   "cell_type": "markdown",
   "metadata": {},
   "source": [
    "tice that we can still access the value of the global variable word within this function. However, the value of a global variable can not be modified inside the function. If you want to modify that variable's value inside this function, it should be passed in as an argument. \n",
    "\n"
   ]
  },
  {
   "cell_type": "code",
   "execution_count": 6,
   "metadata": {},
   "outputs": [
    {
     "name": "stdout",
     "output_type": "stream",
     "text": [
      "world\n"
     ]
    }
   ],
   "source": [
    "# Global variable \n",
    "word = \"hello\"\n",
    "\n",
    "def some_function():\n",
    "    # Local variable\n",
    "    word = \"world\"\n",
    "    print(word)\n",
    "\n",
    "some_function()"
   ]
  },
  {
   "cell_type": "markdown",
   "metadata": {},
   "source": [
    "Local variables will replace our global variables in the scope of <code>some_function</code>."
   ]
  },
  {
   "cell_type": "code",
   "execution_count": 7,
   "metadata": {},
   "outputs": [
    {
     "ename": "UnboundLocalError",
     "evalue": "local variable 'egg_count' referenced before assignment",
     "output_type": "error",
     "traceback": [
      "\u001b[1;31m---------------------------------------------------------------------------\u001b[0m",
      "\u001b[1;31mUnboundLocalError\u001b[0m                         Traceback (most recent call last)",
      "\u001b[1;32m<ipython-input-7-32dca0f4d031>\u001b[0m in \u001b[0;36m<module>\u001b[1;34m\u001b[0m\n\u001b[0;32m      4\u001b[0m     \u001b[0megg_count\u001b[0m \u001b[1;33m+=\u001b[0m \u001b[1;36m12\u001b[0m \u001b[1;31m# purchase a dozen eggs\u001b[0m\u001b[1;33m\u001b[0m\u001b[1;33m\u001b[0m\u001b[0m\n\u001b[0;32m      5\u001b[0m \u001b[1;33m\u001b[0m\u001b[0m\n\u001b[1;32m----> 6\u001b[1;33m \u001b[0mbuy_eggs\u001b[0m\u001b[1;33m(\u001b[0m\u001b[1;33m)\u001b[0m\u001b[1;33m\u001b[0m\u001b[1;33m\u001b[0m\u001b[0m\n\u001b[0m",
      "\u001b[1;32m<ipython-input-7-32dca0f4d031>\u001b[0m in \u001b[0;36mbuy_eggs\u001b[1;34m()\u001b[0m\n\u001b[0;32m      2\u001b[0m \u001b[1;33m\u001b[0m\u001b[0m\n\u001b[0;32m      3\u001b[0m \u001b[1;32mdef\u001b[0m \u001b[0mbuy_eggs\u001b[0m\u001b[1;33m(\u001b[0m\u001b[1;33m)\u001b[0m\u001b[1;33m:\u001b[0m\u001b[1;33m\u001b[0m\u001b[1;33m\u001b[0m\u001b[0m\n\u001b[1;32m----> 4\u001b[1;33m     \u001b[0megg_count\u001b[0m \u001b[1;33m+=\u001b[0m \u001b[1;36m12\u001b[0m \u001b[1;31m# purchase a dozen eggs\u001b[0m\u001b[1;33m\u001b[0m\u001b[1;33m\u001b[0m\u001b[0m\n\u001b[0m\u001b[0;32m      5\u001b[0m \u001b[1;33m\u001b[0m\u001b[0m\n\u001b[0;32m      6\u001b[0m \u001b[0mbuy_eggs\u001b[0m\u001b[1;33m(\u001b[0m\u001b[1;33m)\u001b[0m\u001b[1;33m\u001b[0m\u001b[1;33m\u001b[0m\u001b[0m\n",
      "\u001b[1;31mUnboundLocalError\u001b[0m: local variable 'egg_count' referenced before assignment"
     ]
    }
   ],
   "source": [
    "# Global variable \n",
    "egg_count = 0\n",
    "\n",
    "def buy_eggs():\n",
    "    egg_count += 12 # purchase a dozen eggs\n",
    "\n",
    "buy_eggs()"
   ]
  },
  {
   "cell_type": "markdown",
   "metadata": {},
   "source": [
    "The code above causes an <code>UnboundLocalError</code>, since Python doesn't allow functions to modify variables that are outside the function's scope. A better way would be to pass the variable as an argument and reassign it outside the function. Note that it is not passed as an argument into the function, so the function assumes the egg_count being referred to is the global variable.\n",
    "\n",
    "We saw that within a function, we can print a global variable's value successfully without an error. This worked because we were simply accessing the value of the variable. If we try to change or reassign this global variable, however, as we do in this code, we get an error. Python doesn't allow functions to modify variables that aren't in the function's scope.\n",
    "\n",
    "A better way to write this would be:"
   ]
  },
  {
   "cell_type": "code",
   "execution_count": null,
   "metadata": {},
   "outputs": [],
   "source": [
    "egg_count = 0\n",
    "\n",
    "def buy_eggs(count):\n",
    "    return count + 12  # purchase a dozen eggs\n",
    "\n",
    "egg_count = buy_eggs(egg_count)"
   ]
  },
  {
   "cell_type": "markdown",
   "metadata": {},
   "source": [
    "Scope is essential to understanding how information is passed throughout programs in Python and really any programming language.\n",
    "\n",
    "When you program, you'll often find that similar ideas come up again and again. You'll use variables for things like counting, iterating and accumulating values to return. In order to write readable code, you'll find yourself wanting to use similar names for similar ideas. As soon as you put multiple piece of code together (for instance, multiple functions or function calls in a single script) you might find that you want to use the same name for two separate concepts.\n",
    "\n",
    "Fortunately, you don't need to come up with new names endlessly. Reusing names for objects is OK as long as you keep them in separate scope.\n",
    "\n",
    "__Good practice:__ It is best to define variables in the smallest scope they will be needed in. While functions can refer to variables defined in a larger scope, this is very rarely a good idea since you may not know what variables you have defined if your program has a lot of variables."
   ]
  },
  {
   "cell_type": "markdown",
   "metadata": {},
   "source": [
    "# 5.2 Documentation\n",
    "Documentation is used to make your code easier to understand and use. Functions are especially readable because they often use documentation strings, or docstrings. Docstrings are a type of comment used to explain the purpose of a function, and how it should be used. Here's a function for population density with a docstring. Lets see an example"
   ]
  },
  {
   "cell_type": "code",
   "execution_count": null,
   "metadata": {},
   "outputs": [],
   "source": [
    "def population_density(population, land_area):\n",
    "    \"\"\"Calculate the population density of an area. \"\"\"\n",
    "    return population / land_area"
   ]
  },
  {
   "cell_type": "markdown",
   "metadata": {},
   "source": [
    "The docstrings are surrounded by triple quotes. The first line of the docstring is a brief explanation of the function's purpose. If you feel that this is sufficient documentation you can end the docstring at this point; single line docstrings are perfectly acceptable, as in the example above."
   ]
  },
  {
   "cell_type": "code",
   "execution_count": null,
   "metadata": {},
   "outputs": [],
   "source": [
    "def population_density(population, land_area):\n",
    "    \"\"\"Calculate the population density of an area.\n",
    "\n",
    "    INPUT:\n",
    "    population: int. The population of that area\n",
    "    land_area: int or float. This function is unit-agnostic, if you pass in values in terms\n",
    "    of square km or square miles the function will return a density in those units.\n",
    "\n",
    "    OUTPUT: \n",
    "    population_density: population / land_area. The population density of a particular area.\n",
    "    \"\"\"\n",
    "    return population / land_area"
   ]
  },
  {
   "cell_type": "markdown",
   "metadata": {},
   "source": [
    "If you think that a longer description would be appropriate for the function, you can add more information after the one-line summary. In the example above, you can see that we wrote an explanation of the function's arguments, stating the purpose and types of each one. It's also common to provide some description of the function's output.\n",
    "\n",
    "Every piece of the docstring is optional, however, docstrings are a part of good coding practice. You can read more about docstring conventions [here](https://www.python.org/dev/peps/pep-0257).\n",
    "\n",
    "Below we will have some examples of how you may have written your docstring!"
   ]
  },
  {
   "cell_type": "code",
   "execution_count": null,
   "metadata": {},
   "outputs": [],
   "source": [
    "def readable_timedelta(days):\n",
    "    \"\"\"Return a string of the number of weeks and days included in days.\"\"\"\n",
    "    weeks = days // 7\n",
    "    remainder = days % 7\n",
    "    return \"{} week(s) and {} day(s)\".format(weeks, remainder)"
   ]
  },
  {
   "cell_type": "code",
   "execution_count": null,
   "metadata": {},
   "outputs": [],
   "source": [
    "def readable_timedelta(days):\n",
    "    \"\"\"Return a string of the number of weeks and days included in days.\n",
    "\n",
    "    Args:\n",
    "        days (int): number of days to convert\n",
    "    \"\"\"\n",
    "    weeks = days // 7\n",
    "    remainder = days % 7\n",
    "    return \"{} week(s) and {} day(s)\".format(weeks, remainder)"
   ]
  },
  {
   "cell_type": "code",
   "execution_count": null,
   "metadata": {},
   "outputs": [],
   "source": [
    "def readable_timedelta(days):\n",
    "    \"\"\"\n",
    "    Return a string of the number of weeks and days included in days.\n",
    "\n",
    "    Parameters:\n",
    "    days -- number of days to convert (int)\n",
    "\n",
    "    Returns:\n",
    "    string of the number of weeks and days included in days\n",
    "    \"\"\"\n",
    "    weeks = days // 7\n",
    "    remainder = days % 7\n",
    "    return \"{} week(s) and {} day(s)\".format(weeks, remainder)"
   ]
  },
  {
   "cell_type": "markdown",
   "metadata": {},
   "source": [
    "# 5.3 Lambda Expression\n",
    "In python we can use lambda expressions to create anonymous functions. "
   ]
  },
  {
   "cell_type": "code",
   "execution_count": null,
   "metadata": {},
   "outputs": [],
   "source": []
  },
  {
   "cell_type": "markdown",
   "metadata": {},
   "source": [
    "## Quiz\n",
    "### Quiz 5.1.1 Check for Understanding of Concepts 1\n",
    "What is the outcome of the code below?"
   ]
  },
  {
   "cell_type": "code",
   "execution_count": null,
   "metadata": {},
   "outputs": [],
   "source": [
    "str1 = 'Functions are important programming concepts.'\n",
    "\n",
    "def print_fn():\n",
    "    str1 = 'Variable scope is an important concept.'\n",
    "    print(str1)\n",
    "\n",
    "print_fn()"
   ]
  },
  {
   "cell_type": "markdown",
   "metadata": {},
   "source": [
    "### Quiz 5.1. Check for Understanding of Concepts 1 Solution\n",
    "When we call the function, we use str1 = 'Variable scope is an important concept.' which has a local variable scope and print the new str1 the following line."
   ]
  },
  {
   "cell_type": "markdown",
   "metadata": {},
   "source": [
    "### Quiz 5.1.2 Check for Understanding of Concepts 2\n",
    "Now let's say we tweak the code a bit and comment out str1 = 'Variable scope is an important concept.'. What should be the output of our code below?"
   ]
  },
  {
   "cell_type": "code",
   "execution_count": null,
   "metadata": {},
   "outputs": [],
   "source": [
    "str1 = 'Functions are important programming concepts.'\n",
    "\n",
    "def print_fn():\n",
    "    #str1 = 'Variable scope is an important concept.'\n",
    "    print(str1)\n",
    "\n",
    "print_fn()"
   ]
  },
  {
   "cell_type": "markdown",
   "metadata": {},
   "source": [
    "### Quiz 5.1.2 Check for Understanding of Concepts 2 Solution \n",
    "When we comment out #str1 = 'Variable scope is an important concept.' we are basically removing its local scope. However, since str1 = 'Functions are important programming concepts.' has global scope, when we call the function it will print it because of the global scope."
   ]
  },
  {
   "cell_type": "markdown",
   "metadata": {},
   "source": [
    "### Quiz 5.1.3 Check for Understanding of Concepts 3\n",
    "Now let's say we tweak the code a bit and comment out str1 = 'Variable scope is an important concept.'. What should be the output of our code below?"
   ]
  },
  {
   "cell_type": "code",
   "execution_count": null,
   "metadata": {},
   "outputs": [],
   "source": [
    "def print_fn():\n",
    "    str1 = 'Variable scope is an important concept.'\n",
    "    print(str1)\n",
    "\n",
    "print_fn(str1)"
   ]
  },
  {
   "cell_type": "markdown",
   "metadata": {},
   "source": [
    "The function definition did not have any arguments. So it will give us an error."
   ]
  },
  {
   "cell_type": "markdown",
   "metadata": {},
   "source": [
    "### Quiz 5.1.3 Check for Understanding of Concepts 3"
   ]
  },
  {
   "cell_type": "code",
   "execution_count": null,
   "metadata": {},
   "outputs": [],
   "source": []
  },
  {
   "cell_type": "code",
   "execution_count": null,
   "metadata": {},
   "outputs": [],
   "source": []
  }
 ],
 "metadata": {
  "kernelspec": {
   "display_name": "Python 3",
   "language": "python",
   "name": "python3"
  },
  "language_info": {
   "codemirror_mode": {
    "name": "ipython",
    "version": 3
   },
   "file_extension": ".py",
   "mimetype": "text/x-python",
   "name": "python",
   "nbconvert_exporter": "python",
   "pygments_lexer": "ipython3",
   "version": "3.7.1"
  }
 },
 "nbformat": 4,
 "nbformat_minor": 2
}
